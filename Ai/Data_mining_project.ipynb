{
  "cells": [
    {
      "cell_type": "markdown",
      "metadata": {
        "colab_type": "text",
        "id": "view-in-github"
      },
      "source": [
        "<a href=\"https://colab.research.google.com/github/hassanimran02/Expenses-Forecasting/blob/main/Data_mining_project.ipynb\" target=\"_parent\"><img src=\"https://colab.research.google.com/assets/colab-badge.svg\" alt=\"Open In Colab\"/></a>"
      ]
    },
    {
      "cell_type": "code",
      "execution_count": 170,
      "id": "41926dba",
      "metadata": {
        "id": "41926dba"
      },
      "outputs": [],
      "source": [
        "import pandas as pd\n",
        "import numpy as np\n",
        "from sklearn.model_selection import train_test_split\n",
        "from sklearn.tree import DecisionTreeRegressor\n",
        "from sklearn.metrics import mean_squared_error"
      ]
    },
    {
      "cell_type": "code",
      "execution_count": 171,
      "id": "91a1da30",
      "metadata": {
        "id": "91a1da30"
      },
      "outputs": [],
      "source": [
        "from pandas.core import resample as rp"
      ]
    },
    {
      "cell_type": "code",
      "execution_count": 172,
      "id": "b244eb27",
      "metadata": {
        "id": "b244eb27"
      },
      "outputs": [],
      "source": [
        "import plotly.express as px\n",
        "import matplotlib\n",
        "import matplotlib.pyplot as plt\n",
        "import seaborn as sns\n",
        "%matplotlib inline\n",
        "\n",
        "sns.set_style('darkgrid')\n",
        "matplotlib.rcParams['font.size'] = 14\n",
        "matplotlib.rcParams['figure.figsize'] = (10, 6)\n",
        "matplotlib.rcParams['figure.facecolor'] = '#00000000'"
      ]
    },
    {
      "cell_type": "code",
      "execution_count": 173,
      "id": "58a62a87",
      "metadata": {
        "id": "58a62a87"
      },
      "outputs": [],
      "source": [
        "expense_df = pd.read_csv(\"./Dataset/expense_data_1.csv\")"
      ]
    },
    {
      "cell_type": "code",
      "execution_count": 174,
      "id": "71681c1b",
      "metadata": {
        "id": "71681c1b",
        "outputId": "4c69104d-8d3b-4ae7-c8f3-e16e0c0d537a"
      },
      "outputs": [
        {
          "data": {
            "text/html": [
              "<div>\n",
              "<style scoped>\n",
              "    .dataframe tbody tr th:only-of-type {\n",
              "        vertical-align: middle;\n",
              "    }\n",
              "\n",
              "    .dataframe tbody tr th {\n",
              "        vertical-align: top;\n",
              "    }\n",
              "\n",
              "    .dataframe thead th {\n",
              "        text-align: right;\n",
              "    }\n",
              "</style>\n",
              "<table border=\"1\" class=\"dataframe\">\n",
              "  <thead>\n",
              "    <tr style=\"text-align: right;\">\n",
              "      <th></th>\n",
              "      <th>Date</th>\n",
              "      <th>Account</th>\n",
              "      <th>Category</th>\n",
              "      <th>Subcategory</th>\n",
              "      <th>Note</th>\n",
              "      <th>INR</th>\n",
              "      <th>Income/Expense</th>\n",
              "      <th>Note.1</th>\n",
              "      <th>Amount</th>\n",
              "      <th>Currency</th>\n",
              "      <th>Account.1</th>\n",
              "    </tr>\n",
              "  </thead>\n",
              "  <tbody>\n",
              "    <tr>\n",
              "      <th>0</th>\n",
              "      <td>3/2/2022 10:11</td>\n",
              "      <td>CUB - online payment</td>\n",
              "      <td>Food</td>\n",
              "      <td>NaN</td>\n",
              "      <td>Brownie</td>\n",
              "      <td>50.0</td>\n",
              "      <td>Expense</td>\n",
              "      <td>NaN</td>\n",
              "      <td>50.0</td>\n",
              "      <td>INR</td>\n",
              "      <td>50.0</td>\n",
              "    </tr>\n",
              "    <tr>\n",
              "      <th>1</th>\n",
              "      <td>3/2/2022 10:11</td>\n",
              "      <td>CUB - online payment</td>\n",
              "      <td>Other</td>\n",
              "      <td>NaN</td>\n",
              "      <td>To lended people</td>\n",
              "      <td>300.0</td>\n",
              "      <td>Expense</td>\n",
              "      <td>NaN</td>\n",
              "      <td>300.0</td>\n",
              "      <td>INR</td>\n",
              "      <td>300.0</td>\n",
              "    </tr>\n",
              "    <tr>\n",
              "      <th>2</th>\n",
              "      <td>3/1/2022 19:50</td>\n",
              "      <td>CUB - online payment</td>\n",
              "      <td>Food</td>\n",
              "      <td>NaN</td>\n",
              "      <td>Dinner</td>\n",
              "      <td>78.0</td>\n",
              "      <td>Expense</td>\n",
              "      <td>NaN</td>\n",
              "      <td>78.0</td>\n",
              "      <td>INR</td>\n",
              "      <td>78.0</td>\n",
              "    </tr>\n",
              "    <tr>\n",
              "      <th>3</th>\n",
              "      <td>3/1/2022 18:56</td>\n",
              "      <td>CUB - online payment</td>\n",
              "      <td>Transportation</td>\n",
              "      <td>NaN</td>\n",
              "      <td>Metro</td>\n",
              "      <td>30.0</td>\n",
              "      <td>Expense</td>\n",
              "      <td>NaN</td>\n",
              "      <td>30.0</td>\n",
              "      <td>INR</td>\n",
              "      <td>30.0</td>\n",
              "    </tr>\n",
              "    <tr>\n",
              "      <th>4</th>\n",
              "      <td>3/1/2022 18:22</td>\n",
              "      <td>CUB - online payment</td>\n",
              "      <td>Food</td>\n",
              "      <td>NaN</td>\n",
              "      <td>Snacks</td>\n",
              "      <td>67.0</td>\n",
              "      <td>Expense</td>\n",
              "      <td>NaN</td>\n",
              "      <td>67.0</td>\n",
              "      <td>INR</td>\n",
              "      <td>67.0</td>\n",
              "    </tr>\n",
              "    <tr>\n",
              "      <th>...</th>\n",
              "      <td>...</td>\n",
              "      <td>...</td>\n",
              "      <td>...</td>\n",
              "      <td>...</td>\n",
              "      <td>...</td>\n",
              "      <td>...</td>\n",
              "      <td>...</td>\n",
              "      <td>...</td>\n",
              "      <td>...</td>\n",
              "      <td>...</td>\n",
              "      <td>...</td>\n",
              "    </tr>\n",
              "    <tr>\n",
              "      <th>272</th>\n",
              "      <td>11/22/2021 14:16</td>\n",
              "      <td>CUB - online payment</td>\n",
              "      <td>Food</td>\n",
              "      <td>NaN</td>\n",
              "      <td>Dinner</td>\n",
              "      <td>90.0</td>\n",
              "      <td>Expense</td>\n",
              "      <td>NaN</td>\n",
              "      <td>90.0</td>\n",
              "      <td>INR</td>\n",
              "      <td>90.0</td>\n",
              "    </tr>\n",
              "    <tr>\n",
              "      <th>273</th>\n",
              "      <td>11/22/2021 14:16</td>\n",
              "      <td>CUB - online payment</td>\n",
              "      <td>Food</td>\n",
              "      <td>NaN</td>\n",
              "      <td>Lunch with company</td>\n",
              "      <td>97.0</td>\n",
              "      <td>Expense</td>\n",
              "      <td>NaN</td>\n",
              "      <td>97.0</td>\n",
              "      <td>INR</td>\n",
              "      <td>97.0</td>\n",
              "    </tr>\n",
              "    <tr>\n",
              "      <th>274</th>\n",
              "      <td>11/21/2021 17:07</td>\n",
              "      <td>CUB - online payment</td>\n",
              "      <td>Transportation</td>\n",
              "      <td>NaN</td>\n",
              "      <td>Rapido</td>\n",
              "      <td>130.0</td>\n",
              "      <td>Expense</td>\n",
              "      <td>NaN</td>\n",
              "      <td>130.0</td>\n",
              "      <td>INR</td>\n",
              "      <td>130.0</td>\n",
              "    </tr>\n",
              "    <tr>\n",
              "      <th>275</th>\n",
              "      <td>11/21/2021 15:50</td>\n",
              "      <td>CUB - online payment</td>\n",
              "      <td>Food</td>\n",
              "      <td>NaN</td>\n",
              "      <td>Lunch</td>\n",
              "      <td>875.0</td>\n",
              "      <td>Expense</td>\n",
              "      <td>NaN</td>\n",
              "      <td>875.0</td>\n",
              "      <td>INR</td>\n",
              "      <td>875.0</td>\n",
              "    </tr>\n",
              "    <tr>\n",
              "      <th>276</th>\n",
              "      <td>11/21/2021 13:30</td>\n",
              "      <td>CUB - online payment</td>\n",
              "      <td>Other</td>\n",
              "      <td>NaN</td>\n",
              "      <td>Got from gobi</td>\n",
              "      <td>2000.0</td>\n",
              "      <td>Income</td>\n",
              "      <td>NaN</td>\n",
              "      <td>2000.0</td>\n",
              "      <td>INR</td>\n",
              "      <td>2000.0</td>\n",
              "    </tr>\n",
              "  </tbody>\n",
              "</table>\n",
              "<p>277 rows × 11 columns</p>\n",
              "</div>"
            ],
            "text/plain": [
              "                 Date               Account        Category  Subcategory  \\\n",
              "0      3/2/2022 10:11  CUB - online payment            Food          NaN   \n",
              "1      3/2/2022 10:11  CUB - online payment           Other          NaN   \n",
              "2      3/1/2022 19:50  CUB - online payment            Food          NaN   \n",
              "3      3/1/2022 18:56  CUB - online payment  Transportation          NaN   \n",
              "4      3/1/2022 18:22  CUB - online payment            Food          NaN   \n",
              "..                ...                   ...             ...          ...   \n",
              "272  11/22/2021 14:16  CUB - online payment            Food          NaN   \n",
              "273  11/22/2021 14:16  CUB - online payment            Food          NaN   \n",
              "274  11/21/2021 17:07  CUB - online payment  Transportation          NaN   \n",
              "275  11/21/2021 15:50  CUB - online payment            Food          NaN   \n",
              "276  11/21/2021 13:30  CUB - online payment           Other          NaN   \n",
              "\n",
              "                   Note     INR Income/Expense  Note.1  Amount Currency  \\\n",
              "0               Brownie    50.0        Expense     NaN    50.0      INR   \n",
              "1      To lended people   300.0        Expense     NaN   300.0      INR   \n",
              "2                Dinner    78.0        Expense     NaN    78.0      INR   \n",
              "3                 Metro    30.0        Expense     NaN    30.0      INR   \n",
              "4                Snacks    67.0        Expense     NaN    67.0      INR   \n",
              "..                  ...     ...            ...     ...     ...      ...   \n",
              "272              Dinner    90.0        Expense     NaN    90.0      INR   \n",
              "273  Lunch with company    97.0        Expense     NaN    97.0      INR   \n",
              "274              Rapido   130.0        Expense     NaN   130.0      INR   \n",
              "275               Lunch   875.0        Expense     NaN   875.0      INR   \n",
              "276       Got from gobi  2000.0         Income     NaN  2000.0      INR   \n",
              "\n",
              "     Account.1  \n",
              "0         50.0  \n",
              "1        300.0  \n",
              "2         78.0  \n",
              "3         30.0  \n",
              "4         67.0  \n",
              "..         ...  \n",
              "272       90.0  \n",
              "273       97.0  \n",
              "274      130.0  \n",
              "275      875.0  \n",
              "276     2000.0  \n",
              "\n",
              "[277 rows x 11 columns]"
            ]
          },
          "execution_count": 174,
          "metadata": {},
          "output_type": "execute_result"
        }
      ],
      "source": [
        "expense_df"
      ]
    },
    {
      "cell_type": "code",
      "execution_count": 175,
      "id": "f1e1ab8b",
      "metadata": {},
      "outputs": [
        {
          "data": {
            "text/plain": [
              "Category\n",
              "Food                156\n",
              "Other                60\n",
              "Transportation       31\n",
              "Apparel               7\n",
              "Household             6\n",
              "Allowance             6\n",
              "Social Life           5\n",
              "Education             1\n",
              "Salary                1\n",
              "Self-development      1\n",
              "Beauty                1\n",
              "Gift                  1\n",
              "Petty cash            1\n",
              "Name: count, dtype: int64"
            ]
          },
          "execution_count": 175,
          "metadata": {},
          "output_type": "execute_result"
        }
      ],
      "source": [
        "expense_df['Category'].value_counts()"
      ]
    },
    {
      "cell_type": "code",
      "execution_count": 176,
      "id": "55b2c3fd",
      "metadata": {
        "id": "55b2c3fd",
        "outputId": "3799cb92-6f55-4913-89bb-2ed1dfd25cfa"
      },
      "outputs": [
        {
          "data": {
            "text/plain": [
              "Date               object\n",
              "Account            object\n",
              "Category           object\n",
              "Subcategory       float64\n",
              "Note               object\n",
              "INR               float64\n",
              "Income/Expense     object\n",
              "Note.1            float64\n",
              "Amount            float64\n",
              "Currency           object\n",
              "Account.1         float64\n",
              "dtype: object"
            ]
          },
          "execution_count": 176,
          "metadata": {},
          "output_type": "execute_result"
        }
      ],
      "source": [
        "expense_df.dtypes"
      ]
    },
    {
      "cell_type": "code",
      "execution_count": 177,
      "id": "a9011dd7",
      "metadata": {
        "id": "a9011dd7",
        "outputId": "a2c5ce38-0d64-443a-afd7-321c338495f7"
      },
      "outputs": [
        {
          "name": "stdout",
          "output_type": "stream",
          "text": [
            "<class 'pandas.core.frame.DataFrame'>\n",
            "RangeIndex: 277 entries, 0 to 276\n",
            "Data columns (total 11 columns):\n",
            " #   Column          Non-Null Count  Dtype  \n",
            "---  ------          --------------  -----  \n",
            " 0   Date            277 non-null    object \n",
            " 1   Account         277 non-null    object \n",
            " 2   Category        277 non-null    object \n",
            " 3   Subcategory     0 non-null      float64\n",
            " 4   Note            273 non-null    object \n",
            " 5   INR             277 non-null    float64\n",
            " 6   Income/Expense  277 non-null    object \n",
            " 7   Note.1          0 non-null      float64\n",
            " 8   Amount          277 non-null    float64\n",
            " 9   Currency        277 non-null    object \n",
            " 10  Account.1       277 non-null    float64\n",
            "dtypes: float64(5), object(6)\n",
            "memory usage: 23.9+ KB\n"
          ]
        }
      ],
      "source": [
        "expense_df.info()"
      ]
    },
    {
      "cell_type": "code",
      "execution_count": 178,
      "id": "56c00a77",
      "metadata": {
        "id": "56c00a77"
      },
      "outputs": [],
      "source": [
        "missing_values=expense_df.columns[expense_df.isna().any()] ## checking the columns for which have NaN values"
      ]
    },
    {
      "cell_type": "code",
      "execution_count": 179,
      "id": "007f0f37",
      "metadata": {
        "id": "007f0f37",
        "outputId": "88cdea47-443b-43fa-b174-c8b89bafebb0"
      },
      "outputs": [
        {
          "data": {
            "text/plain": [
              "Index(['Subcategory', 'Note', 'Note.1'], dtype='object')"
            ]
          },
          "execution_count": 179,
          "metadata": {},
          "output_type": "execute_result"
        }
      ],
      "source": [
        "missing_values"
      ]
    },
    {
      "cell_type": "code",
      "execution_count": 180,
      "id": "b84dd54e",
      "metadata": {
        "id": "b84dd54e"
      },
      "outputs": [],
      "source": [
        "expense_df=expense_df.drop(['Subcategory','Note.1','Account.1','Currency','INR'],axis=1)\n",
        "##Dropping these columns due to NAN values, and similar typeof data in 1 or more columns"
      ]
    },
    {
      "cell_type": "code",
      "execution_count": 181,
      "id": "5b436e2c",
      "metadata": {
        "id": "5b436e2c",
        "outputId": "f4046974-c31d-4624-f995-a6b457f13c9a"
      },
      "outputs": [
        {
          "data": {
            "text/html": [
              "<div>\n",
              "<style scoped>\n",
              "    .dataframe tbody tr th:only-of-type {\n",
              "        vertical-align: middle;\n",
              "    }\n",
              "\n",
              "    .dataframe tbody tr th {\n",
              "        vertical-align: top;\n",
              "    }\n",
              "\n",
              "    .dataframe thead th {\n",
              "        text-align: right;\n",
              "    }\n",
              "</style>\n",
              "<table border=\"1\" class=\"dataframe\">\n",
              "  <thead>\n",
              "    <tr style=\"text-align: right;\">\n",
              "      <th></th>\n",
              "      <th>Date</th>\n",
              "      <th>Account</th>\n",
              "      <th>Category</th>\n",
              "      <th>Note</th>\n",
              "      <th>Income/Expense</th>\n",
              "      <th>Amount</th>\n",
              "    </tr>\n",
              "  </thead>\n",
              "  <tbody>\n",
              "    <tr>\n",
              "      <th>0</th>\n",
              "      <td>3/2/2022 10:11</td>\n",
              "      <td>CUB - online payment</td>\n",
              "      <td>Food</td>\n",
              "      <td>Brownie</td>\n",
              "      <td>Expense</td>\n",
              "      <td>50.0</td>\n",
              "    </tr>\n",
              "    <tr>\n",
              "      <th>1</th>\n",
              "      <td>3/2/2022 10:11</td>\n",
              "      <td>CUB - online payment</td>\n",
              "      <td>Other</td>\n",
              "      <td>To lended people</td>\n",
              "      <td>Expense</td>\n",
              "      <td>300.0</td>\n",
              "    </tr>\n",
              "    <tr>\n",
              "      <th>2</th>\n",
              "      <td>3/1/2022 19:50</td>\n",
              "      <td>CUB - online payment</td>\n",
              "      <td>Food</td>\n",
              "      <td>Dinner</td>\n",
              "      <td>Expense</td>\n",
              "      <td>78.0</td>\n",
              "    </tr>\n",
              "    <tr>\n",
              "      <th>3</th>\n",
              "      <td>3/1/2022 18:56</td>\n",
              "      <td>CUB - online payment</td>\n",
              "      <td>Transportation</td>\n",
              "      <td>Metro</td>\n",
              "      <td>Expense</td>\n",
              "      <td>30.0</td>\n",
              "    </tr>\n",
              "    <tr>\n",
              "      <th>4</th>\n",
              "      <td>3/1/2022 18:22</td>\n",
              "      <td>CUB - online payment</td>\n",
              "      <td>Food</td>\n",
              "      <td>Snacks</td>\n",
              "      <td>Expense</td>\n",
              "      <td>67.0</td>\n",
              "    </tr>\n",
              "    <tr>\n",
              "      <th>...</th>\n",
              "      <td>...</td>\n",
              "      <td>...</td>\n",
              "      <td>...</td>\n",
              "      <td>...</td>\n",
              "      <td>...</td>\n",
              "      <td>...</td>\n",
              "    </tr>\n",
              "    <tr>\n",
              "      <th>272</th>\n",
              "      <td>11/22/2021 14:16</td>\n",
              "      <td>CUB - online payment</td>\n",
              "      <td>Food</td>\n",
              "      <td>Dinner</td>\n",
              "      <td>Expense</td>\n",
              "      <td>90.0</td>\n",
              "    </tr>\n",
              "    <tr>\n",
              "      <th>273</th>\n",
              "      <td>11/22/2021 14:16</td>\n",
              "      <td>CUB - online payment</td>\n",
              "      <td>Food</td>\n",
              "      <td>Lunch with company</td>\n",
              "      <td>Expense</td>\n",
              "      <td>97.0</td>\n",
              "    </tr>\n",
              "    <tr>\n",
              "      <th>274</th>\n",
              "      <td>11/21/2021 17:07</td>\n",
              "      <td>CUB - online payment</td>\n",
              "      <td>Transportation</td>\n",
              "      <td>Rapido</td>\n",
              "      <td>Expense</td>\n",
              "      <td>130.0</td>\n",
              "    </tr>\n",
              "    <tr>\n",
              "      <th>275</th>\n",
              "      <td>11/21/2021 15:50</td>\n",
              "      <td>CUB - online payment</td>\n",
              "      <td>Food</td>\n",
              "      <td>Lunch</td>\n",
              "      <td>Expense</td>\n",
              "      <td>875.0</td>\n",
              "    </tr>\n",
              "    <tr>\n",
              "      <th>276</th>\n",
              "      <td>11/21/2021 13:30</td>\n",
              "      <td>CUB - online payment</td>\n",
              "      <td>Other</td>\n",
              "      <td>Got from gobi</td>\n",
              "      <td>Income</td>\n",
              "      <td>2000.0</td>\n",
              "    </tr>\n",
              "  </tbody>\n",
              "</table>\n",
              "<p>277 rows × 6 columns</p>\n",
              "</div>"
            ],
            "text/plain": [
              "                 Date               Account        Category  \\\n",
              "0      3/2/2022 10:11  CUB - online payment            Food   \n",
              "1      3/2/2022 10:11  CUB - online payment           Other   \n",
              "2      3/1/2022 19:50  CUB - online payment            Food   \n",
              "3      3/1/2022 18:56  CUB - online payment  Transportation   \n",
              "4      3/1/2022 18:22  CUB - online payment            Food   \n",
              "..                ...                   ...             ...   \n",
              "272  11/22/2021 14:16  CUB - online payment            Food   \n",
              "273  11/22/2021 14:16  CUB - online payment            Food   \n",
              "274  11/21/2021 17:07  CUB - online payment  Transportation   \n",
              "275  11/21/2021 15:50  CUB - online payment            Food   \n",
              "276  11/21/2021 13:30  CUB - online payment           Other   \n",
              "\n",
              "                   Note Income/Expense  Amount  \n",
              "0               Brownie        Expense    50.0  \n",
              "1      To lended people        Expense   300.0  \n",
              "2                Dinner        Expense    78.0  \n",
              "3                 Metro        Expense    30.0  \n",
              "4                Snacks        Expense    67.0  \n",
              "..                  ...            ...     ...  \n",
              "272              Dinner        Expense    90.0  \n",
              "273  Lunch with company        Expense    97.0  \n",
              "274              Rapido        Expense   130.0  \n",
              "275               Lunch        Expense   875.0  \n",
              "276       Got from gobi         Income  2000.0  \n",
              "\n",
              "[277 rows x 6 columns]"
            ]
          },
          "execution_count": 181,
          "metadata": {},
          "output_type": "execute_result"
        }
      ],
      "source": [
        "expense_df"
      ]
    },
    {
      "cell_type": "code",
      "execution_count": 182,
      "id": "2939ee12",
      "metadata": {
        "id": "2939ee12"
      },
      "outputs": [],
      "source": [
        "expense_df=expense_df.dropna()##Drop NaN values rowwise"
      ]
    },
    {
      "cell_type": "code",
      "execution_count": 183,
      "id": "e84d3b18",
      "metadata": {
        "id": "e84d3b18",
        "outputId": "8fa7d682-273d-4861-fd93-cede21aeff0f"
      },
      "outputs": [
        {
          "data": {
            "text/plain": [
              "Date              0\n",
              "Account           0\n",
              "Category          0\n",
              "Note              0\n",
              "Income/Expense    0\n",
              "Amount            0\n",
              "dtype: int64"
            ]
          },
          "execution_count": 183,
          "metadata": {},
          "output_type": "execute_result"
        }
      ],
      "source": [
        "expense_df.isna().sum()## No NaN or missing value in dataset"
      ]
    },
    {
      "cell_type": "code",
      "execution_count": 184,
      "id": "6f78b9db",
      "metadata": {
        "id": "6f78b9db",
        "outputId": "8c09b33f-408b-4f8e-c75d-2c9beb60842c"
      },
      "outputs": [
        {
          "data": {
            "text/plain": [
              "Date               object\n",
              "Account            object\n",
              "Category           object\n",
              "Note               object\n",
              "Income/Expense     object\n",
              "Amount            float64\n",
              "dtype: object"
            ]
          },
          "execution_count": 184,
          "metadata": {},
          "output_type": "execute_result"
        }
      ],
      "source": [
        "expense_df.dtypes"
      ]
    },
    {
      "cell_type": "code",
      "execution_count": 185,
      "id": "c850182f",
      "metadata": {
        "id": "c850182f",
        "outputId": "36dc40a7-9b53-4dc6-aeb7-9a6985a21469"
      },
      "outputs": [
        {
          "name": "stderr",
          "output_type": "stream",
          "text": [
            "C:\\Users\\ASUS\\AppData\\Local\\Temp\\ipykernel_23428\\504097756.py:1: SettingWithCopyWarning:\n",
            "\n",
            "\n",
            "A value is trying to be set on a copy of a slice from a DataFrame.\n",
            "Try using .loc[row_indexer,col_indexer] = value instead\n",
            "\n",
            "See the caveats in the documentation: https://pandas.pydata.org/pandas-docs/stable/user_guide/indexing.html#returning-a-view-versus-a-copy\n",
            "\n"
          ]
        },
        {
          "data": {
            "text/html": [
              "<div>\n",
              "<style scoped>\n",
              "    .dataframe tbody tr th:only-of-type {\n",
              "        vertical-align: middle;\n",
              "    }\n",
              "\n",
              "    .dataframe tbody tr th {\n",
              "        vertical-align: top;\n",
              "    }\n",
              "\n",
              "    .dataframe thead th {\n",
              "        text-align: right;\n",
              "    }\n",
              "</style>\n",
              "<table border=\"1\" class=\"dataframe\">\n",
              "  <thead>\n",
              "    <tr style=\"text-align: right;\">\n",
              "      <th></th>\n",
              "      <th>Date</th>\n",
              "      <th>Account</th>\n",
              "      <th>Category</th>\n",
              "      <th>Note</th>\n",
              "      <th>Income/Expense</th>\n",
              "      <th>Amount</th>\n",
              "    </tr>\n",
              "  </thead>\n",
              "  <tbody>\n",
              "    <tr>\n",
              "      <th>0</th>\n",
              "      <td>2022-03-02 10:11:00</td>\n",
              "      <td>CUB - online payment</td>\n",
              "      <td>Food</td>\n",
              "      <td>Brownie</td>\n",
              "      <td>Expense</td>\n",
              "      <td>50.0</td>\n",
              "    </tr>\n",
              "    <tr>\n",
              "      <th>1</th>\n",
              "      <td>2022-03-02 10:11:00</td>\n",
              "      <td>CUB - online payment</td>\n",
              "      <td>Other</td>\n",
              "      <td>To lended people</td>\n",
              "      <td>Expense</td>\n",
              "      <td>300.0</td>\n",
              "    </tr>\n",
              "    <tr>\n",
              "      <th>2</th>\n",
              "      <td>2022-03-01 19:50:00</td>\n",
              "      <td>CUB - online payment</td>\n",
              "      <td>Food</td>\n",
              "      <td>Dinner</td>\n",
              "      <td>Expense</td>\n",
              "      <td>78.0</td>\n",
              "    </tr>\n",
              "    <tr>\n",
              "      <th>3</th>\n",
              "      <td>2022-03-01 18:56:00</td>\n",
              "      <td>CUB - online payment</td>\n",
              "      <td>Transportation</td>\n",
              "      <td>Metro</td>\n",
              "      <td>Expense</td>\n",
              "      <td>30.0</td>\n",
              "    </tr>\n",
              "    <tr>\n",
              "      <th>4</th>\n",
              "      <td>2022-03-01 18:22:00</td>\n",
              "      <td>CUB - online payment</td>\n",
              "      <td>Food</td>\n",
              "      <td>Snacks</td>\n",
              "      <td>Expense</td>\n",
              "      <td>67.0</td>\n",
              "    </tr>\n",
              "    <tr>\n",
              "      <th>...</th>\n",
              "      <td>...</td>\n",
              "      <td>...</td>\n",
              "      <td>...</td>\n",
              "      <td>...</td>\n",
              "      <td>...</td>\n",
              "      <td>...</td>\n",
              "    </tr>\n",
              "    <tr>\n",
              "      <th>272</th>\n",
              "      <td>2021-11-22 14:16:00</td>\n",
              "      <td>CUB - online payment</td>\n",
              "      <td>Food</td>\n",
              "      <td>Dinner</td>\n",
              "      <td>Expense</td>\n",
              "      <td>90.0</td>\n",
              "    </tr>\n",
              "    <tr>\n",
              "      <th>273</th>\n",
              "      <td>2021-11-22 14:16:00</td>\n",
              "      <td>CUB - online payment</td>\n",
              "      <td>Food</td>\n",
              "      <td>Lunch with company</td>\n",
              "      <td>Expense</td>\n",
              "      <td>97.0</td>\n",
              "    </tr>\n",
              "    <tr>\n",
              "      <th>274</th>\n",
              "      <td>2021-11-21 17:07:00</td>\n",
              "      <td>CUB - online payment</td>\n",
              "      <td>Transportation</td>\n",
              "      <td>Rapido</td>\n",
              "      <td>Expense</td>\n",
              "      <td>130.0</td>\n",
              "    </tr>\n",
              "    <tr>\n",
              "      <th>275</th>\n",
              "      <td>2021-11-21 15:50:00</td>\n",
              "      <td>CUB - online payment</td>\n",
              "      <td>Food</td>\n",
              "      <td>Lunch</td>\n",
              "      <td>Expense</td>\n",
              "      <td>875.0</td>\n",
              "    </tr>\n",
              "    <tr>\n",
              "      <th>276</th>\n",
              "      <td>2021-11-21 13:30:00</td>\n",
              "      <td>CUB - online payment</td>\n",
              "      <td>Other</td>\n",
              "      <td>Got from gobi</td>\n",
              "      <td>Income</td>\n",
              "      <td>2000.0</td>\n",
              "    </tr>\n",
              "  </tbody>\n",
              "</table>\n",
              "<p>273 rows × 6 columns</p>\n",
              "</div>"
            ],
            "text/plain": [
              "                   Date               Account        Category  \\\n",
              "0   2022-03-02 10:11:00  CUB - online payment            Food   \n",
              "1   2022-03-02 10:11:00  CUB - online payment           Other   \n",
              "2   2022-03-01 19:50:00  CUB - online payment            Food   \n",
              "3   2022-03-01 18:56:00  CUB - online payment  Transportation   \n",
              "4   2022-03-01 18:22:00  CUB - online payment            Food   \n",
              "..                  ...                   ...             ...   \n",
              "272 2021-11-22 14:16:00  CUB - online payment            Food   \n",
              "273 2021-11-22 14:16:00  CUB - online payment            Food   \n",
              "274 2021-11-21 17:07:00  CUB - online payment  Transportation   \n",
              "275 2021-11-21 15:50:00  CUB - online payment            Food   \n",
              "276 2021-11-21 13:30:00  CUB - online payment           Other   \n",
              "\n",
              "                   Note Income/Expense  Amount  \n",
              "0               Brownie        Expense    50.0  \n",
              "1      To lended people        Expense   300.0  \n",
              "2                Dinner        Expense    78.0  \n",
              "3                 Metro        Expense    30.0  \n",
              "4                Snacks        Expense    67.0  \n",
              "..                  ...            ...     ...  \n",
              "272              Dinner        Expense    90.0  \n",
              "273  Lunch with company        Expense    97.0  \n",
              "274              Rapido        Expense   130.0  \n",
              "275               Lunch        Expense   875.0  \n",
              "276       Got from gobi         Income  2000.0  \n",
              "\n",
              "[273 rows x 6 columns]"
            ]
          },
          "execution_count": 185,
          "metadata": {},
          "output_type": "execute_result"
        }
      ],
      "source": [
        "expense_df['Date']=pd.to_datetime(expense_df.Date) ##Converting DateTime column into Date and Time seperately\n",
        "expense_df"
      ]
    },
    {
      "cell_type": "code",
      "execution_count": 186,
      "id": "b6a53db8",
      "metadata": {
        "id": "b6a53db8",
        "outputId": "8959ea74-558c-47af-faa3-f42edab466aa"
      },
      "outputs": [
        {
          "data": {
            "text/plain": [
              "Date              datetime64[ns]\n",
              "Account                   object\n",
              "Category                  object\n",
              "Note                      object\n",
              "Income/Expense            object\n",
              "Amount                   float64\n",
              "dtype: object"
            ]
          },
          "execution_count": 186,
          "metadata": {},
          "output_type": "execute_result"
        }
      ],
      "source": [
        "expense_df.dtypes"
      ]
    },
    {
      "cell_type": "code",
      "execution_count": null,
      "id": "f568d927",
      "metadata": {
        "id": "f568d927",
        "outputId": "25fe66c8-48f0-4478-fecd-ad699a76fbbb"
      },
      "outputs": [],
      "source": []
    },
    {
      "cell_type": "code",
      "execution_count": 187,
      "id": "4c2afb4c",
      "metadata": {
        "id": "4c2afb4c",
        "outputId": "428ffcf4-4450-4cc3-de80-f64efb4bb573"
      },
      "outputs": [
        {
          "data": {
            "image/png": "[encoded data removed]",
            "text/plain": [
              "<Figure size 1000x600 with 1 Axes>"
            ]
          },
          "metadata": {
            "needs_background": "light"
          },
          "output_type": "display_data"
        }
      ],
      "source": [
        "sns.countplot(x=pd.to_datetime(expense_df.Date).dt.month);"
      ]
    },
    {
      "cell_type": "code",
      "execution_count": 188,
      "id": "af4494e6",
      "metadata": {
        "id": "af4494e6",
        "outputId": "3bd48aa8-88d5-456d-870d-d661b638df54"
      },
      "outputs": [
        {
          "ename": "ValueError",
          "evalue": "Mime type rendering requires nbformat>=4.2.0 but it is not installed",
          "output_type": "error",
          "traceback": [
            "\u001b[1;31m---------------------------------------------------------------------------\u001b[0m",
            "\u001b[1;31mValueError\u001b[0m                                Traceback (most recent call last)",
            "File \u001b[1;32m~\\AppData\\Roaming\\Python\\Python312\\site-packages\\IPython\\core\\formatters.py:925\u001b[0m, in \u001b[0;36mIPythonDisplayFormatter.__call__\u001b[1;34m(self, obj)\u001b[0m\n\u001b[0;32m    923\u001b[0m method \u001b[38;5;241m=\u001b[39m get_real_method(obj, \u001b[38;5;28mself\u001b[39m\u001b[38;5;241m.\u001b[39mprint_method)\n\u001b[0;32m    924\u001b[0m \u001b[38;5;28;01mif\u001b[39;00m method \u001b[38;5;129;01mis\u001b[39;00m \u001b[38;5;129;01mnot\u001b[39;00m \u001b[38;5;28;01mNone\u001b[39;00m:\n\u001b[1;32m--> 925\u001b[0m     \u001b[43mmethod\u001b[49m\u001b[43m(\u001b[49m\u001b[43m)\u001b[49m\n\u001b[0;32m    926\u001b[0m     \u001b[38;5;28;01mreturn\u001b[39;00m \u001b[38;5;28;01mTrue\u001b[39;00m\n",
            "File \u001b[1;32mc:\\Users\\ASUS\\AppData\\Local\\Programs\\Python\\Python312\\Lib\\site-packages\\plotly\\basedatatypes.py:832\u001b[0m, in \u001b[0;36mBaseFigure._ipython_display_\u001b[1;34m(self)\u001b[0m\n\u001b[0;32m    829\u001b[0m \u001b[38;5;28;01mimport\u001b[39;00m \u001b[38;5;21;01mplotly\u001b[39;00m\u001b[38;5;21;01m.\u001b[39;00m\u001b[38;5;21;01mio\u001b[39;00m \u001b[38;5;28;01mas\u001b[39;00m \u001b[38;5;21;01mpio\u001b[39;00m\n\u001b[0;32m    831\u001b[0m \u001b[38;5;28;01mif\u001b[39;00m pio\u001b[38;5;241m.\u001b[39mrenderers\u001b[38;5;241m.\u001b[39mrender_on_display \u001b[38;5;129;01mand\u001b[39;00m pio\u001b[38;5;241m.\u001b[39mrenderers\u001b[38;5;241m.\u001b[39mdefault:\n\u001b[1;32m--> 832\u001b[0m     \u001b[43mpio\u001b[49m\u001b[38;5;241;43m.\u001b[39;49m\u001b[43mshow\u001b[49m\u001b[43m(\u001b[49m\u001b[38;5;28;43mself\u001b[39;49m\u001b[43m)\u001b[49m\n\u001b[0;32m    833\u001b[0m \u001b[38;5;28;01melse\u001b[39;00m:\n\u001b[0;32m    834\u001b[0m     \u001b[38;5;28mprint\u001b[39m(\u001b[38;5;28mrepr\u001b[39m(\u001b[38;5;28mself\u001b[39m))\n",
            "File \u001b[1;32mc:\\Users\\ASUS\\AppData\\Local\\Programs\\Python\\Python312\\Lib\\site-packages\\plotly\\io\\_renderers.py:394\u001b[0m, in \u001b[0;36mshow\u001b[1;34m(fig, renderer, validate, **kwargs)\u001b[0m\n\u001b[0;32m    389\u001b[0m         \u001b[38;5;28;01mraise\u001b[39;00m \u001b[38;5;167;01mValueError\u001b[39;00m(\n\u001b[0;32m    390\u001b[0m             \u001b[38;5;124m\"\u001b[39m\u001b[38;5;124mMime type rendering requires ipython but it is not installed\u001b[39m\u001b[38;5;124m\"\u001b[39m\n\u001b[0;32m    391\u001b[0m         )\n\u001b[0;32m    393\u001b[0m     \u001b[38;5;28;01mif\u001b[39;00m \u001b[38;5;129;01mnot\u001b[39;00m nbformat \u001b[38;5;129;01mor\u001b[39;00m Version(nbformat\u001b[38;5;241m.\u001b[39m__version__) \u001b[38;5;241m<\u001b[39m Version(\u001b[38;5;124m\"\u001b[39m\u001b[38;5;124m4.2.0\u001b[39m\u001b[38;5;124m\"\u001b[39m):\n\u001b[1;32m--> 394\u001b[0m         \u001b[38;5;28;01mraise\u001b[39;00m \u001b[38;5;167;01mValueError\u001b[39;00m(\n\u001b[0;32m    395\u001b[0m             \u001b[38;5;124m\"\u001b[39m\u001b[38;5;124mMime type rendering requires nbformat>=4.2.0 but it is not installed\u001b[39m\u001b[38;5;124m\"\u001b[39m\n\u001b[0;32m    396\u001b[0m         )\n\u001b[0;32m    398\u001b[0m     ipython_display\u001b[38;5;241m.\u001b[39mdisplay(bundle, raw\u001b[38;5;241m=\u001b[39m\u001b[38;5;28;01mTrue\u001b[39;00m)\n\u001b[0;32m    400\u001b[0m \u001b[38;5;66;03m# external renderers\u001b[39;00m\n",
            "\u001b[1;31mValueError\u001b[0m: Mime type rendering requires nbformat>=4.2.0 but it is not installed"
          ]
        },
        {
          "data": {
            "application/vnd.plotly.v1+json": {
              "config": {
                "plotlyServerURL": "https://plot.ly"
              },
              "data": [
                {
                  "alignmentgroup": "True",
                  "bingroup": "x",
                  "hovertemplate": "Income/Expense=%{x}<br>count=%{y}<extra></extra>",
                  "legendgroup": "",
                  "marker": {
                    "color": "#636efa",
                    "pattern": {
                      "shape": ""
                    }
                  },
                  "name": "",
                  "offsetgroup": "",
                  "orientation": "v",
                  "showlegend": false,
                  "type": "histogram",
                  "x": [
                    "Expense",
                    "Expense",
                    "Expense",
                    "Expense",
                    "Expense",
                    "Income",
                    "Income",
                    "Expense",
                    "Income",
                    "Expense",
                    "Income",
                    "Expense",
                    "Expense",
                    "Expense",
                    "Expense",
                    "Expense",
                    "Expense",
                    "Expense",
                    "Expense",
                    "Expense",
                    "Expense",
                    "Expense",
                    "Expense",
                    "Expense",
                    "Expense",
                    "Expense",
                    "Expense",
                    "Expense",
                    "Expense",
                    "Expense",
                    "Expense",
                    "Expense",
                    "Expense",
                    "Expense",
                    "Expense",
                    "Expense",
                    "Expense",
                    "Expense",
                    "Expense",
                    "Expense",
                    "Expense",
                    "Income",
                    "Expense",
                    "Expense",
                    "Income",
                    "Expense",
                    "Expense",
                    "Expense",
                    "Expense",
                    "Expense",
                    "Income",
                    "Expense",
                    "Expense",
                    "Expense",
                    "Expense",
                    "Expense",
                    "Income",
                    "Expense",
                    "Expense",
                    "Expense",
                    "Expense",
                    "Expense",
                    "Expense",
                    "Expense",
                    "Expense",
                    "Expense",
                    "Expense",
                    "Expense",
                    "Expense",
                    "Expense",
                    "Expense",
                    "Income",
                    "Income",
                    "Expense",
                    "Income",
                    "Expense",
                    "Expense",
                    "Expense",
                    "Expense",
                    "Expense",
                    "Expense",
                    "Expense",
                    "Expense",
                    "Expense",
                    "Expense",
                    "Income",
                    "Expense",
                    "Expense",
                    "Income",
                    "Expense",
                    "Expense",
                    "Income",
                    "Expense",
                    "Expense",
                    "Expense",
                    "Expense",
                    "Expense",
                    "Income",
                    "Expense",
                    "Expense",
                    "Income",
                    "Expense",
                    "Income",
                    "Income",
                    "Income",
                    "Income",
                    "Income",
                    "Expense",
                    "Expense",
                    "Income",
                    "Expense",
                    "Expense",
                    "Expense",
                    "Income",
                    "Expense",
                    "Expense",
                    "Income",
                    "Expense",
                    "Expense",
                    "Expense",
                    "Income",
                    "Expense",
                    "Expense",
                    "Expense",
                    "Expense",
                    "Expense",
                    "Expense",
                    "Expense",
                    "Expense",
                    "Expense",
                    "Expense",
                    "Expense",
                    "Expense",
                    "Expense",
                    "Income",
                    "Expense",
                    "Expense",
                    "Expense",
                    "Expense",
                    "Income",
                    "Income",
                    "Income",
                    "Expense",
                    "Income",
                    "Expense",
                    "Expense",
                    "Expense",
                    "Expense",
                    "Income",
                    "Expense",
                    "Expense",
                    "Income",
                    "Expense",
                    "Expense",
                    "Income",
                    "Expense",
                    "Income",
                    "Expense",
                    "Income",
                    "Expense",
                    "Expense",
                    "Income",
                    "Income",
                    "Expense",
                    "Expense",
                    "Expense",
                    "Expense",
                    "Expense",
                    "Expense",
                    "Expense",
                    "Expense",
                    "Expense",
                    "Expense",
                    "Expense",
                    "Expense",
                    "Expense",
                    "Expense",
                    "Expense",
                    "Expense",
                    "Expense",
                    "Expense",
                    "Expense",
                    "Expense",
                    "Expense",
                    "Expense",
                    "Expense",
                    "Expense",
                    "Income",
                    "Income",
                    "Expense",
                    "Expense",
                    "Expense",
                    "Expense",
                    "Expense",
                    "Expense",
                    "Expense",
                    "Expense",
                    "Expense",
                    "Expense",
                    "Expense",
                    "Expense",
                    "Expense",
                    "Expense",
                    "Expense",
                    "Income",
                    "Income",
                    "Expense",
                    "Expense",
                    "Expense",
                    "Expense",
                    "Expense",
                    "Expense",
                    "Expense",
                    "Expense",
                    "Expense",
                    "Expense",
                    "Expense",
                    "Expense",
                    "Expense",
                    "Expense",
                    "Expense",
                    "Expense",
                    "Expense",
                    "Expense",
                    "Income",
                    "Expense",
                    "Expense",
                    "Expense",
                    "Expense",
                    "Expense",
                    "Expense",
                    "Expense",
                    "Expense",
                    "Income",
                    "Expense",
                    "Expense",
                    "Expense",
                    "Expense",
                    "Expense",
                    "Expense",
                    "Expense",
                    "Expense",
                    "Expense",
                    "Expense",
                    "Expense",
                    "Expense",
                    "Expense",
                    "Expense",
                    "Expense",
                    "Expense",
                    "Expense",
                    "Income",
                    "Expense",
                    "Expense",
                    "Expense",
                    "Expense",
                    "Income",
                    "Expense",
                    "Expense",
                    "Expense",
                    "Expense",
                    "Expense",
                    "Expense",
                    "Expense",
                    "Expense",
                    "Expense",
                    "Expense",
                    "Expense",
                    "Expense",
                    "Expense",
                    "Expense",
                    "Expense",
                    "Income"
                  ],
                  "xaxis": "x",
                  "yaxis": "y"
                }
              ],
              "layout": {
                "barmode": "relative",
                "legend": {
                  "tracegroupgap": 0
                },
                "template": {
                  "data": {
                    "bar": [
                      {
                        "error_x": {
                          "color": "#2a3f5f"
                        },
                        "error_y": {
                          "color": "#2a3f5f"
                        },
                        "marker": {
                          "line": {
                            "color": "#E5ECF6",
                            "width": 0.5
                          },
                          "pattern": {
                            "fillmode": "overlay",
                            "size": 10,
                            "solidity": 0.2
                          }
                        },
                        "type": "bar"
                      }
                    ],
                    "barpolar": [
                      {
                        "marker": {
                          "line": {
                            "color": "#E5ECF6",
                            "width": 0.5
                          },
                          "pattern": {
                            "fillmode": "overlay",
                            "size": 10,
                            "solidity": 0.2
                          }
                        },
                        "type": "barpolar"
                      }
                    ],
                    "carpet": [
                      {
                        "aaxis": {
                          "endlinecolor": "#2a3f5f",
                          "gridcolor": "white",
                          "linecolor": "white",
                          "minorgridcolor": "white",
                          "startlinecolor": "#2a3f5f"
                        },
                        "baxis": {
                          "endlinecolor": "#2a3f5f",
                          "gridcolor": "white",
                          "linecolor": "white",
                          "minorgridcolor": "white",
                          "startlinecolor": "#2a3f5f"
                        },
                        "type": "carpet"
                      }
                    ],
                    "choropleth": [
                      {
                        "colorbar": {
                          "outlinewidth": 0,
                          "ticks": ""
                        },
                        "type": "choropleth"
                      }
                    ],
                    "contour": [
                      {
                        "colorbar": {
                          "outlinewidth": 0,
                          "ticks": ""
                        },
                        "colorscale": [
                          [
                            0,
                            "#0d0887"
                          ],
                          [
                            0.1111111111111111,
                            "#46039f"
                          ],
                          [
                            0.2222222222222222,
                            "#7201a8"
                          ],
                          [
                            0.3333333333333333,
                            "#9c179e"
                          ],
                          [
                            0.4444444444444444,
                            "#bd3786"
                          ],
                          [
                            0.5555555555555556,
                            "#d8576b"
                          ],
                          [
                            0.6666666666666666,
                            "#ed7953"
                          ],
                          [
                            0.7777777777777778,
                            "#fb9f3a"
                          ],
                          [
                            0.8888888888888888,
                            "#fdca26"
                          ],
                          [
                            1,
                            "#f0f921"
                          ]
                        ],
                        "type": "contour"
                      }
                    ],
                    "contourcarpet": [
                      {
                        "colorbar": {
                          "outlinewidth": 0,
                          "ticks": ""
                        },
                        "type": "contourcarpet"
                      }
                    ],
                    "heatmap": [
                      {
                        "colorbar": {
                          "outlinewidth": 0,
                          "ticks": ""
                        },
                        "colorscale": [
                          [
                            0,
                            "#0d0887"
                          ],
                          [
                            0.1111111111111111,
                            "#46039f"
                          ],
                          [
                            0.2222222222222222,
                            "#7201a8"
                          ],
                          [
                            0.3333333333333333,
                            "#9c179e"
                          ],
                          [
                            0.4444444444444444,
                            "#bd3786"
                          ],
                          [
                            0.5555555555555556,
                            "#d8576b"
                          ],
                          [
                            0.6666666666666666,
                            "#ed7953"
                          ],
                          [
                            0.7777777777777778,
                            "#fb9f3a"
                          ],
                          [
                            0.8888888888888888,
                            "#fdca26"
                          ],
                          [
                            1,
                            "#f0f921"
                          ]
                        ],
                        "type": "heatmap"
                      }
                    ],
                    "heatmapgl": [
                      {
                        "colorbar": {
                          "outlinewidth": 0,
                          "ticks": ""
                        },
                        "colorscale": [
                          [
                            0,
                            "#0d0887"
                          ],
                          [
                            0.1111111111111111,
                            "#46039f"
                          ],
                          [
                            0.2222222222222222,
                            "#7201a8"
                          ],
                          [
                            0.3333333333333333,
                            "#9c179e"
                          ],
                          [
                            0.4444444444444444,
                            "#bd3786"
                          ],
                          [
                            0.5555555555555556,
                            "#d8576b"
                          ],
                          [
                            0.6666666666666666,
                            "#ed7953"
                          ],
                          [
                            0.7777777777777778,
                            "#fb9f3a"
                          ],
                          [
                            0.8888888888888888,
                            "#fdca26"
                          ],
                          [
                            1,
                            "#f0f921"
                          ]
                        ],
                        "type": "heatmapgl"
                      }
                    ],
                    "histogram": [
                      {
                        "marker": {
                          "pattern": {
                            "fillmode": "overlay",
                            "size": 10,
                            "solidity": 0.2
                          }
                        },
                        "type": "histogram"
                      }
                    ],
                    "histogram2d": [
                      {
                        "colorbar": {
                          "outlinewidth": 0,
                          "ticks": ""
                        },
                        "colorscale": [
                          [
                            0,
                            "#0d0887"
                          ],
                          [
                            0.1111111111111111,
                            "#46039f"
                          ],
                          [
                            0.2222222222222222,
                            "#7201a8"
                          ],
                          [
                            0.3333333333333333,
                            "#9c179e"
                          ],
                          [
                            0.4444444444444444,
                            "#bd3786"
                          ],
                          [
                            0.5555555555555556,
                            "#d8576b"
                          ],
                          [
                            0.6666666666666666,
                            "#ed7953"
                          ],
                          [
                            0.7777777777777778,
                            "#fb9f3a"
                          ],
                          [
                            0.8888888888888888,
                            "#fdca26"
                          ],
                          [
                            1,
                            "#f0f921"
                          ]
                        ],
                        "type": "histogram2d"
                      }
                    ],
                    "histogram2dcontour": [
                      {
                        "colorbar": {
                          "outlinewidth": 0,
                          "ticks": ""
                        },
                        "colorscale": [
                          [
                            0,
                            "#0d0887"
                          ],
                          [
                            0.1111111111111111,
                            "#46039f"
                          ],
                          [
                            0.2222222222222222,
                            "#7201a8"
                          ],
                          [
                            0.3333333333333333,
                            "#9c179e"
                          ],
                          [
                            0.4444444444444444,
                            "#bd3786"
                          ],
                          [
                            0.5555555555555556,
                            "#d8576b"
                          ],
                          [
                            0.6666666666666666,
                            "#ed7953"
                          ],
                          [
                            0.7777777777777778,
                            "#fb9f3a"
                          ],
                          [
                            0.8888888888888888,
                            "#fdca26"
                          ],
                          [
                            1,
                            "#f0f921"
                          ]
                        ],
                        "type": "histogram2dcontour"
                      }
                    ],
                    "mesh3d": [
                      {
                        "colorbar": {
                          "outlinewidth": 0,
                          "ticks": ""
                        },
                        "type": "mesh3d"
                      }
                    ],
                    "parcoords": [
                      {
                        "line": {
                          "colorbar": {
                            "outlinewidth": 0,
                            "ticks": ""
                          }
                        },
                        "type": "parcoords"
                      }
                    ],
                    "pie": [
                      {
                        "automargin": true,
                        "type": "pie"
                      }
                    ],
                    "scatter": [
                      {
                        "fillpattern": {
                          "fillmode": "overlay",
                          "size": 10,
                          "solidity": 0.2
                        },
                        "type": "scatter"
                      }
                    ],
                    "scatter3d": [
                      {
                        "line": {
                          "colorbar": {
                            "outlinewidth": 0,
                            "ticks": ""
                          }
                        },
                        "marker": {
                          "colorbar": {
                            "outlinewidth": 0,
                            "ticks": ""
                          }
                        },
                        "type": "scatter3d"
                      }
                    ],
                    "scattercarpet": [
                      {
                        "marker": {
                          "colorbar": {
                            "outlinewidth": 0,
                            "ticks": ""
                          }
                        },
                        "type": "scattercarpet"
                      }
                    ],
                    "scattergeo": [
                      {
                        "marker": {
                          "colorbar": {
                            "outlinewidth": 0,
                            "ticks": ""
                          }
                        },
                        "type": "scattergeo"
                      }
                    ],
                    "scattergl": [
                      {
                        "marker": {
                          "colorbar": {
                            "outlinewidth": 0,
                            "ticks": ""
                          }
                        },
                        "type": "scattergl"
                      }
                    ],
                    "scattermapbox": [
                      {
                        "marker": {
                          "colorbar": {
                            "outlinewidth": 0,
                            "ticks": ""
                          }
                        },
                        "type": "scattermapbox"
                      }
                    ],
                    "scatterpolar": [
                      {
                        "marker": {
                          "colorbar": {
                            "outlinewidth": 0,
                            "ticks": ""
                          }
                        },
                        "type": "scatterpolar"
                      }
                    ],
                    "scatterpolargl": [
                      {
                        "marker": {
                          "colorbar": {
                            "outlinewidth": 0,
                            "ticks": ""
                          }
                        },
                        "type": "scatterpolargl"
                      }
                    ],
                    "scatterternary": [
                      {
                        "marker": {
                          "colorbar": {
                            "outlinewidth": 0,
                            "ticks": ""
                          }
                        },
                        "type": "scatterternary"
                      }
                    ],
                    "surface": [
                      {
                        "colorbar": {
                          "outlinewidth": 0,
                          "ticks": ""
                        },
                        "colorscale": [
                          [
                            0,
                            "#0d0887"
                          ],
                          [
                            0.1111111111111111,
                            "#46039f"
                          ],
                          [
                            0.2222222222222222,
                            "#7201a8"
                          ],
                          [
                            0.3333333333333333,
                            "#9c179e"
                          ],
                          [
                            0.4444444444444444,
                            "#bd3786"
                          ],
                          [
                            0.5555555555555556,
                            "#d8576b"
                          ],
                          [
                            0.6666666666666666,
                            "#ed7953"
                          ],
                          [
                            0.7777777777777778,
                            "#fb9f3a"
                          ],
                          [
                            0.8888888888888888,
                            "#fdca26"
                          ],
                          [
                            1,
                            "#f0f921"
                          ]
                        ],
                        "type": "surface"
                      }
                    ],
                    "table": [
                      {
                        "cells": {
                          "fill": {
                            "color": "#EBF0F8"
                          },
                          "line": {
                            "color": "white"
                          }
                        },
                        "header": {
                          "fill": {
                            "color": "#C8D4E3"
                          },
                          "line": {
                            "color": "white"
                          }
                        },
                        "type": "table"
                      }
                    ]
                  },
                  "layout": {
                    "annotationdefaults": {
                      "arrowcolor": "#2a3f5f",
                      "arrowhead": 0,
                      "arrowwidth": 1
                    },
                    "autotypenumbers": "strict",
                    "coloraxis": {
                      "colorbar": {
                        "outlinewidth": 0,
                        "ticks": ""
                      }
                    },
                    "colorscale": {
                      "diverging": [
                        [
                          0,
                          "#8e0152"
                        ],
                        [
                          0.1,
                          "#c51b7d"
                        ],
                        [
                          0.2,
                          "#de77ae"
                        ],
                        [
                          0.3,
                          "#f1b6da"
                        ],
                        [
                          0.4,
                          "#fde0ef"
                        ],
                        [
                          0.5,
                          "#f7f7f7"
                        ],
                        [
                          0.6,
                          "#e6f5d0"
                        ],
                        [
                          0.7,
                          "#b8e186"
                        ],
                        [
                          0.8,
                          "#7fbc41"
                        ],
                        [
                          0.9,
                          "#4d9221"
                        ],
                        [
                          1,
                          "#276419"
                        ]
                      ],
                      "sequential": [
                        [
                          0,
                          "#0d0887"
                        ],
                        [
                          0.1111111111111111,
                          "#46039f"
                        ],
                        [
                          0.2222222222222222,
                          "#7201a8"
                        ],
                        [
                          0.3333333333333333,
                          "#9c179e"
                        ],
                        [
                          0.4444444444444444,
                          "#bd3786"
                        ],
                        [
                          0.5555555555555556,
                          "#d8576b"
                        ],
                        [
                          0.6666666666666666,
                          "#ed7953"
                        ],
                        [
                          0.7777777777777778,
                          "#fb9f3a"
                        ],
                        [
                          0.8888888888888888,
                          "#fdca26"
                        ],
                        [
                          1,
                          "#f0f921"
                        ]
                      ],
                      "sequentialminus": [
                        [
                          0,
                          "#0d0887"
                        ],
                        [
                          0.1111111111111111,
                          "#46039f"
                        ],
                        [
                          0.2222222222222222,
                          "#7201a8"
                        ],
                        [
                          0.3333333333333333,
                          "#9c179e"
                        ],
                        [
                          0.4444444444444444,
                          "#bd3786"
                        ],
                        [
                          0.5555555555555556,
                          "#d8576b"
                        ],
                        [
                          0.6666666666666666,
                          "#ed7953"
                        ],
                        [
                          0.7777777777777778,
                          "#fb9f3a"
                        ],
                        [
                          0.8888888888888888,
                          "#fdca26"
                        ],
                        [
                          1,
                          "#f0f921"
                        ]
                      ]
                    },
                    "colorway": [
                      "#636efa",
                      "#EF553B",
                      "#00cc96",
                      "#ab63fa",
                      "#FFA15A",
                      "#19d3f3",
                      "#FF6692",
                      "#B6E880",
                      "#FF97FF",
                      "#FECB52"
                    ],
                    "font": {
                      "color": "#2a3f5f"
                    },
                    "geo": {
                      "bgcolor": "white",
                      "lakecolor": "white",
                      "landcolor": "#E5ECF6",
                      "showlakes": true,
                      "showland": true,
                      "subunitcolor": "white"
                    },
                    "hoverlabel": {
                      "align": "left"
                    },
                    "hovermode": "closest",
                    "mapbox": {
                      "style": "light"
                    },
                    "paper_bgcolor": "white",
                    "plot_bgcolor": "#E5ECF6",
                    "polar": {
                      "angularaxis": {
                        "gridcolor": "white",
                        "linecolor": "white",
                        "ticks": ""
                      },
                      "bgcolor": "#E5ECF6",
                      "radialaxis": {
                        "gridcolor": "white",
                        "linecolor": "white",
                        "ticks": ""
                      }
                    },
                    "scene": {
                      "xaxis": {
                        "backgroundcolor": "#E5ECF6",
                        "gridcolor": "white",
                        "gridwidth": 2,
                        "linecolor": "white",
                        "showbackground": true,
                        "ticks": "",
                        "zerolinecolor": "white"
                      },
                      "yaxis": {
                        "backgroundcolor": "#E5ECF6",
                        "gridcolor": "white",
                        "gridwidth": 2,
                        "linecolor": "white",
                        "showbackground": true,
                        "ticks": "",
                        "zerolinecolor": "white"
                      },
                      "zaxis": {
                        "backgroundcolor": "#E5ECF6",
                        "gridcolor": "white",
                        "gridwidth": 2,
                        "linecolor": "white",
                        "showbackground": true,
                        "ticks": "",
                        "zerolinecolor": "white"
                      }
                    },
                    "shapedefaults": {
                      "line": {
                        "color": "#2a3f5f"
                      }
                    },
                    "ternary": {
                      "aaxis": {
                        "gridcolor": "white",
                        "linecolor": "white",
                        "ticks": ""
                      },
                      "baxis": {
                        "gridcolor": "white",
                        "linecolor": "white",
                        "ticks": ""
                      },
                      "bgcolor": "#E5ECF6",
                      "caxis": {
                        "gridcolor": "white",
                        "linecolor": "white",
                        "ticks": ""
                      }
                    },
                    "title": {
                      "x": 0.05
                    },
                    "xaxis": {
                      "automargin": true,
                      "gridcolor": "white",
                      "linecolor": "white",
                      "ticks": "",
                      "title": {
                        "standoff": 15
                      },
                      "zerolinecolor": "white",
                      "zerolinewidth": 2
                    },
                    "yaxis": {
                      "automargin": true,
                      "gridcolor": "white",
                      "linecolor": "white",
                      "ticks": "",
                      "title": {
                        "standoff": 15
                      },
                      "zerolinecolor": "white",
                      "zerolinewidth": 2
                    }
                  }
                },
                "title": {
                  "text": "Expenses vs Income"
                },
                "xaxis": {
                  "anchor": "y",
                  "domain": [
                    0,
                    1
                  ],
                  "title": {
                    "text": "Income/Expense"
                  }
                },
                "yaxis": {
                  "anchor": "x",
                  "domain": [
                    0,
                    1
                  ],
                  "title": {
                    "text": "count"
                  }
                }
              }
            },
            "text/html": [
              "<div>                        <script type=\"text/javascript\">window.PlotlyConfig = {MathJaxConfig: 'local'};</script>\n",
              "        <script charset=\"utf-8\" src=\"https://cdn.plot.ly/plotly-2.32.0.min.js\"></script>                <div id=\"a3ca3a44-43d9-4e5d-b0e1-1a9da3d51f20\" class=\"plotly-graph-div\" style=\"height:100%; width:100%;\"></div>            <script type=\"text/javascript\">                                    window.PLOTLYENV=window.PLOTLYENV || {};                                    if (document.getElementById(\"a3ca3a44-43d9-4e5d-b0e1-1a9da3d51f20\")) {                    Plotly.newPlot(                        \"a3ca3a44-43d9-4e5d-b0e1-1a9da3d51f20\",                        [{\"alignmentgroup\":\"True\",\"bingroup\":\"x\",\"hovertemplate\":\"Income\\u002fExpense=%{x}\\u003cbr\\u003ecount=%{y}\\u003cextra\\u003e\\u003c\\u002fextra\\u003e\",\"legendgroup\":\"\",\"marker\":{\"color\":\"#636efa\",\"pattern\":{\"shape\":\"\"}},\"name\":\"\",\"offsetgroup\":\"\",\"orientation\":\"v\",\"showlegend\":false,\"x\":[\"Expense\",\"Expense\",\"Expense\",\"Expense\",\"Expense\",\"Income\",\"Income\",\"Expense\",\"Income\",\"Expense\",\"Income\",\"Expense\",\"Expense\",\"Expense\",\"Expense\",\"Expense\",\"Expense\",\"Expense\",\"Expense\",\"Expense\",\"Expense\",\"Expense\",\"Expense\",\"Expense\",\"Expense\",\"Expense\",\"Expense\",\"Expense\",\"Expense\",\"Expense\",\"Expense\",\"Expense\",\"Expense\",\"Expense\",\"Expense\",\"Expense\",\"Expense\",\"Expense\",\"Expense\",\"Expense\",\"Expense\",\"Income\",\"Expense\",\"Expense\",\"Income\",\"Expense\",\"Expense\",\"Expense\",\"Expense\",\"Expense\",\"Income\",\"Expense\",\"Expense\",\"Expense\",\"Expense\",\"Expense\",\"Income\",\"Expense\",\"Expense\",\"Expense\",\"Expense\",\"Expense\",\"Expense\",\"Expense\",\"Expense\",\"Expense\",\"Expense\",\"Expense\",\"Expense\",\"Expense\",\"Expense\",\"Income\",\"Income\",\"Expense\",\"Income\",\"Expense\",\"Expense\",\"Expense\",\"Expense\",\"Expense\",\"Expense\",\"Expense\",\"Expense\",\"Expense\",\"Expense\",\"Income\",\"Expense\",\"Expense\",\"Income\",\"Expense\",\"Expense\",\"Income\",\"Expense\",\"Expense\",\"Expense\",\"Expense\",\"Expense\",\"Income\",\"Expense\",\"Expense\",\"Income\",\"Expense\",\"Income\",\"Income\",\"Income\",\"Income\",\"Income\",\"Expense\",\"Expense\",\"Income\",\"Expense\",\"Expense\",\"Expense\",\"Income\",\"Expense\",\"Expense\",\"Income\",\"Expense\",\"Expense\",\"Expense\",\"Income\",\"Expense\",\"Expense\",\"Expense\",\"Expense\",\"Expense\",\"Expense\",\"Expense\",\"Expense\",\"Expense\",\"Expense\",\"Expense\",\"Expense\",\"Expense\",\"Income\",\"Expense\",\"Expense\",\"Expense\",\"Expense\",\"Income\",\"Income\",\"Income\",\"Expense\",\"Income\",\"Expense\",\"Expense\",\"Expense\",\"Expense\",\"Income\",\"Expense\",\"Expense\",\"Income\",\"Expense\",\"Expense\",\"Income\",\"Expense\",\"Income\",\"Expense\",\"Income\",\"Expense\",\"Expense\",\"Income\",\"Income\",\"Expense\",\"Expense\",\"Expense\",\"Expense\",\"Expense\",\"Expense\",\"Expense\",\"Expense\",\"Expense\",\"Expense\",\"Expense\",\"Expense\",\"Expense\",\"Expense\",\"Expense\",\"Expense\",\"Expense\",\"Expense\",\"Expense\",\"Expense\",\"Expense\",\"Expense\",\"Expense\",\"Expense\",\"Income\",\"Income\",\"Expense\",\"Expense\",\"Expense\",\"Expense\",\"Expense\",\"Expense\",\"Expense\",\"Expense\",\"Expense\",\"Expense\",\"Expense\",\"Expense\",\"Expense\",\"Expense\",\"Expense\",\"Income\",\"Income\",\"Expense\",\"Expense\",\"Expense\",\"Expense\",\"Expense\",\"Expense\",\"Expense\",\"Expense\",\"Expense\",\"Expense\",\"Expense\",\"Expense\",\"Expense\",\"Expense\",\"Expense\",\"Expense\",\"Expense\",\"Expense\",\"Income\",\"Expense\",\"Expense\",\"Expense\",\"Expense\",\"Expense\",\"Expense\",\"Expense\",\"Expense\",\"Income\",\"Expense\",\"Expense\",\"Expense\",\"Expense\",\"Expense\",\"Expense\",\"Expense\",\"Expense\",\"Expense\",\"Expense\",\"Expense\",\"Expense\",\"Expense\",\"Expense\",\"Expense\",\"Expense\",\"Expense\",\"Income\",\"Expense\",\"Expense\",\"Expense\",\"Expense\",\"Income\",\"Expense\",\"Expense\",\"Expense\",\"Expense\",\"Expense\",\"Expense\",\"Expense\",\"Expense\",\"Expense\",\"Expense\",\"Expense\",\"Expense\",\"Expense\",\"Expense\",\"Expense\",\"Income\"],\"xaxis\":\"x\",\"yaxis\":\"y\",\"type\":\"histogram\"}],                        {\"template\":{\"data\":{\"histogram2dcontour\":[{\"type\":\"histogram2dcontour\",\"colorbar\":{\"outlinewidth\":0,\"ticks\":\"\"},\"colorscale\":[[0.0,\"#0d0887\"],[0.1111111111111111,\"#46039f\"],[0.2222222222222222,\"#7201a8\"],[0.3333333333333333,\"#9c179e\"],[0.4444444444444444,\"#bd3786\"],[0.5555555555555556,\"#d8576b\"],[0.6666666666666666,\"#ed7953\"],[0.7777777777777778,\"#fb9f3a\"],[0.8888888888888888,\"#fdca26\"],[1.0,\"#f0f921\"]]}],\"choropleth\":[{\"type\":\"choropleth\",\"colorbar\":{\"outlinewidth\":0,\"ticks\":\"\"}}],\"histogram2d\":[{\"type\":\"histogram2d\",\"colorbar\":{\"outlinewidth\":0,\"ticks\":\"\"},\"colorscale\":[[0.0,\"#0d0887\"],[0.1111111111111111,\"#46039f\"],[0.2222222222222222,\"#7201a8\"],[0.3333333333333333,\"#9c179e\"],[0.4444444444444444,\"#bd3786\"],[0.5555555555555556,\"#d8576b\"],[0.6666666666666666,\"#ed7953\"],[0.7777777777777778,\"#fb9f3a\"],[0.8888888888888888,\"#fdca26\"],[1.0,\"#f0f921\"]]}],\"heatmap\":[{\"type\":\"heatmap\",\"colorbar\":{\"outlinewidth\":0,\"ticks\":\"\"},\"colorscale\":[[0.0,\"#0d0887\"],[0.1111111111111111,\"#46039f\"],[0.2222222222222222,\"#7201a8\"],[0.3333333333333333,\"#9c179e\"],[0.4444444444444444,\"#bd3786\"],[0.5555555555555556,\"#d8576b\"],[0.6666666666666666,\"#ed7953\"],[0.7777777777777778,\"#fb9f3a\"],[0.8888888888888888,\"#fdca26\"],[1.0,\"#f0f921\"]]}],\"heatmapgl\":[{\"type\":\"heatmapgl\",\"colorbar\":{\"outlinewidth\":0,\"ticks\":\"\"},\"colorscale\":[[0.0,\"#0d0887\"],[0.1111111111111111,\"#46039f\"],[0.2222222222222222,\"#7201a8\"],[0.3333333333333333,\"#9c179e\"],[0.4444444444444444,\"#bd3786\"],[0.5555555555555556,\"#d8576b\"],[0.6666666666666666,\"#ed7953\"],[0.7777777777777778,\"#fb9f3a\"],[0.8888888888888888,\"#fdca26\"],[1.0,\"#f0f921\"]]}],\"contourcarpet\":[{\"type\":\"contourcarpet\",\"colorbar\":{\"outlinewidth\":0,\"ticks\":\"\"}}],\"contour\":[{\"type\":\"contour\",\"colorbar\":{\"outlinewidth\":0,\"ticks\":\"\"},\"colorscale\":[[0.0,\"#0d0887\"],[0.1111111111111111,\"#46039f\"],[0.2222222222222222,\"#7201a8\"],[0.3333333333333333,\"#9c179e\"],[0.4444444444444444,\"#bd3786\"],[0.5555555555555556,\"#d8576b\"],[0.6666666666666666,\"#ed7953\"],[0.7777777777777778,\"#fb9f3a\"],[0.8888888888888888,\"#fdca26\"],[1.0,\"#f0f921\"]]}],\"surface\":[{\"type\":\"surface\",\"colorbar\":{\"outlinewidth\":0,\"ticks\":\"\"},\"colorscale\":[[0.0,\"#0d0887\"],[0.1111111111111111,\"#46039f\"],[0.2222222222222222,\"#7201a8\"],[0.3333333333333333,\"#9c179e\"],[0.4444444444444444,\"#bd3786\"],[0.5555555555555556,\"#d8576b\"],[0.6666666666666666,\"#ed7953\"],[0.7777777777777778,\"#fb9f3a\"],[0.8888888888888888,\"#fdca26\"],[1.0,\"#f0f921\"]]}],\"mesh3d\":[{\"type\":\"mesh3d\",\"colorbar\":{\"outlinewidth\":0,\"ticks\":\"\"}}],\"scatter\":[{\"fillpattern\":{\"fillmode\":\"overlay\",\"size\":10,\"solidity\":0.2},\"type\":\"scatter\"}],\"parcoords\":[{\"type\":\"parcoords\",\"line\":{\"colorbar\":{\"outlinewidth\":0,\"ticks\":\"\"}}}],\"scatterpolargl\":[{\"type\":\"scatterpolargl\",\"marker\":{\"colorbar\":{\"outlinewidth\":0,\"ticks\":\"\"}}}],\"bar\":[{\"error_x\":{\"color\":\"#2a3f5f\"},\"error_y\":{\"color\":\"#2a3f5f\"},\"marker\":{\"line\":{\"color\":\"#E5ECF6\",\"width\":0.5},\"pattern\":{\"fillmode\":\"overlay\",\"size\":10,\"solidity\":0.2}},\"type\":\"bar\"}],\"scattergeo\":[{\"type\":\"scattergeo\",\"marker\":{\"colorbar\":{\"outlinewidth\":0,\"ticks\":\"\"}}}],\"scatterpolar\":[{\"type\":\"scatterpolar\",\"marker\":{\"colorbar\":{\"outlinewidth\":0,\"ticks\":\"\"}}}],\"histogram\":[{\"marker\":{\"pattern\":{\"fillmode\":\"overlay\",\"size\":10,\"solidity\":0.2}},\"type\":\"histogram\"}],\"scattergl\":[{\"type\":\"scattergl\",\"marker\":{\"colorbar\":{\"outlinewidth\":0,\"ticks\":\"\"}}}],\"scatter3d\":[{\"type\":\"scatter3d\",\"line\":{\"colorbar\":{\"outlinewidth\":0,\"ticks\":\"\"}},\"marker\":{\"colorbar\":{\"outlinewidth\":0,\"ticks\":\"\"}}}],\"scattermapbox\":[{\"type\":\"scattermapbox\",\"marker\":{\"colorbar\":{\"outlinewidth\":0,\"ticks\":\"\"}}}],\"scatterternary\":[{\"type\":\"scatterternary\",\"marker\":{\"colorbar\":{\"outlinewidth\":0,\"ticks\":\"\"}}}],\"scattercarpet\":[{\"type\":\"scattercarpet\",\"marker\":{\"colorbar\":{\"outlinewidth\":0,\"ticks\":\"\"}}}],\"carpet\":[{\"aaxis\":{\"endlinecolor\":\"#2a3f5f\",\"gridcolor\":\"white\",\"linecolor\":\"white\",\"minorgridcolor\":\"white\",\"startlinecolor\":\"#2a3f5f\"},\"baxis\":{\"endlinecolor\":\"#2a3f5f\",\"gridcolor\":\"white\",\"linecolor\":\"white\",\"minorgridcolor\":\"white\",\"startlinecolor\":\"#2a3f5f\"},\"type\":\"carpet\"}],\"table\":[{\"cells\":{\"fill\":{\"color\":\"#EBF0F8\"},\"line\":{\"color\":\"white\"}},\"header\":{\"fill\":{\"color\":\"#C8D4E3\"},\"line\":{\"color\":\"white\"}},\"type\":\"table\"}],\"barpolar\":[{\"marker\":{\"line\":{\"color\":\"#E5ECF6\",\"width\":0.5},\"pattern\":{\"fillmode\":\"overlay\",\"size\":10,\"solidity\":0.2}},\"type\":\"barpolar\"}],\"pie\":[{\"automargin\":true,\"type\":\"pie\"}]},\"layout\":{\"autotypenumbers\":\"strict\",\"colorway\":[\"#636efa\",\"#EF553B\",\"#00cc96\",\"#ab63fa\",\"#FFA15A\",\"#19d3f3\",\"#FF6692\",\"#B6E880\",\"#FF97FF\",\"#FECB52\"],\"font\":{\"color\":\"#2a3f5f\"},\"hovermode\":\"closest\",\"hoverlabel\":{\"align\":\"left\"},\"paper_bgcolor\":\"white\",\"plot_bgcolor\":\"#E5ECF6\",\"polar\":{\"bgcolor\":\"#E5ECF6\",\"angularaxis\":{\"gridcolor\":\"white\",\"linecolor\":\"white\",\"ticks\":\"\"},\"radialaxis\":{\"gridcolor\":\"white\",\"linecolor\":\"white\",\"ticks\":\"\"}},\"ternary\":{\"bgcolor\":\"#E5ECF6\",\"aaxis\":{\"gridcolor\":\"white\",\"linecolor\":\"white\",\"ticks\":\"\"},\"baxis\":{\"gridcolor\":\"white\",\"linecolor\":\"white\",\"ticks\":\"\"},\"caxis\":{\"gridcolor\":\"white\",\"linecolor\":\"white\",\"ticks\":\"\"}},\"coloraxis\":{\"colorbar\":{\"outlinewidth\":0,\"ticks\":\"\"}},\"colorscale\":{\"sequential\":[[0.0,\"#0d0887\"],[0.1111111111111111,\"#46039f\"],[0.2222222222222222,\"#7201a8\"],[0.3333333333333333,\"#9c179e\"],[0.4444444444444444,\"#bd3786\"],[0.5555555555555556,\"#d8576b\"],[0.6666666666666666,\"#ed7953\"],[0.7777777777777778,\"#fb9f3a\"],[0.8888888888888888,\"#fdca26\"],[1.0,\"#f0f921\"]],\"sequentialminus\":[[0.0,\"#0d0887\"],[0.1111111111111111,\"#46039f\"],[0.2222222222222222,\"#7201a8\"],[0.3333333333333333,\"#9c179e\"],[0.4444444444444444,\"#bd3786\"],[0.5555555555555556,\"#d8576b\"],[0.6666666666666666,\"#ed7953\"],[0.7777777777777778,\"#fb9f3a\"],[0.8888888888888888,\"#fdca26\"],[1.0,\"#f0f921\"]],\"diverging\":[[0,\"#8e0152\"],[0.1,\"#c51b7d\"],[0.2,\"#de77ae\"],[0.3,\"#f1b6da\"],[0.4,\"#fde0ef\"],[0.5,\"#f7f7f7\"],[0.6,\"#e6f5d0\"],[0.7,\"#b8e186\"],[0.8,\"#7fbc41\"],[0.9,\"#4d9221\"],[1,\"#276419\"]]},\"xaxis\":{\"gridcolor\":\"white\",\"linecolor\":\"white\",\"ticks\":\"\",\"title\":{\"standoff\":15},\"zerolinecolor\":\"white\",\"automargin\":true,\"zerolinewidth\":2},\"yaxis\":{\"gridcolor\":\"white\",\"linecolor\":\"white\",\"ticks\":\"\",\"title\":{\"standoff\":15},\"zerolinecolor\":\"white\",\"automargin\":true,\"zerolinewidth\":2},\"scene\":{\"xaxis\":{\"backgroundcolor\":\"#E5ECF6\",\"gridcolor\":\"white\",\"linecolor\":\"white\",\"showbackground\":true,\"ticks\":\"\",\"zerolinecolor\":\"white\",\"gridwidth\":2},\"yaxis\":{\"backgroundcolor\":\"#E5ECF6\",\"gridcolor\":\"white\",\"linecolor\":\"white\",\"showbackground\":true,\"ticks\":\"\",\"zerolinecolor\":\"white\",\"gridwidth\":2},\"zaxis\":{\"backgroundcolor\":\"#E5ECF6\",\"gridcolor\":\"white\",\"linecolor\":\"white\",\"showbackground\":true,\"ticks\":\"\",\"zerolinecolor\":\"white\",\"gridwidth\":2}},\"shapedefaults\":{\"line\":{\"color\":\"#2a3f5f\"}},\"annotationdefaults\":{\"arrowcolor\":\"#2a3f5f\",\"arrowhead\":0,\"arrowwidth\":1},\"geo\":{\"bgcolor\":\"white\",\"landcolor\":\"#E5ECF6\",\"subunitcolor\":\"white\",\"showland\":true,\"showlakes\":true,\"lakecolor\":\"white\"},\"title\":{\"x\":0.05},\"mapbox\":{\"style\":\"light\"}}},\"xaxis\":{\"anchor\":\"y\",\"domain\":[0.0,1.0],\"title\":{\"text\":\"Income\\u002fExpense\"}},\"yaxis\":{\"anchor\":\"x\",\"domain\":[0.0,1.0],\"title\":{\"text\":\"count\"}},\"legend\":{\"tracegroupgap\":0},\"title\":{\"text\":\"Expenses vs Income\"},\"barmode\":\"relative\"},                        {\"responsive\": true}                    )                };                            </script>        </div>"
            ],
            "text/plain": [
              "Figure({\n",
              "    'data': [{'alignmentgroup': 'True',\n",
              "              'bingroup': 'x',\n",
              "              'hovertemplate': 'Income/Expense=%{x}<br>count=%{y}<extra></extra>',\n",
              "              'legendgroup': '',\n",
              "              'marker': {'color': '#636efa', 'pattern': {'shape': ''}},\n",
              "              'name': '',\n",
              "              'offsetgroup': '',\n",
              "              'orientation': 'v',\n",
              "              'showlegend': False,\n",
              "              'type': 'histogram',\n",
              "              'x': array(['Expense', 'Expense', 'Expense', ..., 'Expense', 'Expense', 'Income'],\n",
              "                         dtype=object),\n",
              "              'xaxis': 'x',\n",
              "              'yaxis': 'y'}],\n",
              "    'layout': {'barmode': 'relative',\n",
              "               'legend': {'tracegroupgap': 0},\n",
              "               'template': '...',\n",
              "               'title': {'text': 'Expenses vs Income'},\n",
              "               'xaxis': {'anchor': 'y', 'domain': [0.0, 1.0], 'title': {'text': 'Income/Expense'}},\n",
              "               'yaxis': {'anchor': 'x', 'domain': [0.0, 1.0], 'title': {'text': 'count'}}}\n",
              "})"
            ]
          },
          "execution_count": 188,
          "metadata": {},
          "output_type": "execute_result"
        }
      ],
      "source": [
        "px.histogram(expense_df,'Income/Expense',title='Expenses vs Income')"
      ]
    },
    {
      "cell_type": "code",
      "execution_count": 189,
      "id": "eb6f82aa",
      "metadata": {
        "id": "eb6f82aa",
        "outputId": "5a7a578b-d43a-4552-f464-a80e71965338"
      },
      "outputs": [
        {
          "data": {
            "text/plain": [
              "273"
            ]
          },
          "execution_count": 189,
          "metadata": {},
          "output_type": "execute_result"
        }
      ],
      "source": [
        "len(expense_df) ##Total length of the dataset"
      ]
    },
    {
      "cell_type": "code",
      "execution_count": 190,
      "id": "282c545a",
      "metadata": {
        "id": "282c545a"
      },
      "outputs": [],
      "source": [
        "income_df=expense_df[expense_df['Income/Expense']== 'Income'] # shifted the income from expense dataset"
      ]
    },
    {
      "cell_type": "code",
      "execution_count": 191,
      "id": "7a1aeb6d",
      "metadata": {
        "id": "7a1aeb6d",
        "outputId": "c98c6ab7-ca42-463e-d6d3-f9757891866b"
      },
      "outputs": [
        {
          "data": {
            "text/html": [
              "<div>\n",
              "<style scoped>\n",
              "    .dataframe tbody tr th:only-of-type {\n",
              "        vertical-align: middle;\n",
              "    }\n",
              "\n",
              "    .dataframe tbody tr th {\n",
              "        vertical-align: top;\n",
              "    }\n",
              "\n",
              "    .dataframe thead th {\n",
              "        text-align: right;\n",
              "    }\n",
              "</style>\n",
              "<table border=\"1\" class=\"dataframe\">\n",
              "  <thead>\n",
              "    <tr style=\"text-align: right;\">\n",
              "      <th></th>\n",
              "      <th>Date</th>\n",
              "      <th>Account</th>\n",
              "      <th>Category</th>\n",
              "      <th>Note</th>\n",
              "      <th>Income/Expense</th>\n",
              "      <th>Amount</th>\n",
              "    </tr>\n",
              "  </thead>\n",
              "  <tbody>\n",
              "    <tr>\n",
              "      <th>5</th>\n",
              "      <td>2022-03-01 18:22:00</td>\n",
              "      <td>CUB - online payment</td>\n",
              "      <td>Other</td>\n",
              "      <td>From vicky</td>\n",
              "      <td>Income</td>\n",
              "      <td>100.0</td>\n",
              "    </tr>\n",
              "    <tr>\n",
              "      <th>6</th>\n",
              "      <td>2022-03-01 18:21:00</td>\n",
              "      <td>CUB - online payment</td>\n",
              "      <td>Other</td>\n",
              "      <td>From dad</td>\n",
              "      <td>Income</td>\n",
              "      <td>500.0</td>\n",
              "    </tr>\n",
              "    <tr>\n",
              "      <th>8</th>\n",
              "      <td>2022-02-28 11:45:00</td>\n",
              "      <td>CUB - online payment</td>\n",
              "      <td>Other</td>\n",
              "      <td>From kumara</td>\n",
              "      <td>Income</td>\n",
              "      <td>200.0</td>\n",
              "    </tr>\n",
              "    <tr>\n",
              "      <th>11</th>\n",
              "      <td>2022-02-26 17:37:00</td>\n",
              "      <td>CUB - online payment</td>\n",
              "      <td>Other</td>\n",
              "      <td>From dad</td>\n",
              "      <td>Income</td>\n",
              "      <td>1500.0</td>\n",
              "    </tr>\n",
              "    <tr>\n",
              "      <th>45</th>\n",
              "      <td>2022-02-12 14:47:00</td>\n",
              "      <td>CUB - online payment</td>\n",
              "      <td>Other</td>\n",
              "      <td>From dad</td>\n",
              "      <td>Income</td>\n",
              "      <td>10000.0</td>\n",
              "    </tr>\n",
              "    <tr>\n",
              "      <th>48</th>\n",
              "      <td>2022-02-08 10:37:00</td>\n",
              "      <td>CUB - online payment</td>\n",
              "      <td>Other</td>\n",
              "      <td>From dad</td>\n",
              "      <td>Income</td>\n",
              "      <td>1000.0</td>\n",
              "    </tr>\n",
              "    <tr>\n",
              "      <th>54</th>\n",
              "      <td>2022-02-06 16:41:00</td>\n",
              "      <td>CUB - online payment</td>\n",
              "      <td>Other</td>\n",
              "      <td>Salary from dad</td>\n",
              "      <td>Income</td>\n",
              "      <td>5000.0</td>\n",
              "    </tr>\n",
              "    <tr>\n",
              "      <th>60</th>\n",
              "      <td>2022-02-02 20:14:00</td>\n",
              "      <td>CUB - online payment</td>\n",
              "      <td>Other</td>\n",
              "      <td>From dad</td>\n",
              "      <td>Income</td>\n",
              "      <td>500.0</td>\n",
              "    </tr>\n",
              "    <tr>\n",
              "      <th>75</th>\n",
              "      <td>2022-01-27 13:38:00</td>\n",
              "      <td>CUB - online payment</td>\n",
              "      <td>Other</td>\n",
              "      <td>From vicky</td>\n",
              "      <td>Income</td>\n",
              "      <td>300.0</td>\n",
              "    </tr>\n",
              "    <tr>\n",
              "      <th>76</th>\n",
              "      <td>2022-01-27 13:38:00</td>\n",
              "      <td>CUB - online payment</td>\n",
              "      <td>Other</td>\n",
              "      <td>From dad</td>\n",
              "      <td>Income</td>\n",
              "      <td>1500.0</td>\n",
              "    </tr>\n",
              "    <tr>\n",
              "      <th>78</th>\n",
              "      <td>2022-01-26 17:45:00</td>\n",
              "      <td>CUB - online payment</td>\n",
              "      <td>Other</td>\n",
              "      <td>Vishnu 100 gowdham 25</td>\n",
              "      <td>Income</td>\n",
              "      <td>125.0</td>\n",
              "    </tr>\n",
              "    <tr>\n",
              "      <th>89</th>\n",
              "      <td>2022-01-23 21:29:00</td>\n",
              "      <td>CUB - online payment</td>\n",
              "      <td>Other</td>\n",
              "      <td>From vicky</td>\n",
              "      <td>Income</td>\n",
              "      <td>310.0</td>\n",
              "    </tr>\n",
              "    <tr>\n",
              "      <th>92</th>\n",
              "      <td>2022-01-23 21:27:00</td>\n",
              "      <td>CUB - online payment</td>\n",
              "      <td>Other</td>\n",
              "      <td>From dad</td>\n",
              "      <td>Income</td>\n",
              "      <td>2000.0</td>\n",
              "    </tr>\n",
              "    <tr>\n",
              "      <th>95</th>\n",
              "      <td>2022-01-21 11:47:00</td>\n",
              "      <td>CUB - online payment</td>\n",
              "      <td>Other</td>\n",
              "      <td>From vicky</td>\n",
              "      <td>Income</td>\n",
              "      <td>200.0</td>\n",
              "    </tr>\n",
              "    <tr>\n",
              "      <th>101</th>\n",
              "      <td>2022-01-18 12:59:00</td>\n",
              "      <td>CUB - online payment</td>\n",
              "      <td>Other</td>\n",
              "      <td>From dad</td>\n",
              "      <td>Income</td>\n",
              "      <td>1000.0</td>\n",
              "    </tr>\n",
              "    <tr>\n",
              "      <th>104</th>\n",
              "      <td>2022-01-15 21:16:00</td>\n",
              "      <td>CUB - online payment</td>\n",
              "      <td>Other</td>\n",
              "      <td>From dad</td>\n",
              "      <td>Income</td>\n",
              "      <td>1500.0</td>\n",
              "    </tr>\n",
              "    <tr>\n",
              "      <th>106</th>\n",
              "      <td>2022-01-14 16:58:00</td>\n",
              "      <td>CUB - online payment</td>\n",
              "      <td>Other</td>\n",
              "      <td>Kumara</td>\n",
              "      <td>Income</td>\n",
              "      <td>170.0</td>\n",
              "    </tr>\n",
              "    <tr>\n",
              "      <th>107</th>\n",
              "      <td>2022-01-14 16:56:00</td>\n",
              "      <td>CUB - online payment</td>\n",
              "      <td>Other</td>\n",
              "      <td>Siva + 100 cash</td>\n",
              "      <td>Income</td>\n",
              "      <td>70.0</td>\n",
              "    </tr>\n",
              "    <tr>\n",
              "      <th>108</th>\n",
              "      <td>2022-01-14 16:56:00</td>\n",
              "      <td>CUB - online payment</td>\n",
              "      <td>Other</td>\n",
              "      <td>Gundan + prasanna</td>\n",
              "      <td>Income</td>\n",
              "      <td>340.0</td>\n",
              "    </tr>\n",
              "    <tr>\n",
              "      <th>109</th>\n",
              "      <td>2022-01-14 16:55:00</td>\n",
              "      <td>CUB - online payment</td>\n",
              "      <td>Other</td>\n",
              "      <td>Dinesh and maddy + 100 cash</td>\n",
              "      <td>Income</td>\n",
              "      <td>240.0</td>\n",
              "    </tr>\n",
              "    <tr>\n",
              "      <th>110</th>\n",
              "      <td>2022-01-14 16:54:00</td>\n",
              "      <td>CUB - online payment</td>\n",
              "      <td>Other</td>\n",
              "      <td>From gowdham</td>\n",
              "      <td>Income</td>\n",
              "      <td>340.0</td>\n",
              "    </tr>\n",
              "    <tr>\n",
              "      <th>113</th>\n",
              "      <td>2022-01-13 19:10:00</td>\n",
              "      <td>CUB - online payment</td>\n",
              "      <td>Other</td>\n",
              "      <td>From dad</td>\n",
              "      <td>Income</td>\n",
              "      <td>1000.0</td>\n",
              "    </tr>\n",
              "    <tr>\n",
              "      <th>117</th>\n",
              "      <td>2022-01-12 13:25:00</td>\n",
              "      <td>CUB - online payment</td>\n",
              "      <td>Other</td>\n",
              "      <td>From kumara</td>\n",
              "      <td>Income</td>\n",
              "      <td>200.0</td>\n",
              "    </tr>\n",
              "    <tr>\n",
              "      <th>120</th>\n",
              "      <td>2022-01-08 13:46:00</td>\n",
              "      <td>CUB - online payment</td>\n",
              "      <td>Other</td>\n",
              "      <td>From gowdham</td>\n",
              "      <td>Income</td>\n",
              "      <td>260.0</td>\n",
              "    </tr>\n",
              "    <tr>\n",
              "      <th>124</th>\n",
              "      <td>2022-01-06 21:30:00</td>\n",
              "      <td>CUB - online payment</td>\n",
              "      <td>Other</td>\n",
              "      <td>From barath and shakur</td>\n",
              "      <td>Income</td>\n",
              "      <td>440.0</td>\n",
              "    </tr>\n",
              "    <tr>\n",
              "      <th>138</th>\n",
              "      <td>2022-01-04 22:10:00</td>\n",
              "      <td>CUB - online payment</td>\n",
              "      <td>Salary</td>\n",
              "      <td>Salary</td>\n",
              "      <td>Income</td>\n",
              "      <td>8000.0</td>\n",
              "    </tr>\n",
              "    <tr>\n",
              "      <th>143</th>\n",
              "      <td>2022-01-03 21:54:00</td>\n",
              "      <td>CUB - online payment</td>\n",
              "      <td>Other</td>\n",
              "      <td>From barath</td>\n",
              "      <td>Income</td>\n",
              "      <td>201.0</td>\n",
              "    </tr>\n",
              "    <tr>\n",
              "      <th>144</th>\n",
              "      <td>2022-01-03 21:12:00</td>\n",
              "      <td>CUB - online payment</td>\n",
              "      <td>Other</td>\n",
              "      <td>From gpay</td>\n",
              "      <td>Income</td>\n",
              "      <td>5.0</td>\n",
              "    </tr>\n",
              "    <tr>\n",
              "      <th>145</th>\n",
              "      <td>2022-01-03 21:11:00</td>\n",
              "      <td>CUB - online payment</td>\n",
              "      <td>Other</td>\n",
              "      <td>From shakur</td>\n",
              "      <td>Income</td>\n",
              "      <td>140.0</td>\n",
              "    </tr>\n",
              "    <tr>\n",
              "      <th>147</th>\n",
              "      <td>2022-01-03 14:30:00</td>\n",
              "      <td>CUB - online payment</td>\n",
              "      <td>Other</td>\n",
              "      <td>From abi</td>\n",
              "      <td>Income</td>\n",
              "      <td>300.0</td>\n",
              "    </tr>\n",
              "    <tr>\n",
              "      <th>152</th>\n",
              "      <td>2022-01-01 21:45:00</td>\n",
              "      <td>CUB - online payment</td>\n",
              "      <td>Allowance</td>\n",
              "      <td>From dad</td>\n",
              "      <td>Income</td>\n",
              "      <td>1000.0</td>\n",
              "    </tr>\n",
              "    <tr>\n",
              "      <th>155</th>\n",
              "      <td>2021-12-30 13:36:00</td>\n",
              "      <td>CUB - online payment</td>\n",
              "      <td>Other</td>\n",
              "      <td>From kumara</td>\n",
              "      <td>Income</td>\n",
              "      <td>30.0</td>\n",
              "    </tr>\n",
              "    <tr>\n",
              "      <th>158</th>\n",
              "      <td>2021-12-30 12:37:00</td>\n",
              "      <td>CUB - online payment</td>\n",
              "      <td>Other</td>\n",
              "      <td>From Deepak</td>\n",
              "      <td>Income</td>\n",
              "      <td>250.0</td>\n",
              "    </tr>\n",
              "    <tr>\n",
              "      <th>160</th>\n",
              "      <td>2021-12-30 11:45:00</td>\n",
              "      <td>CUB - online payment</td>\n",
              "      <td>Other</td>\n",
              "      <td>From abi</td>\n",
              "      <td>Income</td>\n",
              "      <td>20.0</td>\n",
              "    </tr>\n",
              "    <tr>\n",
              "      <th>162</th>\n",
              "      <td>2021-12-30 11:44:00</td>\n",
              "      <td>CUB - online payment</td>\n",
              "      <td>Other</td>\n",
              "      <td>From Deepak</td>\n",
              "      <td>Income</td>\n",
              "      <td>250.0</td>\n",
              "    </tr>\n",
              "    <tr>\n",
              "      <th>165</th>\n",
              "      <td>2021-12-27 13:44:00</td>\n",
              "      <td>CUB - online payment</td>\n",
              "      <td>Other</td>\n",
              "      <td>From vicky</td>\n",
              "      <td>Income</td>\n",
              "      <td>80.0</td>\n",
              "    </tr>\n",
              "    <tr>\n",
              "      <th>166</th>\n",
              "      <td>2021-12-27 12:33:00</td>\n",
              "      <td>CUB - online payment</td>\n",
              "      <td>Other</td>\n",
              "      <td>From ganesan</td>\n",
              "      <td>Income</td>\n",
              "      <td>40.0</td>\n",
              "    </tr>\n",
              "    <tr>\n",
              "      <th>191</th>\n",
              "      <td>2021-12-18 21:00:00</td>\n",
              "      <td>CUB - online payment</td>\n",
              "      <td>Allowance</td>\n",
              "      <td>From dad</td>\n",
              "      <td>Income</td>\n",
              "      <td>1000.0</td>\n",
              "    </tr>\n",
              "    <tr>\n",
              "      <th>192</th>\n",
              "      <td>2021-12-18 19:52:00</td>\n",
              "      <td>CUB - online payment</td>\n",
              "      <td>Other</td>\n",
              "      <td>Lended money</td>\n",
              "      <td>Income</td>\n",
              "      <td>400.0</td>\n",
              "    </tr>\n",
              "    <tr>\n",
              "      <th>208</th>\n",
              "      <td>2021-12-11 09:22:00</td>\n",
              "      <td>CUB - online payment</td>\n",
              "      <td>Allowance</td>\n",
              "      <td>From dad</td>\n",
              "      <td>Income</td>\n",
              "      <td>1000.0</td>\n",
              "    </tr>\n",
              "    <tr>\n",
              "      <th>209</th>\n",
              "      <td>2021-12-11 08:20:00</td>\n",
              "      <td>CUB - online payment</td>\n",
              "      <td>Other</td>\n",
              "      <td>From stu</td>\n",
              "      <td>Income</td>\n",
              "      <td>240.0</td>\n",
              "    </tr>\n",
              "    <tr>\n",
              "      <th>228</th>\n",
              "      <td>2021-12-05 12:23:00</td>\n",
              "      <td>CUB - online payment</td>\n",
              "      <td>Allowance</td>\n",
              "      <td>From dad</td>\n",
              "      <td>Income</td>\n",
              "      <td>8000.0</td>\n",
              "    </tr>\n",
              "    <tr>\n",
              "      <th>237</th>\n",
              "      <td>2021-12-03 21:28:00</td>\n",
              "      <td>CUB - online payment</td>\n",
              "      <td>Allowance</td>\n",
              "      <td>From dad</td>\n",
              "      <td>Income</td>\n",
              "      <td>1000.0</td>\n",
              "    </tr>\n",
              "    <tr>\n",
              "      <th>255</th>\n",
              "      <td>2021-11-27 13:46:00</td>\n",
              "      <td>CUB - online payment</td>\n",
              "      <td>Allowance</td>\n",
              "      <td>From dad</td>\n",
              "      <td>Income</td>\n",
              "      <td>2000.0</td>\n",
              "    </tr>\n",
              "    <tr>\n",
              "      <th>260</th>\n",
              "      <td>2021-11-26 14:14:00</td>\n",
              "      <td>CUB - online payment</td>\n",
              "      <td>Petty cash</td>\n",
              "      <td>Cashback</td>\n",
              "      <td>Income</td>\n",
              "      <td>3.0</td>\n",
              "    </tr>\n",
              "    <tr>\n",
              "      <th>276</th>\n",
              "      <td>2021-11-21 13:30:00</td>\n",
              "      <td>CUB - online payment</td>\n",
              "      <td>Other</td>\n",
              "      <td>Got from gobi</td>\n",
              "      <td>Income</td>\n",
              "      <td>2000.0</td>\n",
              "    </tr>\n",
              "  </tbody>\n",
              "</table>\n",
              "</div>"
            ],
            "text/plain": [
              "                   Date               Account    Category  \\\n",
              "5   2022-03-01 18:22:00  CUB - online payment       Other   \n",
              "6   2022-03-01 18:21:00  CUB - online payment       Other   \n",
              "8   2022-02-28 11:45:00  CUB - online payment       Other   \n",
              "11  2022-02-26 17:37:00  CUB - online payment       Other   \n",
              "45  2022-02-12 14:47:00  CUB - online payment       Other   \n",
              "48  2022-02-08 10:37:00  CUB - online payment       Other   \n",
              "54  2022-02-06 16:41:00  CUB - online payment       Other   \n",
              "60  2022-02-02 20:14:00  CUB - online payment       Other   \n",
              "75  2022-01-27 13:38:00  CUB - online payment       Other   \n",
              "76  2022-01-27 13:38:00  CUB - online payment       Other   \n",
              "78  2022-01-26 17:45:00  CUB - online payment       Other   \n",
              "89  2022-01-23 21:29:00  CUB - online payment       Other   \n",
              "92  2022-01-23 21:27:00  CUB - online payment       Other   \n",
              "95  2022-01-21 11:47:00  CUB - online payment       Other   \n",
              "101 2022-01-18 12:59:00  CUB - online payment       Other   \n",
              "104 2022-01-15 21:16:00  CUB - online payment       Other   \n",
              "106 2022-01-14 16:58:00  CUB - online payment       Other   \n",
              "107 2022-01-14 16:56:00  CUB - online payment       Other   \n",
              "108 2022-01-14 16:56:00  CUB - online payment       Other   \n",
              "109 2022-01-14 16:55:00  CUB - online payment       Other   \n",
              "110 2022-01-14 16:54:00  CUB - online payment       Other   \n",
              "113 2022-01-13 19:10:00  CUB - online payment       Other   \n",
              "117 2022-01-12 13:25:00  CUB - online payment       Other   \n",
              "120 2022-01-08 13:46:00  CUB - online payment       Other   \n",
              "124 2022-01-06 21:30:00  CUB - online payment       Other   \n",
              "138 2022-01-04 22:10:00  CUB - online payment      Salary   \n",
              "143 2022-01-03 21:54:00  CUB - online payment       Other   \n",
              "144 2022-01-03 21:12:00  CUB - online payment       Other   \n",
              "145 2022-01-03 21:11:00  CUB - online payment       Other   \n",
              "147 2022-01-03 14:30:00  CUB - online payment       Other   \n",
              "152 2022-01-01 21:45:00  CUB - online payment   Allowance   \n",
              "155 2021-12-30 13:36:00  CUB - online payment       Other   \n",
              "158 2021-12-30 12:37:00  CUB - online payment       Other   \n",
              "160 2021-12-30 11:45:00  CUB - online payment       Other   \n",
              "162 2021-12-30 11:44:00  CUB - online payment       Other   \n",
              "165 2021-12-27 13:44:00  CUB - online payment       Other   \n",
              "166 2021-12-27 12:33:00  CUB - online payment       Other   \n",
              "191 2021-12-18 21:00:00  CUB - online payment   Allowance   \n",
              "192 2021-12-18 19:52:00  CUB - online payment       Other   \n",
              "208 2021-12-11 09:22:00  CUB - online payment   Allowance   \n",
              "209 2021-12-11 08:20:00  CUB - online payment       Other   \n",
              "228 2021-12-05 12:23:00  CUB - online payment   Allowance   \n",
              "237 2021-12-03 21:28:00  CUB - online payment   Allowance   \n",
              "255 2021-11-27 13:46:00  CUB - online payment   Allowance   \n",
              "260 2021-11-26 14:14:00  CUB - online payment  Petty cash   \n",
              "276 2021-11-21 13:30:00  CUB - online payment       Other   \n",
              "\n",
              "                            Note Income/Expense   Amount  \n",
              "5                     From vicky         Income    100.0  \n",
              "6                       From dad         Income    500.0  \n",
              "8                    From kumara         Income    200.0  \n",
              "11                      From dad         Income   1500.0  \n",
              "45                      From dad         Income  10000.0  \n",
              "48                      From dad         Income   1000.0  \n",
              "54               Salary from dad         Income   5000.0  \n",
              "60                      From dad         Income    500.0  \n",
              "75                    From vicky         Income    300.0  \n",
              "76                      From dad         Income   1500.0  \n",
              "78         Vishnu 100 gowdham 25         Income    125.0  \n",
              "89                    From vicky         Income    310.0  \n",
              "92                      From dad         Income   2000.0  \n",
              "95                    From vicky         Income    200.0  \n",
              "101                     From dad         Income   1000.0  \n",
              "104                     From dad         Income   1500.0  \n",
              "106                       Kumara         Income    170.0  \n",
              "107              Siva + 100 cash         Income     70.0  \n",
              "108            Gundan + prasanna         Income    340.0  \n",
              "109  Dinesh and maddy + 100 cash         Income    240.0  \n",
              "110                 From gowdham         Income    340.0  \n",
              "113                     From dad         Income   1000.0  \n",
              "117                  From kumara         Income    200.0  \n",
              "120                 From gowdham         Income    260.0  \n",
              "124       From barath and shakur         Income    440.0  \n",
              "138                       Salary         Income   8000.0  \n",
              "143                  From barath         Income    201.0  \n",
              "144                    From gpay         Income      5.0  \n",
              "145                  From shakur         Income    140.0  \n",
              "147                     From abi         Income    300.0  \n",
              "152                     From dad         Income   1000.0  \n",
              "155                  From kumara         Income     30.0  \n",
              "158                  From Deepak         Income    250.0  \n",
              "160                     From abi         Income     20.0  \n",
              "162                  From Deepak         Income    250.0  \n",
              "165                   From vicky         Income     80.0  \n",
              "166                 From ganesan         Income     40.0  \n",
              "191                     From dad         Income   1000.0  \n",
              "192                 Lended money         Income    400.0  \n",
              "208                     From dad         Income   1000.0  \n",
              "209                     From stu         Income    240.0  \n",
              "228                     From dad         Income   8000.0  \n",
              "237                     From dad         Income   1000.0  \n",
              "255                     From dad         Income   2000.0  \n",
              "260                     Cashback         Income      3.0  \n",
              "276                Got from gobi         Income   2000.0  "
            ]
          },
          "execution_count": 191,
          "metadata": {},
          "output_type": "execute_result"
        }
      ],
      "source": [
        "income_df"
      ]
    },
    {
      "cell_type": "code",
      "execution_count": 192,
      "id": "2522fddc",
      "metadata": {
        "id": "2522fddc",
        "outputId": "6803a54d-0a7c-42ae-94db-b994a0065ca0"
      },
      "outputs": [
        {
          "data": {
            "text/plain": [
              "46"
            ]
          },
          "execution_count": 192,
          "metadata": {},
          "output_type": "execute_result"
        }
      ],
      "source": [
        "len(income_df) # length of the new dataset"
      ]
    },
    {
      "cell_type": "code",
      "execution_count": 193,
      "id": "296ce13a",
      "metadata": {
        "id": "296ce13a"
      },
      "outputs": [],
      "source": [
        "expense_df=expense_df.drop(expense_df.loc[expense_df['Income/Expense'].isin(['Income'])].index)\n",
        "# dropping the orws which contains income"
      ]
    },
    {
      "cell_type": "code",
      "execution_count": 194,
      "id": "f7ca4ebf",
      "metadata": {
        "id": "f7ca4ebf",
        "outputId": "795d14ce-56d3-4b1c-f5c8-fc97910e595b"
      },
      "outputs": [
        {
          "data": {
            "text/html": [
              "<div>\n",
              "<style scoped>\n",
              "    .dataframe tbody tr th:only-of-type {\n",
              "        vertical-align: middle;\n",
              "    }\n",
              "\n",
              "    .dataframe tbody tr th {\n",
              "        vertical-align: top;\n",
              "    }\n",
              "\n",
              "    .dataframe thead th {\n",
              "        text-align: right;\n",
              "    }\n",
              "</style>\n",
              "<table border=\"1\" class=\"dataframe\">\n",
              "  <thead>\n",
              "    <tr style=\"text-align: right;\">\n",
              "      <th></th>\n",
              "      <th>Date</th>\n",
              "      <th>Account</th>\n",
              "      <th>Category</th>\n",
              "      <th>Note</th>\n",
              "      <th>Income/Expense</th>\n",
              "      <th>Amount</th>\n",
              "    </tr>\n",
              "  </thead>\n",
              "  <tbody>\n",
              "    <tr>\n",
              "      <th>0</th>\n",
              "      <td>2022-03-02 10:11:00</td>\n",
              "      <td>CUB - online payment</td>\n",
              "      <td>Food</td>\n",
              "      <td>Brownie</td>\n",
              "      <td>Expense</td>\n",
              "      <td>50.0</td>\n",
              "    </tr>\n",
              "    <tr>\n",
              "      <th>1</th>\n",
              "      <td>2022-03-02 10:11:00</td>\n",
              "      <td>CUB - online payment</td>\n",
              "      <td>Other</td>\n",
              "      <td>To lended people</td>\n",
              "      <td>Expense</td>\n",
              "      <td>300.0</td>\n",
              "    </tr>\n",
              "    <tr>\n",
              "      <th>2</th>\n",
              "      <td>2022-03-01 19:50:00</td>\n",
              "      <td>CUB - online payment</td>\n",
              "      <td>Food</td>\n",
              "      <td>Dinner</td>\n",
              "      <td>Expense</td>\n",
              "      <td>78.0</td>\n",
              "    </tr>\n",
              "    <tr>\n",
              "      <th>3</th>\n",
              "      <td>2022-03-01 18:56:00</td>\n",
              "      <td>CUB - online payment</td>\n",
              "      <td>Transportation</td>\n",
              "      <td>Metro</td>\n",
              "      <td>Expense</td>\n",
              "      <td>30.0</td>\n",
              "    </tr>\n",
              "    <tr>\n",
              "      <th>4</th>\n",
              "      <td>2022-03-01 18:22:00</td>\n",
              "      <td>CUB - online payment</td>\n",
              "      <td>Food</td>\n",
              "      <td>Snacks</td>\n",
              "      <td>Expense</td>\n",
              "      <td>67.0</td>\n",
              "    </tr>\n",
              "    <tr>\n",
              "      <th>...</th>\n",
              "      <td>...</td>\n",
              "      <td>...</td>\n",
              "      <td>...</td>\n",
              "      <td>...</td>\n",
              "      <td>...</td>\n",
              "      <td>...</td>\n",
              "    </tr>\n",
              "    <tr>\n",
              "      <th>271</th>\n",
              "      <td>2021-11-23 22:53:00</td>\n",
              "      <td>CUB - online payment</td>\n",
              "      <td>Food</td>\n",
              "      <td>Dinner</td>\n",
              "      <td>Expense</td>\n",
              "      <td>179.0</td>\n",
              "    </tr>\n",
              "    <tr>\n",
              "      <th>272</th>\n",
              "      <td>2021-11-22 14:16:00</td>\n",
              "      <td>CUB - online payment</td>\n",
              "      <td>Food</td>\n",
              "      <td>Dinner</td>\n",
              "      <td>Expense</td>\n",
              "      <td>90.0</td>\n",
              "    </tr>\n",
              "    <tr>\n",
              "      <th>273</th>\n",
              "      <td>2021-11-22 14:16:00</td>\n",
              "      <td>CUB - online payment</td>\n",
              "      <td>Food</td>\n",
              "      <td>Lunch with company</td>\n",
              "      <td>Expense</td>\n",
              "      <td>97.0</td>\n",
              "    </tr>\n",
              "    <tr>\n",
              "      <th>274</th>\n",
              "      <td>2021-11-21 17:07:00</td>\n",
              "      <td>CUB - online payment</td>\n",
              "      <td>Transportation</td>\n",
              "      <td>Rapido</td>\n",
              "      <td>Expense</td>\n",
              "      <td>130.0</td>\n",
              "    </tr>\n",
              "    <tr>\n",
              "      <th>275</th>\n",
              "      <td>2021-11-21 15:50:00</td>\n",
              "      <td>CUB - online payment</td>\n",
              "      <td>Food</td>\n",
              "      <td>Lunch</td>\n",
              "      <td>Expense</td>\n",
              "      <td>875.0</td>\n",
              "    </tr>\n",
              "  </tbody>\n",
              "</table>\n",
              "<p>227 rows × 6 columns</p>\n",
              "</div>"
            ],
            "text/plain": [
              "                   Date               Account        Category  \\\n",
              "0   2022-03-02 10:11:00  CUB - online payment            Food   \n",
              "1   2022-03-02 10:11:00  CUB - online payment           Other   \n",
              "2   2022-03-01 19:50:00  CUB - online payment            Food   \n",
              "3   2022-03-01 18:56:00  CUB - online payment  Transportation   \n",
              "4   2022-03-01 18:22:00  CUB - online payment            Food   \n",
              "..                  ...                   ...             ...   \n",
              "271 2021-11-23 22:53:00  CUB - online payment            Food   \n",
              "272 2021-11-22 14:16:00  CUB - online payment            Food   \n",
              "273 2021-11-22 14:16:00  CUB - online payment            Food   \n",
              "274 2021-11-21 17:07:00  CUB - online payment  Transportation   \n",
              "275 2021-11-21 15:50:00  CUB - online payment            Food   \n",
              "\n",
              "                   Note Income/Expense  Amount  \n",
              "0               Brownie        Expense    50.0  \n",
              "1      To lended people        Expense   300.0  \n",
              "2                Dinner        Expense    78.0  \n",
              "3                 Metro        Expense    30.0  \n",
              "4                Snacks        Expense    67.0  \n",
              "..                  ...            ...     ...  \n",
              "271              Dinner        Expense   179.0  \n",
              "272              Dinner        Expense    90.0  \n",
              "273  Lunch with company        Expense    97.0  \n",
              "274              Rapido        Expense   130.0  \n",
              "275               Lunch        Expense   875.0  \n",
              "\n",
              "[227 rows x 6 columns]"
            ]
          },
          "execution_count": 194,
          "metadata": {},
          "output_type": "execute_result"
        }
      ],
      "source": [
        "expense_df # new length of the dataset"
      ]
    },
    {
      "cell_type": "code",
      "execution_count": 195,
      "id": "18580618",
      "metadata": {
        "id": "18580618",
        "outputId": "bdd21d66-2dc0-444d-be85-17302b6dfcac"
      },
      "outputs": [
        {
          "ename": "ValueError",
          "evalue": "Mime type rendering requires nbformat>=4.2.0 but it is not installed",
          "output_type": "error",
          "traceback": [
            "\u001b[1;31m---------------------------------------------------------------------------\u001b[0m",
            "\u001b[1;31mValueError\u001b[0m                                Traceback (most recent call last)",
            "File \u001b[1;32m~\\AppData\\Roaming\\Python\\Python312\\site-packages\\IPython\\core\\formatters.py:925\u001b[0m, in \u001b[0;36mIPythonDisplayFormatter.__call__\u001b[1;34m(self, obj)\u001b[0m\n\u001b[0;32m    923\u001b[0m method \u001b[38;5;241m=\u001b[39m get_real_method(obj, \u001b[38;5;28mself\u001b[39m\u001b[38;5;241m.\u001b[39mprint_method)\n\u001b[0;32m    924\u001b[0m \u001b[38;5;28;01mif\u001b[39;00m method \u001b[38;5;129;01mis\u001b[39;00m \u001b[38;5;129;01mnot\u001b[39;00m \u001b[38;5;28;01mNone\u001b[39;00m:\n\u001b[1;32m--> 925\u001b[0m     \u001b[43mmethod\u001b[49m\u001b[43m(\u001b[49m\u001b[43m)\u001b[49m\n\u001b[0;32m    926\u001b[0m     \u001b[38;5;28;01mreturn\u001b[39;00m \u001b[38;5;28;01mTrue\u001b[39;00m\n",
            "File \u001b[1;32mc:\\Users\\ASUS\\AppData\\Local\\Programs\\Python\\Python312\\Lib\\site-packages\\plotly\\basedatatypes.py:832\u001b[0m, in \u001b[0;36mBaseFigure._ipython_display_\u001b[1;34m(self)\u001b[0m\n\u001b[0;32m    829\u001b[0m \u001b[38;5;28;01mimport\u001b[39;00m \u001b[38;5;21;01mplotly\u001b[39;00m\u001b[38;5;21;01m.\u001b[39;00m\u001b[38;5;21;01mio\u001b[39;00m \u001b[38;5;28;01mas\u001b[39;00m \u001b[38;5;21;01mpio\u001b[39;00m\n\u001b[0;32m    831\u001b[0m \u001b[38;5;28;01mif\u001b[39;00m pio\u001b[38;5;241m.\u001b[39mrenderers\u001b[38;5;241m.\u001b[39mrender_on_display \u001b[38;5;129;01mand\u001b[39;00m pio\u001b[38;5;241m.\u001b[39mrenderers\u001b[38;5;241m.\u001b[39mdefault:\n\u001b[1;32m--> 832\u001b[0m     \u001b[43mpio\u001b[49m\u001b[38;5;241;43m.\u001b[39;49m\u001b[43mshow\u001b[49m\u001b[43m(\u001b[49m\u001b[38;5;28;43mself\u001b[39;49m\u001b[43m)\u001b[49m\n\u001b[0;32m    833\u001b[0m \u001b[38;5;28;01melse\u001b[39;00m:\n\u001b[0;32m    834\u001b[0m     \u001b[38;5;28mprint\u001b[39m(\u001b[38;5;28mrepr\u001b[39m(\u001b[38;5;28mself\u001b[39m))\n",
            "File \u001b[1;32mc:\\Users\\ASUS\\AppData\\Local\\Programs\\Python\\Python312\\Lib\\site-packages\\plotly\\io\\_renderers.py:394\u001b[0m, in \u001b[0;36mshow\u001b[1;34m(fig, renderer, validate, **kwargs)\u001b[0m\n\u001b[0;32m    389\u001b[0m         \u001b[38;5;28;01mraise\u001b[39;00m \u001b[38;5;167;01mValueError\u001b[39;00m(\n\u001b[0;32m    390\u001b[0m             \u001b[38;5;124m\"\u001b[39m\u001b[38;5;124mMime type rendering requires ipython but it is not installed\u001b[39m\u001b[38;5;124m\"\u001b[39m\n\u001b[0;32m    391\u001b[0m         )\n\u001b[0;32m    393\u001b[0m     \u001b[38;5;28;01mif\u001b[39;00m \u001b[38;5;129;01mnot\u001b[39;00m nbformat \u001b[38;5;129;01mor\u001b[39;00m Version(nbformat\u001b[38;5;241m.\u001b[39m__version__) \u001b[38;5;241m<\u001b[39m Version(\u001b[38;5;124m\"\u001b[39m\u001b[38;5;124m4.2.0\u001b[39m\u001b[38;5;124m\"\u001b[39m):\n\u001b[1;32m--> 394\u001b[0m         \u001b[38;5;28;01mraise\u001b[39;00m \u001b[38;5;167;01mValueError\u001b[39;00m(\n\u001b[0;32m    395\u001b[0m             \u001b[38;5;124m\"\u001b[39m\u001b[38;5;124mMime type rendering requires nbformat>=4.2.0 but it is not installed\u001b[39m\u001b[38;5;124m\"\u001b[39m\n\u001b[0;32m    396\u001b[0m         )\n\u001b[0;32m    398\u001b[0m     ipython_display\u001b[38;5;241m.\u001b[39mdisplay(bundle, raw\u001b[38;5;241m=\u001b[39m\u001b[38;5;28;01mTrue\u001b[39;00m)\n\u001b[0;32m    400\u001b[0m \u001b[38;5;66;03m# external renderers\u001b[39;00m\n",
            "\u001b[1;31mValueError\u001b[0m: Mime type rendering requires nbformat>=4.2.0 but it is not installed"
          ]
        },
        {
          "data": {
            "application/vnd.plotly.v1+json": {
              "config": {
                "plotlyServerURL": "https://plot.ly"
              },
              "data": [
                {
                  "alignmentgroup": "True",
                  "bingroup": "x",
                  "hovertemplate": "Category=%{x}<br>count=%{y}<extra></extra>",
                  "legendgroup": "",
                  "marker": {
                    "color": "#636efa",
                    "pattern": {
                      "shape": ""
                    }
                  },
                  "name": "",
                  "offsetgroup": "",
                  "orientation": "v",
                  "showlegend": false,
                  "type": "histogram",
                  "x": [
                    "Food",
                    "Other",
                    "Food",
                    "Transportation",
                    "Food",
                    "Food",
                    "Food",
                    "Other",
                    "Food",
                    "Food",
                    "Food",
                    "Food",
                    "Apparel",
                    "Food",
                    "Apparel",
                    "Transportation",
                    "Transportation",
                    "Transportation",
                    "Household",
                    "Transportation",
                    "Food",
                    "Food",
                    "Food",
                    "Transportation",
                    "Transportation",
                    "Food",
                    "Transportation",
                    "Other",
                    "Transportation",
                    "Food",
                    "Food",
                    "Food",
                    "Food",
                    "Social Life",
                    "Food",
                    "Household",
                    "Food",
                    "Food",
                    "Food",
                    "Household",
                    "Transportation",
                    "Food",
                    "Food",
                    "Transportation",
                    "Other",
                    "Food",
                    "Food",
                    "Other",
                    "Food",
                    "Transportation",
                    "Other",
                    "Transportation",
                    "Food",
                    "Food",
                    "Food",
                    "Transportation",
                    "Other",
                    "Food",
                    "Food",
                    "Transportation",
                    "Other",
                    "Other",
                    "Food",
                    "Food",
                    "Food",
                    "Food",
                    "Food",
                    "Transportation",
                    "Food",
                    "Food",
                    "Food",
                    "Food",
                    "Food",
                    "Food",
                    "Food",
                    "Social Life",
                    "Food",
                    "Food",
                    "Food",
                    "Food",
                    "Food",
                    "Food",
                    "Other",
                    "Food",
                    "Transportation",
                    "Food",
                    "Food",
                    "Food",
                    "Transportation",
                    "Other",
                    "Food",
                    "Food",
                    "Food",
                    "Food",
                    "Household",
                    "Food",
                    "Food",
                    "Food",
                    "Food",
                    "Transportation",
                    "Food",
                    "Other",
                    "Other",
                    "Food",
                    "Other",
                    "Other",
                    "Transportation",
                    "Food",
                    "Education",
                    "Food",
                    "Other",
                    "Food",
                    "Food",
                    "Food",
                    "Other",
                    "Food",
                    "Transportation",
                    "Food",
                    "Food",
                    "Transportation",
                    "Food",
                    "Transportation",
                    "Food",
                    "Transportation",
                    "Food",
                    "Food",
                    "Food",
                    "Food",
                    "Transportation",
                    "Self-development",
                    "Food",
                    "Food",
                    "Food",
                    "Social Life",
                    "Food",
                    "Food",
                    "Food",
                    "Food",
                    "Food",
                    "Food",
                    "Food",
                    "Transportation",
                    "Food",
                    "Food",
                    "Food",
                    "Food",
                    "Other",
                    "Other",
                    "Other",
                    "Food",
                    "Social Life",
                    "Food",
                    "Food",
                    "Food",
                    "Other",
                    "Food",
                    "Food",
                    "Food",
                    "Food",
                    "Food",
                    "Food",
                    "Food",
                    "Food",
                    "Food",
                    "Food",
                    "Food",
                    "Food",
                    "Food",
                    "Food",
                    "Food",
                    "Food",
                    "Food",
                    "Food",
                    "Food",
                    "Food",
                    "Food",
                    "Food",
                    "Apparel",
                    "Apparel",
                    "Food",
                    "Food",
                    "Apparel",
                    "Household",
                    "Food",
                    "Food",
                    "Other",
                    "Food",
                    "Food",
                    "Apparel",
                    "Apparel",
                    "Food",
                    "Food",
                    "Food",
                    "Beauty",
                    "Food",
                    "Gift",
                    "Food",
                    "Food",
                    "Food",
                    "Food",
                    "Food",
                    "Food",
                    "Food",
                    "Food",
                    "Food",
                    "Food",
                    "Transportation",
                    "Food",
                    "Food",
                    "Food",
                    "Food",
                    "Food",
                    "Food",
                    "Food",
                    "Food",
                    "Transportation",
                    "Food",
                    "Food",
                    "Food",
                    "Food",
                    "Transportation",
                    "Transportation",
                    "Food",
                    "Food",
                    "Food",
                    "Transportation",
                    "Food"
                  ],
                  "xaxis": "x",
                  "yaxis": "y"
                }
              ],
              "layout": {
                "barmode": "relative",
                "legend": {
                  "tracegroupgap": 0
                },
                "template": {
                  "data": {
                    "bar": [
                      {
                        "error_x": {
                          "color": "#2a3f5f"
                        },
                        "error_y": {
                          "color": "#2a3f5f"
                        },
                        "marker": {
                          "line": {
                            "color": "#E5ECF6",
                            "width": 0.5
                          },
                          "pattern": {
                            "fillmode": "overlay",
                            "size": 10,
                            "solidity": 0.2
                          }
                        },
                        "type": "bar"
                      }
                    ],
                    "barpolar": [
                      {
                        "marker": {
                          "line": {
                            "color": "#E5ECF6",
                            "width": 0.5
                          },
                          "pattern": {
                            "fillmode": "overlay",
                            "size": 10,
                            "solidity": 0.2
                          }
                        },
                        "type": "barpolar"
                      }
                    ],
                    "carpet": [
                      {
                        "aaxis": {
                          "endlinecolor": "#2a3f5f",
                          "gridcolor": "white",
                          "linecolor": "white",
                          "minorgridcolor": "white",
                          "startlinecolor": "#2a3f5f"
                        },
                        "baxis": {
                          "endlinecolor": "#2a3f5f",
                          "gridcolor": "white",
                          "linecolor": "white",
                          "minorgridcolor": "white",
                          "startlinecolor": "#2a3f5f"
                        },
                        "type": "carpet"
                      }
                    ],
                    "choropleth": [
                      {
                        "colorbar": {
                          "outlinewidth": 0,
                          "ticks": ""
                        },
                        "type": "choropleth"
                      }
                    ],
                    "contour": [
                      {
                        "colorbar": {
                          "outlinewidth": 0,
                          "ticks": ""
                        },
                        "colorscale": [
                          [
                            0,
                            "#0d0887"
                          ],
                          [
                            0.1111111111111111,
                            "#46039f"
                          ],
                          [
                            0.2222222222222222,
                            "#7201a8"
                          ],
                          [
                            0.3333333333333333,
                            "#9c179e"
                          ],
                          [
                            0.4444444444444444,
                            "#bd3786"
                          ],
                          [
                            0.5555555555555556,
                            "#d8576b"
                          ],
                          [
                            0.6666666666666666,
                            "#ed7953"
                          ],
                          [
                            0.7777777777777778,
                            "#fb9f3a"
                          ],
                          [
                            0.8888888888888888,
                            "#fdca26"
                          ],
                          [
                            1,
                            "#f0f921"
                          ]
                        ],
                        "type": "contour"
                      }
                    ],
                    "contourcarpet": [
                      {
                        "colorbar": {
                          "outlinewidth": 0,
                          "ticks": ""
                        },
                        "type": "contourcarpet"
                      }
                    ],
                    "heatmap": [
                      {
                        "colorbar": {
                          "outlinewidth": 0,
                          "ticks": ""
                        },
                        "colorscale": [
                          [
                            0,
                            "#0d0887"
                          ],
                          [
                            0.1111111111111111,
                            "#46039f"
                          ],
                          [
                            0.2222222222222222,
                            "#7201a8"
                          ],
                          [
                            0.3333333333333333,
                            "#9c179e"
                          ],
                          [
                            0.4444444444444444,
                            "#bd3786"
                          ],
                          [
                            0.5555555555555556,
                            "#d8576b"
                          ],
                          [
                            0.6666666666666666,
                            "#ed7953"
                          ],
                          [
                            0.7777777777777778,
                            "#fb9f3a"
                          ],
                          [
                            0.8888888888888888,
                            "#fdca26"
                          ],
                          [
                            1,
                            "#f0f921"
                          ]
                        ],
                        "type": "heatmap"
                      }
                    ],
                    "heatmapgl": [
                      {
                        "colorbar": {
                          "outlinewidth": 0,
                          "ticks": ""
                        },
                        "colorscale": [
                          [
                            0,
                            "#0d0887"
                          ],
                          [
                            0.1111111111111111,
                            "#46039f"
                          ],
                          [
                            0.2222222222222222,
                            "#7201a8"
                          ],
                          [
                            0.3333333333333333,
                            "#9c179e"
                          ],
                          [
                            0.4444444444444444,
                            "#bd3786"
                          ],
                          [
                            0.5555555555555556,
                            "#d8576b"
                          ],
                          [
                            0.6666666666666666,
                            "#ed7953"
                          ],
                          [
                            0.7777777777777778,
                            "#fb9f3a"
                          ],
                          [
                            0.8888888888888888,
                            "#fdca26"
                          ],
                          [
                            1,
                            "#f0f921"
                          ]
                        ],
                        "type": "heatmapgl"
                      }
                    ],
                    "histogram": [
                      {
                        "marker": {
                          "pattern": {
                            "fillmode": "overlay",
                            "size": 10,
                            "solidity": 0.2
                          }
                        },
                        "type": "histogram"
                      }
                    ],
                    "histogram2d": [
                      {
                        "colorbar": {
                          "outlinewidth": 0,
                          "ticks": ""
                        },
                        "colorscale": [
                          [
                            0,
                            "#0d0887"
                          ],
                          [
                            0.1111111111111111,
                            "#46039f"
                          ],
                          [
                            0.2222222222222222,
                            "#7201a8"
                          ],
                          [
                            0.3333333333333333,
                            "#9c179e"
                          ],
                          [
                            0.4444444444444444,
                            "#bd3786"
                          ],
                          [
                            0.5555555555555556,
                            "#d8576b"
                          ],
                          [
                            0.6666666666666666,
                            "#ed7953"
                          ],
                          [
                            0.7777777777777778,
                            "#fb9f3a"
                          ],
                          [
                            0.8888888888888888,
                            "#fdca26"
                          ],
                          [
                            1,
                            "#f0f921"
                          ]
                        ],
                        "type": "histogram2d"
                      }
                    ],
                    "histogram2dcontour": [
                      {
                        "colorbar": {
                          "outlinewidth": 0,
                          "ticks": ""
                        },
                        "colorscale": [
                          [
                            0,
                            "#0d0887"
                          ],
                          [
                            0.1111111111111111,
                            "#46039f"
                          ],
                          [
                            0.2222222222222222,
                            "#7201a8"
                          ],
                          [
                            0.3333333333333333,
                            "#9c179e"
                          ],
                          [
                            0.4444444444444444,
                            "#bd3786"
                          ],
                          [
                            0.5555555555555556,
                            "#d8576b"
                          ],
                          [
                            0.6666666666666666,
                            "#ed7953"
                          ],
                          [
                            0.7777777777777778,
                            "#fb9f3a"
                          ],
                          [
                            0.8888888888888888,
                            "#fdca26"
                          ],
                          [
                            1,
                            "#f0f921"
                          ]
                        ],
                        "type": "histogram2dcontour"
                      }
                    ],
                    "mesh3d": [
                      {
                        "colorbar": {
                          "outlinewidth": 0,
                          "ticks": ""
                        },
                        "type": "mesh3d"
                      }
                    ],
                    "parcoords": [
                      {
                        "line": {
                          "colorbar": {
                            "outlinewidth": 0,
                            "ticks": ""
                          }
                        },
                        "type": "parcoords"
                      }
                    ],
                    "pie": [
                      {
                        "automargin": true,
                        "type": "pie"
                      }
                    ],
                    "scatter": [
                      {
                        "fillpattern": {
                          "fillmode": "overlay",
                          "size": 10,
                          "solidity": 0.2
                        },
                        "type": "scatter"
                      }
                    ],
                    "scatter3d": [
                      {
                        "line": {
                          "colorbar": {
                            "outlinewidth": 0,
                            "ticks": ""
                          }
                        },
                        "marker": {
                          "colorbar": {
                            "outlinewidth": 0,
                            "ticks": ""
                          }
                        },
                        "type": "scatter3d"
                      }
                    ],
                    "scattercarpet": [
                      {
                        "marker": {
                          "colorbar": {
                            "outlinewidth": 0,
                            "ticks": ""
                          }
                        },
                        "type": "scattercarpet"
                      }
                    ],
                    "scattergeo": [
                      {
                        "marker": {
                          "colorbar": {
                            "outlinewidth": 0,
                            "ticks": ""
                          }
                        },
                        "type": "scattergeo"
                      }
                    ],
                    "scattergl": [
                      {
                        "marker": {
                          "colorbar": {
                            "outlinewidth": 0,
                            "ticks": ""
                          }
                        },
                        "type": "scattergl"
                      }
                    ],
                    "scattermapbox": [
                      {
                        "marker": {
                          "colorbar": {
                            "outlinewidth": 0,
                            "ticks": ""
                          }
                        },
                        "type": "scattermapbox"
                      }
                    ],
                    "scatterpolar": [
                      {
                        "marker": {
                          "colorbar": {
                            "outlinewidth": 0,
                            "ticks": ""
                          }
                        },
                        "type": "scatterpolar"
                      }
                    ],
                    "scatterpolargl": [
                      {
                        "marker": {
                          "colorbar": {
                            "outlinewidth": 0,
                            "ticks": ""
                          }
                        },
                        "type": "scatterpolargl"
                      }
                    ],
                    "scatterternary": [
                      {
                        "marker": {
                          "colorbar": {
                            "outlinewidth": 0,
                            "ticks": ""
                          }
                        },
                        "type": "scatterternary"
                      }
                    ],
                    "surface": [
                      {
                        "colorbar": {
                          "outlinewidth": 0,
                          "ticks": ""
                        },
                        "colorscale": [
                          [
                            0,
                            "#0d0887"
                          ],
                          [
                            0.1111111111111111,
                            "#46039f"
                          ],
                          [
                            0.2222222222222222,
                            "#7201a8"
                          ],
                          [
                            0.3333333333333333,
                            "#9c179e"
                          ],
                          [
                            0.4444444444444444,
                            "#bd3786"
                          ],
                          [
                            0.5555555555555556,
                            "#d8576b"
                          ],
                          [
                            0.6666666666666666,
                            "#ed7953"
                          ],
                          [
                            0.7777777777777778,
                            "#fb9f3a"
                          ],
                          [
                            0.8888888888888888,
                            "#fdca26"
                          ],
                          [
                            1,
                            "#f0f921"
                          ]
                        ],
                        "type": "surface"
                      }
                    ],
                    "table": [
                      {
                        "cells": {
                          "fill": {
                            "color": "#EBF0F8"
                          },
                          "line": {
                            "color": "white"
                          }
                        },
                        "header": {
                          "fill": {
                            "color": "#C8D4E3"
                          },
                          "line": {
                            "color": "white"
                          }
                        },
                        "type": "table"
                      }
                    ]
                  },
                  "layout": {
                    "annotationdefaults": {
                      "arrowcolor": "#2a3f5f",
                      "arrowhead": 0,
                      "arrowwidth": 1
                    },
                    "autotypenumbers": "strict",
                    "coloraxis": {
                      "colorbar": {
                        "outlinewidth": 0,
                        "ticks": ""
                      }
                    },
                    "colorscale": {
                      "diverging": [
                        [
                          0,
                          "#8e0152"
                        ],
                        [
                          0.1,
                          "#c51b7d"
                        ],
                        [
                          0.2,
                          "#de77ae"
                        ],
                        [
                          0.3,
                          "#f1b6da"
                        ],
                        [
                          0.4,
                          "#fde0ef"
                        ],
                        [
                          0.5,
                          "#f7f7f7"
                        ],
                        [
                          0.6,
                          "#e6f5d0"
                        ],
                        [
                          0.7,
                          "#b8e186"
                        ],
                        [
                          0.8,
                          "#7fbc41"
                        ],
                        [
                          0.9,
                          "#4d9221"
                        ],
                        [
                          1,
                          "#276419"
                        ]
                      ],
                      "sequential": [
                        [
                          0,
                          "#0d0887"
                        ],
                        [
                          0.1111111111111111,
                          "#46039f"
                        ],
                        [
                          0.2222222222222222,
                          "#7201a8"
                        ],
                        [
                          0.3333333333333333,
                          "#9c179e"
                        ],
                        [
                          0.4444444444444444,
                          "#bd3786"
                        ],
                        [
                          0.5555555555555556,
                          "#d8576b"
                        ],
                        [
                          0.6666666666666666,
                          "#ed7953"
                        ],
                        [
                          0.7777777777777778,
                          "#fb9f3a"
                        ],
                        [
                          0.8888888888888888,
                          "#fdca26"
                        ],
                        [
                          1,
                          "#f0f921"
                        ]
                      ],
                      "sequentialminus": [
                        [
                          0,
                          "#0d0887"
                        ],
                        [
                          0.1111111111111111,
                          "#46039f"
                        ],
                        [
                          0.2222222222222222,
                          "#7201a8"
                        ],
                        [
                          0.3333333333333333,
                          "#9c179e"
                        ],
                        [
                          0.4444444444444444,
                          "#bd3786"
                        ],
                        [
                          0.5555555555555556,
                          "#d8576b"
                        ],
                        [
                          0.6666666666666666,
                          "#ed7953"
                        ],
                        [
                          0.7777777777777778,
                          "#fb9f3a"
                        ],
                        [
                          0.8888888888888888,
                          "#fdca26"
                        ],
                        [
                          1,
                          "#f0f921"
                        ]
                      ]
                    },
                    "colorway": [
                      "#636efa",
                      "#EF553B",
                      "#00cc96",
                      "#ab63fa",
                      "#FFA15A",
                      "#19d3f3",
                      "#FF6692",
                      "#B6E880",
                      "#FF97FF",
                      "#FECB52"
                    ],
                    "font": {
                      "color": "#2a3f5f"
                    },
                    "geo": {
                      "bgcolor": "white",
                      "lakecolor": "white",
                      "landcolor": "#E5ECF6",
                      "showlakes": true,
                      "showland": true,
                      "subunitcolor": "white"
                    },
                    "hoverlabel": {
                      "align": "left"
                    },
                    "hovermode": "closest",
                    "mapbox": {
                      "style": "light"
                    },
                    "paper_bgcolor": "white",
                    "plot_bgcolor": "#E5ECF6",
                    "polar": {
                      "angularaxis": {
                        "gridcolor": "white",
                        "linecolor": "white",
                        "ticks": ""
                      },
                      "bgcolor": "#E5ECF6",
                      "radialaxis": {
                        "gridcolor": "white",
                        "linecolor": "white",
                        "ticks": ""
                      }
                    },
                    "scene": {
                      "xaxis": {
                        "backgroundcolor": "#E5ECF6",
                        "gridcolor": "white",
                        "gridwidth": 2,
                        "linecolor": "white",
                        "showbackground": true,
                        "ticks": "",
                        "zerolinecolor": "white"
                      },
                      "yaxis": {
                        "backgroundcolor": "#E5ECF6",
                        "gridcolor": "white",
                        "gridwidth": 2,
                        "linecolor": "white",
                        "showbackground": true,
                        "ticks": "",
                        "zerolinecolor": "white"
                      },
                      "zaxis": {
                        "backgroundcolor": "#E5ECF6",
                        "gridcolor": "white",
                        "gridwidth": 2,
                        "linecolor": "white",
                        "showbackground": true,
                        "ticks": "",
                        "zerolinecolor": "white"
                      }
                    },
                    "shapedefaults": {
                      "line": {
                        "color": "#2a3f5f"
                      }
                    },
                    "ternary": {
                      "aaxis": {
                        "gridcolor": "white",
                        "linecolor": "white",
                        "ticks": ""
                      },
                      "baxis": {
                        "gridcolor": "white",
                        "linecolor": "white",
                        "ticks": ""
                      },
                      "bgcolor": "#E5ECF6",
                      "caxis": {
                        "gridcolor": "white",
                        "linecolor": "white",
                        "ticks": ""
                      }
                    },
                    "title": {
                      "x": 0.05
                    },
                    "xaxis": {
                      "automargin": true,
                      "gridcolor": "white",
                      "linecolor": "white",
                      "ticks": "",
                      "title": {
                        "standoff": 15
                      },
                      "zerolinecolor": "white",
                      "zerolinewidth": 2
                    },
                    "yaxis": {
                      "automargin": true,
                      "gridcolor": "white",
                      "linecolor": "white",
                      "ticks": "",
                      "title": {
                        "standoff": 15
                      },
                      "zerolinecolor": "white",
                      "zerolinewidth": 2
                    }
                  }
                },
                "title": {
                  "text": "Frequently bought"
                },
                "xaxis": {
                  "anchor": "y",
                  "domain": [
                    0,
                    1
                  ],
                  "title": {
                    "text": "Category"
                  }
                },
                "yaxis": {
                  "anchor": "x",
                  "domain": [
                    0,
                    1
                  ],
                  "title": {
                    "text": "count"
                  }
                }
              }
            },
            "text/html": [
              "<div>                        <script type=\"text/javascript\">window.PlotlyConfig = {MathJaxConfig: 'local'};</script>\n",
              "        <script charset=\"utf-8\" src=\"https://cdn.plot.ly/plotly-2.32.0.min.js\"></script>                <div id=\"cbbaac70-0bb6-4b11-8406-cad969cc359d\" class=\"plotly-graph-div\" style=\"height:100%; width:100%;\"></div>            <script type=\"text/javascript\">                                    window.PLOTLYENV=window.PLOTLYENV || {};                                    if (document.getElementById(\"cbbaac70-0bb6-4b11-8406-cad969cc359d\")) {                    Plotly.newPlot(                        \"cbbaac70-0bb6-4b11-8406-cad969cc359d\",                        [{\"alignmentgroup\":\"True\",\"bingroup\":\"x\",\"hovertemplate\":\"Category=%{x}\\u003cbr\\u003ecount=%{y}\\u003cextra\\u003e\\u003c\\u002fextra\\u003e\",\"legendgroup\":\"\",\"marker\":{\"color\":\"#636efa\",\"pattern\":{\"shape\":\"\"}},\"name\":\"\",\"offsetgroup\":\"\",\"orientation\":\"v\",\"showlegend\":false,\"x\":[\"Food\",\"Other\",\"Food\",\"Transportation\",\"Food\",\"Food\",\"Food\",\"Other\",\"Food\",\"Food\",\"Food\",\"Food\",\"Apparel\",\"Food\",\"Apparel\",\"Transportation\",\"Transportation\",\"Transportation\",\"Household\",\"Transportation\",\"Food\",\"Food\",\"Food\",\"Transportation\",\"Transportation\",\"Food\",\"Transportation\",\"Other\",\"Transportation\",\"Food\",\"Food\",\"Food\",\"Food\",\"Social Life\",\"Food\",\"Household\",\"Food\",\"Food\",\"Food\",\"Household\",\"Transportation\",\"Food\",\"Food\",\"Transportation\",\"Other\",\"Food\",\"Food\",\"Other\",\"Food\",\"Transportation\",\"Other\",\"Transportation\",\"Food\",\"Food\",\"Food\",\"Transportation\",\"Other\",\"Food\",\"Food\",\"Transportation\",\"Other\",\"Other\",\"Food\",\"Food\",\"Food\",\"Food\",\"Food\",\"Transportation\",\"Food\",\"Food\",\"Food\",\"Food\",\"Food\",\"Food\",\"Food\",\"Social Life\",\"Food\",\"Food\",\"Food\",\"Food\",\"Food\",\"Food\",\"Other\",\"Food\",\"Transportation\",\"Food\",\"Food\",\"Food\",\"Transportation\",\"Other\",\"Food\",\"Food\",\"Food\",\"Food\",\"Household\",\"Food\",\"Food\",\"Food\",\"Food\",\"Transportation\",\"Food\",\"Other\",\"Other\",\"Food\",\"Other\",\"Other\",\"Transportation\",\"Food\",\"Education\",\"Food\",\"Other\",\"Food\",\"Food\",\"Food\",\"Other\",\"Food\",\"Transportation\",\"Food\",\"Food\",\"Transportation\",\"Food\",\"Transportation\",\"Food\",\"Transportation\",\"Food\",\"Food\",\"Food\",\"Food\",\"Transportation\",\"Self-development\",\"Food\",\"Food\",\"Food\",\"Social Life\",\"Food\",\"Food\",\"Food\",\"Food\",\"Food\",\"Food\",\"Food\",\"Transportation\",\"Food\",\"Food\",\"Food\",\"Food\",\"Other\",\"Other\",\"Other\",\"Food\",\"Social Life\",\"Food\",\"Food\",\"Food\",\"Other\",\"Food\",\"Food\",\"Food\",\"Food\",\"Food\",\"Food\",\"Food\",\"Food\",\"Food\",\"Food\",\"Food\",\"Food\",\"Food\",\"Food\",\"Food\",\"Food\",\"Food\",\"Food\",\"Food\",\"Food\",\"Food\",\"Food\",\"Apparel\",\"Apparel\",\"Food\",\"Food\",\"Apparel\",\"Household\",\"Food\",\"Food\",\"Other\",\"Food\",\"Food\",\"Apparel\",\"Apparel\",\"Food\",\"Food\",\"Food\",\"Beauty\",\"Food\",\"Gift\",\"Food\",\"Food\",\"Food\",\"Food\",\"Food\",\"Food\",\"Food\",\"Food\",\"Food\",\"Food\",\"Transportation\",\"Food\",\"Food\",\"Food\",\"Food\",\"Food\",\"Food\",\"Food\",\"Food\",\"Transportation\",\"Food\",\"Food\",\"Food\",\"Food\",\"Transportation\",\"Transportation\",\"Food\",\"Food\",\"Food\",\"Transportation\",\"Food\"],\"xaxis\":\"x\",\"yaxis\":\"y\",\"type\":\"histogram\"}],                        {\"template\":{\"data\":{\"histogram2dcontour\":[{\"type\":\"histogram2dcontour\",\"colorbar\":{\"outlinewidth\":0,\"ticks\":\"\"},\"colorscale\":[[0.0,\"#0d0887\"],[0.1111111111111111,\"#46039f\"],[0.2222222222222222,\"#7201a8\"],[0.3333333333333333,\"#9c179e\"],[0.4444444444444444,\"#bd3786\"],[0.5555555555555556,\"#d8576b\"],[0.6666666666666666,\"#ed7953\"],[0.7777777777777778,\"#fb9f3a\"],[0.8888888888888888,\"#fdca26\"],[1.0,\"#f0f921\"]]}],\"choropleth\":[{\"type\":\"choropleth\",\"colorbar\":{\"outlinewidth\":0,\"ticks\":\"\"}}],\"histogram2d\":[{\"type\":\"histogram2d\",\"colorbar\":{\"outlinewidth\":0,\"ticks\":\"\"},\"colorscale\":[[0.0,\"#0d0887\"],[0.1111111111111111,\"#46039f\"],[0.2222222222222222,\"#7201a8\"],[0.3333333333333333,\"#9c179e\"],[0.4444444444444444,\"#bd3786\"],[0.5555555555555556,\"#d8576b\"],[0.6666666666666666,\"#ed7953\"],[0.7777777777777778,\"#fb9f3a\"],[0.8888888888888888,\"#fdca26\"],[1.0,\"#f0f921\"]]}],\"heatmap\":[{\"type\":\"heatmap\",\"colorbar\":{\"outlinewidth\":0,\"ticks\":\"\"},\"colorscale\":[[0.0,\"#0d0887\"],[0.1111111111111111,\"#46039f\"],[0.2222222222222222,\"#7201a8\"],[0.3333333333333333,\"#9c179e\"],[0.4444444444444444,\"#bd3786\"],[0.5555555555555556,\"#d8576b\"],[0.6666666666666666,\"#ed7953\"],[0.7777777777777778,\"#fb9f3a\"],[0.8888888888888888,\"#fdca26\"],[1.0,\"#f0f921\"]]}],\"heatmapgl\":[{\"type\":\"heatmapgl\",\"colorbar\":{\"outlinewidth\":0,\"ticks\":\"\"},\"colorscale\":[[0.0,\"#0d0887\"],[0.1111111111111111,\"#46039f\"],[0.2222222222222222,\"#7201a8\"],[0.3333333333333333,\"#9c179e\"],[0.4444444444444444,\"#bd3786\"],[0.5555555555555556,\"#d8576b\"],[0.6666666666666666,\"#ed7953\"],[0.7777777777777778,\"#fb9f3a\"],[0.8888888888888888,\"#fdca26\"],[1.0,\"#f0f921\"]]}],\"contourcarpet\":[{\"type\":\"contourcarpet\",\"colorbar\":{\"outlinewidth\":0,\"ticks\":\"\"}}],\"contour\":[{\"type\":\"contour\",\"colorbar\":{\"outlinewidth\":0,\"ticks\":\"\"},\"colorscale\":[[0.0,\"#0d0887\"],[0.1111111111111111,\"#46039f\"],[0.2222222222222222,\"#7201a8\"],[0.3333333333333333,\"#9c179e\"],[0.4444444444444444,\"#bd3786\"],[0.5555555555555556,\"#d8576b\"],[0.6666666666666666,\"#ed7953\"],[0.7777777777777778,\"#fb9f3a\"],[0.8888888888888888,\"#fdca26\"],[1.0,\"#f0f921\"]]}],\"surface\":[{\"type\":\"surface\",\"colorbar\":{\"outlinewidth\":0,\"ticks\":\"\"},\"colorscale\":[[0.0,\"#0d0887\"],[0.1111111111111111,\"#46039f\"],[0.2222222222222222,\"#7201a8\"],[0.3333333333333333,\"#9c179e\"],[0.4444444444444444,\"#bd3786\"],[0.5555555555555556,\"#d8576b\"],[0.6666666666666666,\"#ed7953\"],[0.7777777777777778,\"#fb9f3a\"],[0.8888888888888888,\"#fdca26\"],[1.0,\"#f0f921\"]]}],\"mesh3d\":[{\"type\":\"mesh3d\",\"colorbar\":{\"outlinewidth\":0,\"ticks\":\"\"}}],\"scatter\":[{\"fillpattern\":{\"fillmode\":\"overlay\",\"size\":10,\"solidity\":0.2},\"type\":\"scatter\"}],\"parcoords\":[{\"type\":\"parcoords\",\"line\":{\"colorbar\":{\"outlinewidth\":0,\"ticks\":\"\"}}}],\"scatterpolargl\":[{\"type\":\"scatterpolargl\",\"marker\":{\"colorbar\":{\"outlinewidth\":0,\"ticks\":\"\"}}}],\"bar\":[{\"error_x\":{\"color\":\"#2a3f5f\"},\"error_y\":{\"color\":\"#2a3f5f\"},\"marker\":{\"line\":{\"color\":\"#E5ECF6\",\"width\":0.5},\"pattern\":{\"fillmode\":\"overlay\",\"size\":10,\"solidity\":0.2}},\"type\":\"bar\"}],\"scattergeo\":[{\"type\":\"scattergeo\",\"marker\":{\"colorbar\":{\"outlinewidth\":0,\"ticks\":\"\"}}}],\"scatterpolar\":[{\"type\":\"scatterpolar\",\"marker\":{\"colorbar\":{\"outlinewidth\":0,\"ticks\":\"\"}}}],\"histogram\":[{\"marker\":{\"pattern\":{\"fillmode\":\"overlay\",\"size\":10,\"solidity\":0.2}},\"type\":\"histogram\"}],\"scattergl\":[{\"type\":\"scattergl\",\"marker\":{\"colorbar\":{\"outlinewidth\":0,\"ticks\":\"\"}}}],\"scatter3d\":[{\"type\":\"scatter3d\",\"line\":{\"colorbar\":{\"outlinewidth\":0,\"ticks\":\"\"}},\"marker\":{\"colorbar\":{\"outlinewidth\":0,\"ticks\":\"\"}}}],\"scattermapbox\":[{\"type\":\"scattermapbox\",\"marker\":{\"colorbar\":{\"outlinewidth\":0,\"ticks\":\"\"}}}],\"scatterternary\":[{\"type\":\"scatterternary\",\"marker\":{\"colorbar\":{\"outlinewidth\":0,\"ticks\":\"\"}}}],\"scattercarpet\":[{\"type\":\"scattercarpet\",\"marker\":{\"colorbar\":{\"outlinewidth\":0,\"ticks\":\"\"}}}],\"carpet\":[{\"aaxis\":{\"endlinecolor\":\"#2a3f5f\",\"gridcolor\":\"white\",\"linecolor\":\"white\",\"minorgridcolor\":\"white\",\"startlinecolor\":\"#2a3f5f\"},\"baxis\":{\"endlinecolor\":\"#2a3f5f\",\"gridcolor\":\"white\",\"linecolor\":\"white\",\"minorgridcolor\":\"white\",\"startlinecolor\":\"#2a3f5f\"},\"type\":\"carpet\"}],\"table\":[{\"cells\":{\"fill\":{\"color\":\"#EBF0F8\"},\"line\":{\"color\":\"white\"}},\"header\":{\"fill\":{\"color\":\"#C8D4E3\"},\"line\":{\"color\":\"white\"}},\"type\":\"table\"}],\"barpolar\":[{\"marker\":{\"line\":{\"color\":\"#E5ECF6\",\"width\":0.5},\"pattern\":{\"fillmode\":\"overlay\",\"size\":10,\"solidity\":0.2}},\"type\":\"barpolar\"}],\"pie\":[{\"automargin\":true,\"type\":\"pie\"}]},\"layout\":{\"autotypenumbers\":\"strict\",\"colorway\":[\"#636efa\",\"#EF553B\",\"#00cc96\",\"#ab63fa\",\"#FFA15A\",\"#19d3f3\",\"#FF6692\",\"#B6E880\",\"#FF97FF\",\"#FECB52\"],\"font\":{\"color\":\"#2a3f5f\"},\"hovermode\":\"closest\",\"hoverlabel\":{\"align\":\"left\"},\"paper_bgcolor\":\"white\",\"plot_bgcolor\":\"#E5ECF6\",\"polar\":{\"bgcolor\":\"#E5ECF6\",\"angularaxis\":{\"gridcolor\":\"white\",\"linecolor\":\"white\",\"ticks\":\"\"},\"radialaxis\":{\"gridcolor\":\"white\",\"linecolor\":\"white\",\"ticks\":\"\"}},\"ternary\":{\"bgcolor\":\"#E5ECF6\",\"aaxis\":{\"gridcolor\":\"white\",\"linecolor\":\"white\",\"ticks\":\"\"},\"baxis\":{\"gridcolor\":\"white\",\"linecolor\":\"white\",\"ticks\":\"\"},\"caxis\":{\"gridcolor\":\"white\",\"linecolor\":\"white\",\"ticks\":\"\"}},\"coloraxis\":{\"colorbar\":{\"outlinewidth\":0,\"ticks\":\"\"}},\"colorscale\":{\"sequential\":[[0.0,\"#0d0887\"],[0.1111111111111111,\"#46039f\"],[0.2222222222222222,\"#7201a8\"],[0.3333333333333333,\"#9c179e\"],[0.4444444444444444,\"#bd3786\"],[0.5555555555555556,\"#d8576b\"],[0.6666666666666666,\"#ed7953\"],[0.7777777777777778,\"#fb9f3a\"],[0.8888888888888888,\"#fdca26\"],[1.0,\"#f0f921\"]],\"sequentialminus\":[[0.0,\"#0d0887\"],[0.1111111111111111,\"#46039f\"],[0.2222222222222222,\"#7201a8\"],[0.3333333333333333,\"#9c179e\"],[0.4444444444444444,\"#bd3786\"],[0.5555555555555556,\"#d8576b\"],[0.6666666666666666,\"#ed7953\"],[0.7777777777777778,\"#fb9f3a\"],[0.8888888888888888,\"#fdca26\"],[1.0,\"#f0f921\"]],\"diverging\":[[0,\"#8e0152\"],[0.1,\"#c51b7d\"],[0.2,\"#de77ae\"],[0.3,\"#f1b6da\"],[0.4,\"#fde0ef\"],[0.5,\"#f7f7f7\"],[0.6,\"#e6f5d0\"],[0.7,\"#b8e186\"],[0.8,\"#7fbc41\"],[0.9,\"#4d9221\"],[1,\"#276419\"]]},\"xaxis\":{\"gridcolor\":\"white\",\"linecolor\":\"white\",\"ticks\":\"\",\"title\":{\"standoff\":15},\"zerolinecolor\":\"white\",\"automargin\":true,\"zerolinewidth\":2},\"yaxis\":{\"gridcolor\":\"white\",\"linecolor\":\"white\",\"ticks\":\"\",\"title\":{\"standoff\":15},\"zerolinecolor\":\"white\",\"automargin\":true,\"zerolinewidth\":2},\"scene\":{\"xaxis\":{\"backgroundcolor\":\"#E5ECF6\",\"gridcolor\":\"white\",\"linecolor\":\"white\",\"showbackground\":true,\"ticks\":\"\",\"zerolinecolor\":\"white\",\"gridwidth\":2},\"yaxis\":{\"backgroundcolor\":\"#E5ECF6\",\"gridcolor\":\"white\",\"linecolor\":\"white\",\"showbackground\":true,\"ticks\":\"\",\"zerolinecolor\":\"white\",\"gridwidth\":2},\"zaxis\":{\"backgroundcolor\":\"#E5ECF6\",\"gridcolor\":\"white\",\"linecolor\":\"white\",\"showbackground\":true,\"ticks\":\"\",\"zerolinecolor\":\"white\",\"gridwidth\":2}},\"shapedefaults\":{\"line\":{\"color\":\"#2a3f5f\"}},\"annotationdefaults\":{\"arrowcolor\":\"#2a3f5f\",\"arrowhead\":0,\"arrowwidth\":1},\"geo\":{\"bgcolor\":\"white\",\"landcolor\":\"#E5ECF6\",\"subunitcolor\":\"white\",\"showland\":true,\"showlakes\":true,\"lakecolor\":\"white\"},\"title\":{\"x\":0.05},\"mapbox\":{\"style\":\"light\"}}},\"xaxis\":{\"anchor\":\"y\",\"domain\":[0.0,1.0],\"title\":{\"text\":\"Category\"}},\"yaxis\":{\"anchor\":\"x\",\"domain\":[0.0,1.0],\"title\":{\"text\":\"count\"}},\"legend\":{\"tracegroupgap\":0},\"title\":{\"text\":\"Frequently bought\"},\"barmode\":\"relative\"},                        {\"responsive\": true}                    )                };                            </script>        </div>"
            ],
            "text/plain": [
              "Figure({\n",
              "    'data': [{'alignmentgroup': 'True',\n",
              "              'bingroup': 'x',\n",
              "              'hovertemplate': 'Category=%{x}<br>count=%{y}<extra></extra>',\n",
              "              'legendgroup': '',\n",
              "              'marker': {'color': '#636efa', 'pattern': {'shape': ''}},\n",
              "              'name': '',\n",
              "              'offsetgroup': '',\n",
              "              'orientation': 'v',\n",
              "              'showlegend': False,\n",
              "              'type': 'histogram',\n",
              "              'x': array(['Food', 'Other', 'Food', ..., 'Food', 'Transportation', 'Food'],\n",
              "                         dtype=object),\n",
              "              'xaxis': 'x',\n",
              "              'yaxis': 'y'}],\n",
              "    'layout': {'barmode': 'relative',\n",
              "               'legend': {'tracegroupgap': 0},\n",
              "               'template': '...',\n",
              "               'title': {'text': 'Frequently bought'},\n",
              "               'xaxis': {'anchor': 'y', 'domain': [0.0, 1.0], 'title': {'text': 'Category'}},\n",
              "               'yaxis': {'anchor': 'x', 'domain': [0.0, 1.0], 'title': {'text': 'count'}}}\n",
              "})"
            ]
          },
          "execution_count": 195,
          "metadata": {},
          "output_type": "execute_result"
        }
      ],
      "source": [
        "px.histogram(expense_df,'Category',title='Frequently bought')"
      ]
    },
    {
      "cell_type": "code",
      "execution_count": 196,
      "id": "0f44be26",
      "metadata": {
        "id": "0f44be26",
        "outputId": "2f393a3e-1227-4d7e-8e91-21fb8504324d"
      },
      "outputs": [
        {
          "data": {
            "text/plain": [
              "55857.28"
            ]
          },
          "execution_count": 196,
          "metadata": {},
          "output_type": "execute_result"
        }
      ],
      "source": [
        "expense_amount=expense_df.Amount.sum() # Total amount of expense\n",
        "expense_amount"
      ]
    },
    {
      "cell_type": "code",
      "execution_count": 197,
      "id": "b60d1848",
      "metadata": {
        "id": "b60d1848",
        "outputId": "bbeae456-2677-4ad4-bfb7-85f7a8824c4e"
      },
      "outputs": [
        {
          "data": {
            "text/plain": [
              "54754.0"
            ]
          },
          "execution_count": 197,
          "metadata": {},
          "output_type": "execute_result"
        }
      ],
      "source": [
        "income_amount=income_df.Amount.sum() # Total amount of income\n",
        "income_amount"
      ]
    },
    {
      "cell_type": "code",
      "execution_count": 198,
      "id": "40b20d4b",
      "metadata": {
        "id": "40b20d4b",
        "outputId": "752f1a7e-da61-4c52-fcfe-07aba2b359ae"
      },
      "outputs": [
        {
          "data": {
            "text/plain": [
              "1103.2799999999988"
            ]
          },
          "execution_count": 198,
          "metadata": {},
          "output_type": "execute_result"
        }
      ],
      "source": [
        "expense_amount-income_amount"
      ]
    },
    {
      "cell_type": "code",
      "execution_count": 199,
      "id": "b4a9444f",
      "metadata": {
        "id": "b4a9444f"
      },
      "outputs": [],
      "source": [
        "expense_df['Date'] = pd.to_datetime(expense_df['Date'], format='%d-%M-%Y')"
      ]
    },
    {
      "cell_type": "code",
      "execution_count": 200,
      "id": "efa93546",
      "metadata": {
        "id": "efa93546",
        "outputId": "b6fc48c6-5cda-4f09-eb59-77701e93ba2b"
      },
      "outputs": [
        {
          "data": {
            "text/plain": [
              "0     2022-03-02 10:11:00\n",
              "1     2022-03-02 10:11:00\n",
              "2     2022-03-01 19:50:00\n",
              "3     2022-03-01 18:56:00\n",
              "4     2022-03-01 18:22:00\n",
              "              ...        \n",
              "271   2021-11-23 22:53:00\n",
              "272   2021-11-22 14:16:00\n",
              "273   2021-11-22 14:16:00\n",
              "274   2021-11-21 17:07:00\n",
              "275   2021-11-21 15:50:00\n",
              "Name: Date, Length: 227, dtype: datetime64[ns]"
            ]
          },
          "execution_count": 200,
          "metadata": {},
          "output_type": "execute_result"
        }
      ],
      "source": [
        "expense_df.Date"
      ]
    },
    {
      "cell_type": "code",
      "execution_count": 201,
      "id": "99b61170",
      "metadata": {
        "id": "99b61170",
        "outputId": "ffd376dc-0540-4b64-c62c-ff754e4b8896"
      },
      "outputs": [
        {
          "data": {
            "text/plain": [
              "<Axes: xlabel='Date'>"
            ]
          },
          "execution_count": 201,
          "metadata": {},
          "output_type": "execute_result"
        },
        {
          "data": {
            "image/png": "[encoded data removed]",
            "text/plain": [
              "<Figure size 1000x600 with 1 Axes>"
            ]
          },
          "metadata": {
            "needs_background": "light"
          },
          "output_type": "display_data"
        }
      ],
      "source": [
        "# Monthly spending\n",
        "\n",
        "# Plotting monthly_spending\n",
        "expense_df.plot(x='Date',y='Amount')"
      ]
    },
    {
      "cell_type": "code",
      "execution_count": 202,
      "id": "0532826d",
      "metadata": {
        "id": "0532826d"
      },
      "outputs": [],
      "source": [
        "date=expense_df['Date'].dt.month"
      ]
    },
    {
      "cell_type": "code",
      "execution_count": 203,
      "id": "dd591eff",
      "metadata": {
        "id": "dd591eff",
        "outputId": "bf9c77cb-515b-408a-c63c-73fee03e17ee"
      },
      "outputs": [
        {
          "name": "stderr",
          "output_type": "stream",
          "text": [
            "C:\\Users\\ASUS\\AppData\\Local\\Temp\\ipykernel_23428\\2053761321.py:1: FutureWarning:\n",
            "\n",
            "'M' is deprecated and will be removed in a future version, please use 'ME' instead.\n",
            "\n"
          ]
        },
        {
          "data": {
            "text/plain": [
              "<pandas.core.groupby.generic.DataFrameGroupBy object at 0x000001DB9E060950>"
            ]
          },
          "execution_count": 203,
          "metadata": {},
          "output_type": "execute_result"
        }
      ],
      "source": [
        "expense_df.set_index('Date').groupby(rp.TimeGrouper(freq='M')) ##Convrting object date into month wise"
      ]
    },
    {
      "cell_type": "code",
      "execution_count": 204,
      "id": "4a74f333",
      "metadata": {
        "id": "4a74f333",
        "outputId": "51679d72-bbf4-4764-cd13-123aedb899fd"
      },
      "outputs": [
        {
          "data": {
            "text/html": [
              "<div>\n",
              "<style scoped>\n",
              "    .dataframe tbody tr th:only-of-type {\n",
              "        vertical-align: middle;\n",
              "    }\n",
              "\n",
              "    .dataframe tbody tr th {\n",
              "        vertical-align: top;\n",
              "    }\n",
              "\n",
              "    .dataframe thead th {\n",
              "        text-align: right;\n",
              "    }\n",
              "</style>\n",
              "<table border=\"1\" class=\"dataframe\">\n",
              "  <thead>\n",
              "    <tr style=\"text-align: right;\">\n",
              "      <th></th>\n",
              "      <th>Date</th>\n",
              "      <th>Account</th>\n",
              "      <th>Category</th>\n",
              "      <th>Note</th>\n",
              "      <th>Income/Expense</th>\n",
              "      <th>Amount</th>\n",
              "    </tr>\n",
              "  </thead>\n",
              "  <tbody>\n",
              "    <tr>\n",
              "      <th>0</th>\n",
              "      <td>2022-03-02 10:11:00</td>\n",
              "      <td>CUB - online payment</td>\n",
              "      <td>Food</td>\n",
              "      <td>Brownie</td>\n",
              "      <td>Expense</td>\n",
              "      <td>50.0</td>\n",
              "    </tr>\n",
              "    <tr>\n",
              "      <th>1</th>\n",
              "      <td>2022-03-02 10:11:00</td>\n",
              "      <td>CUB - online payment</td>\n",
              "      <td>Other</td>\n",
              "      <td>To lended people</td>\n",
              "      <td>Expense</td>\n",
              "      <td>300.0</td>\n",
              "    </tr>\n",
              "    <tr>\n",
              "      <th>2</th>\n",
              "      <td>2022-03-01 19:50:00</td>\n",
              "      <td>CUB - online payment</td>\n",
              "      <td>Food</td>\n",
              "      <td>Dinner</td>\n",
              "      <td>Expense</td>\n",
              "      <td>78.0</td>\n",
              "    </tr>\n",
              "    <tr>\n",
              "      <th>3</th>\n",
              "      <td>2022-03-01 18:56:00</td>\n",
              "      <td>CUB - online payment</td>\n",
              "      <td>Transportation</td>\n",
              "      <td>Metro</td>\n",
              "      <td>Expense</td>\n",
              "      <td>30.0</td>\n",
              "    </tr>\n",
              "    <tr>\n",
              "      <th>4</th>\n",
              "      <td>2022-03-01 18:22:00</td>\n",
              "      <td>CUB - online payment</td>\n",
              "      <td>Food</td>\n",
              "      <td>Snacks</td>\n",
              "      <td>Expense</td>\n",
              "      <td>67.0</td>\n",
              "    </tr>\n",
              "    <tr>\n",
              "      <th>...</th>\n",
              "      <td>...</td>\n",
              "      <td>...</td>\n",
              "      <td>...</td>\n",
              "      <td>...</td>\n",
              "      <td>...</td>\n",
              "      <td>...</td>\n",
              "    </tr>\n",
              "    <tr>\n",
              "      <th>271</th>\n",
              "      <td>2021-11-23 22:53:00</td>\n",
              "      <td>CUB - online payment</td>\n",
              "      <td>Food</td>\n",
              "      <td>Dinner</td>\n",
              "      <td>Expense</td>\n",
              "      <td>179.0</td>\n",
              "    </tr>\n",
              "    <tr>\n",
              "      <th>272</th>\n",
              "      <td>2021-11-22 14:16:00</td>\n",
              "      <td>CUB - online payment</td>\n",
              "      <td>Food</td>\n",
              "      <td>Dinner</td>\n",
              "      <td>Expense</td>\n",
              "      <td>90.0</td>\n",
              "    </tr>\n",
              "    <tr>\n",
              "      <th>273</th>\n",
              "      <td>2021-11-22 14:16:00</td>\n",
              "      <td>CUB - online payment</td>\n",
              "      <td>Food</td>\n",
              "      <td>Lunch with company</td>\n",
              "      <td>Expense</td>\n",
              "      <td>97.0</td>\n",
              "    </tr>\n",
              "    <tr>\n",
              "      <th>274</th>\n",
              "      <td>2021-11-21 17:07:00</td>\n",
              "      <td>CUB - online payment</td>\n",
              "      <td>Transportation</td>\n",
              "      <td>Rapido</td>\n",
              "      <td>Expense</td>\n",
              "      <td>130.0</td>\n",
              "    </tr>\n",
              "    <tr>\n",
              "      <th>275</th>\n",
              "      <td>2021-11-21 15:50:00</td>\n",
              "      <td>CUB - online payment</td>\n",
              "      <td>Food</td>\n",
              "      <td>Lunch</td>\n",
              "      <td>Expense</td>\n",
              "      <td>875.0</td>\n",
              "    </tr>\n",
              "  </tbody>\n",
              "</table>\n",
              "<p>227 rows × 6 columns</p>\n",
              "</div>"
            ],
            "text/plain": [
              "                   Date               Account        Category  \\\n",
              "0   2022-03-02 10:11:00  CUB - online payment            Food   \n",
              "1   2022-03-02 10:11:00  CUB - online payment           Other   \n",
              "2   2022-03-01 19:50:00  CUB - online payment            Food   \n",
              "3   2022-03-01 18:56:00  CUB - online payment  Transportation   \n",
              "4   2022-03-01 18:22:00  CUB - online payment            Food   \n",
              "..                  ...                   ...             ...   \n",
              "271 2021-11-23 22:53:00  CUB - online payment            Food   \n",
              "272 2021-11-22 14:16:00  CUB - online payment            Food   \n",
              "273 2021-11-22 14:16:00  CUB - online payment            Food   \n",
              "274 2021-11-21 17:07:00  CUB - online payment  Transportation   \n",
              "275 2021-11-21 15:50:00  CUB - online payment            Food   \n",
              "\n",
              "                   Note Income/Expense  Amount  \n",
              "0               Brownie        Expense    50.0  \n",
              "1      To lended people        Expense   300.0  \n",
              "2                Dinner        Expense    78.0  \n",
              "3                 Metro        Expense    30.0  \n",
              "4                Snacks        Expense    67.0  \n",
              "..                  ...            ...     ...  \n",
              "271              Dinner        Expense   179.0  \n",
              "272              Dinner        Expense    90.0  \n",
              "273  Lunch with company        Expense    97.0  \n",
              "274              Rapido        Expense   130.0  \n",
              "275               Lunch        Expense   875.0  \n",
              "\n",
              "[227 rows x 6 columns]"
            ]
          },
          "execution_count": 204,
          "metadata": {},
          "output_type": "execute_result"
        }
      ],
      "source": [
        "expense_df"
      ]
    },
    {
      "cell_type": "code",
      "execution_count": 205,
      "id": "5700375a",
      "metadata": {
        "id": "5700375a",
        "outputId": "4ecc5e52-ca3c-4ed8-806f-e4881fc06506",
        "scrolled": false
      },
      "outputs": [
        {
          "name": "stderr",
          "output_type": "stream",
          "text": [
            "C:\\Users\\ASUS\\AppData\\Local\\Temp\\ipykernel_23428\\2786824107.py:2: FutureWarning:\n",
            "\n",
            "'M' is deprecated and will be removed in a future version, please use 'ME' instead.\n",
            "\n",
            "C:\\Users\\ASUS\\AppData\\Local\\Temp\\ipykernel_23428\\2786824107.py:3: FutureWarning:\n",
            "\n",
            "'M' is deprecated and will be removed in a future version, please use 'ME' instead.\n",
            "\n"
          ]
        },
        {
          "data": {
            "image/png": "[encoded data removed]",
            "text/plain": [
              "<Figure size 1700x600 with 1 Axes>"
            ]
          },
          "metadata": {
            "needs_background": "light"
          },
          "output_type": "display_data"
        }
      ],
      "source": [
        "# Monthly spending\n",
        "monthly_spending = expense_df.set_index('Date').groupby(rp.TimeGrouper(freq='M')).Amount\n",
        "monthly_income = income_df.set_index('Date').groupby(rp.TimeGrouper(freq='M')).Amount\n",
        "\n",
        "\n",
        "# Plotting monthly_spending\n",
        "\n",
        "plt.title('Average Monthly Spending')\n",
        "monthly_spending.plot(figsize=(17,6),label='expense', color='orange')\n",
        "monthly_income.plot(figsize=(17,6),label='income', color='blue')\n",
        "plt.legend()\n",
        "plt.xlabel('Date', size=20)\n",
        "plt.ylabel('Amount($)', size=20)\n",
        "plt.show()"
      ]
    },
    {
      "cell_type": "code",
      "execution_count": 206,
      "id": "d6444a7f",
      "metadata": {
        "id": "d6444a7f"
      },
      "outputs": [
        {
          "name": "stderr",
          "output_type": "stream",
          "text": [
            "C:\\Users\\ASUS\\AppData\\Local\\Temp\\ipykernel_23428\\3964826468.py:1: FutureWarning:\n",
            "\n",
            "'M' is deprecated and will be removed in a future version, please use 'ME' instead.\n",
            "\n",
            "C:\\Users\\ASUS\\AppData\\Local\\Temp\\ipykernel_23428\\3964826468.py:2: FutureWarning:\n",
            "\n",
            "'M' is deprecated and will be removed in a future version, please use 'ME' instead.\n",
            "\n"
          ]
        }
      ],
      "source": [
        "monthly_spending = expense_df.set_index('Date').groupby(rp.TimeGrouper(freq='M')).Amount\n",
        "monthly_income = income_df.set_index('Date').groupby(rp.TimeGrouper(freq='M')).Amount"
      ]
    },
    {
      "cell_type": "markdown",
      "id": "142a3da4",
      "metadata": {
        "id": "142a3da4"
      },
      "source": [
        "### Training on the dataset"
      ]
    },
    {
      "cell_type": "markdown",
      "id": "18b8118f",
      "metadata": {
        "id": "18b8118f"
      },
      "source": [
        "## Linear Regression using a Single Feature"
      ]
    },
    {
      "cell_type": "code",
      "execution_count": 207,
      "id": "ccb3d3b9",
      "metadata": {
        "id": "ccb3d3b9"
      },
      "outputs": [],
      "source": [
        "! pip install scikit-learn --quiet"
      ]
    },
    {
      "cell_type": "code",
      "execution_count": 208,
      "id": "f6cdc029",
      "metadata": {
        "id": "f6cdc029"
      },
      "outputs": [],
      "source": [
        "from sklearn.linear_model import LinearRegression"
      ]
    },
    {
      "cell_type": "code",
      "execution_count": 209,
      "id": "573b5e82",
      "metadata": {
        "id": "573b5e82"
      },
      "outputs": [],
      "source": [
        "model = LinearRegression()"
      ]
    },
    {
      "cell_type": "code",
      "execution_count": 210,
      "id": "1c40fa52",
      "metadata": {
        "id": "1c40fa52"
      },
      "outputs": [],
      "source": [
        "category_code={'Food':0, 'Other':1, 'Transportation':2, 'Apparel':3, 'Household':4,\n",
        "       'Social Life':5, 'Education':6, 'Self-development':7, 'Beauty':8, 'Gift':9\n",
        "}"
      ]
    },
    {
      "cell_type": "code",
      "execution_count": 211,
      "id": "76ef50cb",
      "metadata": {
        "id": "76ef50cb"
      },
      "outputs": [],
      "source": [
        "expense_df['category_code']=expense_df.Category.map(category_code)"
      ]
    },
    {
      "cell_type": "code",
      "execution_count": 212,
      "id": "8142168f",
      "metadata": {
        "id": "8142168f"
      },
      "outputs": [],
      "source": [
        "def rmse(targets, predictions):\n",
        "    return np.sqrt(np.mean(np.square(targets - predictions)))"
      ]
    },
    {
      "cell_type": "code",
      "execution_count": 213,
      "id": "3cc72bdf",
      "metadata": {
        "id": "3cc72bdf",
        "outputId": "c8c43142-d850-448f-f5a6-900b93d62d1e"
      },
      "outputs": [
        {
          "name": "stdout",
          "output_type": "stream",
          "text": [
            "Loss: 492.61941387342733\n"
          ]
        }
      ],
      "source": [
        "# Create inputs and targets\n",
        "inputs, targets = expense_df[['category_code']], expense_df['Amount']\n",
        "\n",
        "# Create and train the model\n",
        "model = LinearRegression().fit(inputs, targets)\n",
        "\n",
        "# Generate predictions\n",
        "predictions = model.predict(inputs)\n",
        "\n",
        "# Compute loss to evalute the model\n",
        "loss = rmse(targets, predictions)\n",
        "print('Loss:', loss)"
      ]
    },
    {
      "cell_type": "code",
      "execution_count": 214,
      "id": "ffbd0be7",
      "metadata": {
        "id": "ffbd0be7",
        "outputId": "f4dc1e62-9562-42da-d801-14451b0a9b92"
      },
      "outputs": [
        {
          "data": {
            "image/png": "[encoded data removed]",
            "text/plain": [
              "<Figure size 1000x600 with 1 Axes>"
            ]
          },
          "metadata": {
            "needs_background": "light"
          },
          "output_type": "display_data"
        }
      ],
      "source": [
        "Plots a scatter plot of the actual targets and the predicted values from a linear regression model.\n",
        "plt.scatter(targets, predictions)\n",
        "plt.xlabel('Actual Targets')\n",
        "plt.ylabel('Predicted Values')\n",
        "plt.title('Linear Regression - Actual vs. Predicted')\n",
        "plt.show()"
      ]
    },
    {
      "cell_type": "markdown",
      "id": "e61d09e3",
      "metadata": {
        "id": "e61d09e3"
      },
      "source": [
        "## Support Vector Regression"
      ]
    },
    {
      "cell_type": "code",
      "execution_count": 215,
      "id": "d8ca91c2",
      "metadata": {},
      "outputs": [
        {
          "data": {
            "text/html": [
              "<div>\n",
              "<style scoped>\n",
              "    .dataframe tbody tr th:only-of-type {\n",
              "        vertical-align: middle;\n",
              "    }\n",
              "\n",
              "    .dataframe tbody tr th {\n",
              "        vertical-align: top;\n",
              "    }\n",
              "\n",
              "    .dataframe thead th {\n",
              "        text-align: right;\n",
              "    }\n",
              "</style>\n",
              "<table border=\"1\" class=\"dataframe\">\n",
              "  <thead>\n",
              "    <tr style=\"text-align: right;\">\n",
              "      <th></th>\n",
              "      <th>Date</th>\n",
              "      <th>Account</th>\n",
              "      <th>Category</th>\n",
              "      <th>Note</th>\n",
              "      <th>Income/Expense</th>\n",
              "      <th>Amount</th>\n",
              "      <th>category_code</th>\n",
              "    </tr>\n",
              "  </thead>\n",
              "  <tbody>\n",
              "    <tr>\n",
              "      <th>0</th>\n",
              "      <td>2022-03-02 10:11:00</td>\n",
              "      <td>CUB - online payment</td>\n",
              "      <td>Food</td>\n",
              "      <td>Brownie</td>\n",
              "      <td>Expense</td>\n",
              "      <td>50.0</td>\n",
              "      <td>0</td>\n",
              "    </tr>\n",
              "    <tr>\n",
              "      <th>1</th>\n",
              "      <td>2022-03-02 10:11:00</td>\n",
              "      <td>CUB - online payment</td>\n",
              "      <td>Other</td>\n",
              "      <td>To lended people</td>\n",
              "      <td>Expense</td>\n",
              "      <td>300.0</td>\n",
              "      <td>1</td>\n",
              "    </tr>\n",
              "    <tr>\n",
              "      <th>2</th>\n",
              "      <td>2022-03-01 19:50:00</td>\n",
              "      <td>CUB - online payment</td>\n",
              "      <td>Food</td>\n",
              "      <td>Dinner</td>\n",
              "      <td>Expense</td>\n",
              "      <td>78.0</td>\n",
              "      <td>0</td>\n",
              "    </tr>\n",
              "    <tr>\n",
              "      <th>3</th>\n",
              "      <td>2022-03-01 18:56:00</td>\n",
              "      <td>CUB - online payment</td>\n",
              "      <td>Transportation</td>\n",
              "      <td>Metro</td>\n",
              "      <td>Expense</td>\n",
              "      <td>30.0</td>\n",
              "      <td>2</td>\n",
              "    </tr>\n",
              "    <tr>\n",
              "      <th>4</th>\n",
              "      <td>2022-03-01 18:22:00</td>\n",
              "      <td>CUB - online payment</td>\n",
              "      <td>Food</td>\n",
              "      <td>Snacks</td>\n",
              "      <td>Expense</td>\n",
              "      <td>67.0</td>\n",
              "      <td>0</td>\n",
              "    </tr>\n",
              "    <tr>\n",
              "      <th>...</th>\n",
              "      <td>...</td>\n",
              "      <td>...</td>\n",
              "      <td>...</td>\n",
              "      <td>...</td>\n",
              "      <td>...</td>\n",
              "      <td>...</td>\n",
              "      <td>...</td>\n",
              "    </tr>\n",
              "    <tr>\n",
              "      <th>271</th>\n",
              "      <td>2021-11-23 22:53:00</td>\n",
              "      <td>CUB - online payment</td>\n",
              "      <td>Food</td>\n",
              "      <td>Dinner</td>\n",
              "      <td>Expense</td>\n",
              "      <td>179.0</td>\n",
              "      <td>0</td>\n",
              "    </tr>\n",
              "    <tr>\n",
              "      <th>272</th>\n",
              "      <td>2021-11-22 14:16:00</td>\n",
              "      <td>CUB - online payment</td>\n",
              "      <td>Food</td>\n",
              "      <td>Dinner</td>\n",
              "      <td>Expense</td>\n",
              "      <td>90.0</td>\n",
              "      <td>0</td>\n",
              "    </tr>\n",
              "    <tr>\n",
              "      <th>273</th>\n",
              "      <td>2021-11-22 14:16:00</td>\n",
              "      <td>CUB - online payment</td>\n",
              "      <td>Food</td>\n",
              "      <td>Lunch with company</td>\n",
              "      <td>Expense</td>\n",
              "      <td>97.0</td>\n",
              "      <td>0</td>\n",
              "    </tr>\n",
              "    <tr>\n",
              "      <th>274</th>\n",
              "      <td>2021-11-21 17:07:00</td>\n",
              "      <td>CUB - online payment</td>\n",
              "      <td>Transportation</td>\n",
              "      <td>Rapido</td>\n",
              "      <td>Expense</td>\n",
              "      <td>130.0</td>\n",
              "      <td>2</td>\n",
              "    </tr>\n",
              "    <tr>\n",
              "      <th>275</th>\n",
              "      <td>2021-11-21 15:50:00</td>\n",
              "      <td>CUB - online payment</td>\n",
              "      <td>Food</td>\n",
              "      <td>Lunch</td>\n",
              "      <td>Expense</td>\n",
              "      <td>875.0</td>\n",
              "      <td>0</td>\n",
              "    </tr>\n",
              "  </tbody>\n",
              "</table>\n",
              "<p>227 rows × 7 columns</p>\n",
              "</div>"
            ],
            "text/plain": [
              "                   Date               Account        Category  \\\n",
              "0   2022-03-02 10:11:00  CUB - online payment            Food   \n",
              "1   2022-03-02 10:11:00  CUB - online payment           Other   \n",
              "2   2022-03-01 19:50:00  CUB - online payment            Food   \n",
              "3   2022-03-01 18:56:00  CUB - online payment  Transportation   \n",
              "4   2022-03-01 18:22:00  CUB - online payment            Food   \n",
              "..                  ...                   ...             ...   \n",
              "271 2021-11-23 22:53:00  CUB - online payment            Food   \n",
              "272 2021-11-22 14:16:00  CUB - online payment            Food   \n",
              "273 2021-11-22 14:16:00  CUB - online payment            Food   \n",
              "274 2021-11-21 17:07:00  CUB - online payment  Transportation   \n",
              "275 2021-11-21 15:50:00  CUB - online payment            Food   \n",
              "\n",
              "                   Note Income/Expense  Amount  category_code  \n",
              "0               Brownie        Expense    50.0              0  \n",
              "1      To lended people        Expense   300.0              1  \n",
              "2                Dinner        Expense    78.0              0  \n",
              "3                 Metro        Expense    30.0              2  \n",
              "4                Snacks        Expense    67.0              0  \n",
              "..                  ...            ...     ...            ...  \n",
              "271              Dinner        Expense   179.0              0  \n",
              "272              Dinner        Expense    90.0              0  \n",
              "273  Lunch with company        Expense    97.0              0  \n",
              "274              Rapido        Expense   130.0              2  \n",
              "275               Lunch        Expense   875.0              0  \n",
              "\n",
              "[227 rows x 7 columns]"
            ]
          },
          "execution_count": 215,
          "metadata": {},
          "output_type": "execute_result"
        }
      ],
      "source": [
        "expense_df"
      ]
    },
    {
      "cell_type": "code",
      "execution_count": 216,
      "id": "709f5f28",
      "metadata": {
        "id": "709f5f28"
      },
      "outputs": [],
      "source": [
        "\"\"\"\n",
        "Extracts the first column of the `expense_df` DataFrame as a NumPy array.\n",
        "\n",
        "This code selects the first column (index 0) of the `expense_df` DataFrame and converts it to a NumPy array. The resulting array `X` can be used for further data processing or analysis.\n",
        "\"\"\"\n",
        "X = expense_df.iloc[:, 0:1].values"
      ]
    },
    {
      "cell_type": "code",
      "execution_count": 217,
      "id": "447a4c74",
      "metadata": {
        "id": "447a4c74"
      },
      "outputs": [],
      "source": [
        "\"\"\"\n",
        "Extracts the values from the 5th column of the `expense_df` DataFrame and reshapes the resulting 1D array into a 2D array with 1 row.\n",
        "\n",
        "Args:\n",
        "    expense_df (pandas.DataFrame): The DataFrame containing the expense data.\n",
        "\n",
        "Returns:\n",
        "    numpy.ndarray: A 2D array with the values from the 5th column of `expense_df`.\n",
        "\"\"\"\n",
        "y = expense_df.iloc[:, 5].values\n",
        "y2= y.reshape(1,-1)"
      ]
    },
    {
      "cell_type": "code",
      "execution_count": 218,
      "id": "da992ccf",
      "metadata": {},
      "outputs": [
        {
          "name": "stdout",
          "output_type": "stream",
          "text": [
            "[[  50.    300.     78.     30.     67.    339.15  243.    100.     40.\n",
            "    84.    289.    324.7   399.     83.    399.    120.   1300.    138.\n",
            "   336.    201.8   200.    111.    250.   1575.    200.    380.     60.\n",
            "    50.    270.    348.     80.    165.    475.    100.    491.     70.\n",
            "    80.    373.    641.   2099.    214.    125.    150.   1000.   1500.\n",
            "    80.     50.    150.    120.     50.    200.    153.    155.    120.\n",
            "   105.     44.    100.     10.    138.     43.    300.    100.    279.\n",
            "   115.     25.    259.     18.    325.     40.    133.     40.    465.\n",
            "   300.    302.    176.    200.    188.     37.    171.    301.15   59.\n",
            "   148.    200.    100.   1365.     70.   1530.     66.     43.    479.\n",
            "   301.75  135.5   106.    535.3  4580.     15.     20.    877.81   10.\n",
            "    42.    211.     40.     30.    354.    500.    500.     60.    388.\n",
            "  1400.    106.     80.    107.     10.    300.      8.    200.    725.\n",
            "    85.     20.     43.     25.    199.     20.    286.     14.    115.\n",
            "    50.    504.    306.    400.     30.     30.     40.    150.    262.\n",
            "    15.     32.    239.     25.     18.     80.     80.     20.     20.\n",
            "    85.     40.    100.    100.    200.    113.    363.72  160.     70.\n",
            "   110.     50.     30.     20.     30.    110.     40.     75.     80.\n",
            "    74.     65.     25.    241.    195.     40.    280.     25.    110.\n",
            "   100.     15.     10.     25.     15.     25.    500.    140.    150.\n",
            "    25.   1800.   4800.    324.     65.     30.    200.     25.    130.\n",
            "    20.     40.    504.     75.    196.    160.    115.    128.     70.\n",
            "    40.     50.     40.     40.     94.    269.4   120.    130.     35.\n",
            "    75.     30.    150.    102.     40.    150.     60.    145.     58.\n",
            "    95.     15.     70.     20.     58.     50.    179.     90.     97.\n",
            "   130.    875.  ]]\n"
          ]
        }
      ],
      "source": [
        "print(y2)"
      ]
    },
    {
      "cell_type": "code",
      "execution_count": 219,
      "id": "8bb673e3",
      "metadata": {
        "id": "8bb673e3"
      },
      "outputs": [],
      "source": [
        "from sklearn.preprocessing import StandardScaler\n",
        "sc_X = StandardScaler()\n",
        "sc_y = StandardScaler()\n",
        "X = sc_X.fit_transform(X)\n",
        "y = sc_y.fit_transform(y2)"
      ]
    },
    {
      "cell_type": "code",
      "execution_count": 220,
      "id": "ac82a87b",
      "metadata": {
        "id": "ac82a87b",
        "outputId": "1e06f5ae-93b5-4f9d-9102-95e828eaed53"
      },
      "outputs": [
        {
          "data": {
            "text/plain": [
              "((227, 1), (1, 227))"
            ]
          },
          "execution_count": 220,
          "metadata": {},
          "output_type": "execute_result"
        }
      ],
      "source": [
        "X.shape, y.shape"
      ]
    },
    {
      "cell_type": "code",
      "execution_count": 221,
      "id": "038590ab",
      "metadata": {
        "id": "038590ab",
        "outputId": "e257887b-0764-45b6-9355-236009924fb1"
      },
      "outputs": [
        {
          "data": {
            "text/html": [
              "<style>#sk-container-id-3 {\n",
              "  /* Definition of color scheme common for light and dark mode */\n",
              "  --sklearn-color-text: black;\n",
              "  --sklearn-color-line: gray;\n",
              "  /* Definition of color scheme for unfitted estimators */\n",
              "  --sklearn-color-unfitted-level-0: #fff5e6;\n",
              "  --sklearn-color-unfitted-level-1: #f6e4d2;\n",
              "  --sklearn-color-unfitted-level-2: #ffe0b3;\n",
              "  --sklearn-color-unfitted-level-3: chocolate;\n",
              "  /* Definition of color scheme for fitted estimators */\n",
              "  --sklearn-color-fitted-level-0: #f0f8ff;\n",
              "  --sklearn-color-fitted-level-1: #d4ebff;\n",
              "  --sklearn-color-fitted-level-2: #b3dbfd;\n",
              "  --sklearn-color-fitted-level-3: cornflowerblue;\n",
              "\n",
              "  /* Specific color for light theme */\n",
              "  --sklearn-color-text-on-default-background: var(--sg-text-color, var(--theme-code-foreground, var(--jp-content-font-color1, black)));\n",
              "  --sklearn-color-background: var(--sg-background-color, var(--theme-background, var(--jp-layout-color0, white)));\n",
              "  --sklearn-color-border-box: var(--sg-text-color, var(--theme-code-foreground, var(--jp-content-font-color1, black)));\n",
              "  --sklearn-color-icon: #696969;\n",
              "\n",
              "  @media (prefers-color-scheme: dark) {\n",
              "    /* Redefinition of color scheme for dark theme */\n",
              "    --sklearn-color-text-on-default-background: var(--sg-text-color, var(--theme-code-foreground, var(--jp-content-font-color1, white)));\n",
              "    --sklearn-color-background: var(--sg-background-color, var(--theme-background, var(--jp-layout-color0, #111)));\n",
              "    --sklearn-color-border-box: var(--sg-text-color, var(--theme-code-foreground, var(--jp-content-font-color1, white)));\n",
              "    --sklearn-color-icon: #878787;\n",
              "  }\n",
              "}\n",
              "\n",
              "#sk-container-id-3 {\n",
              "  color: var(--sklearn-color-text);\n",
              "}\n",
              "\n",
              "#sk-container-id-3 pre {\n",
              "  padding: 0;\n",
              "}\n",
              "\n",
              "#sk-container-id-3 input.sk-hidden--visually {\n",
              "  border: 0;\n",
              "  clip: rect(1px 1px 1px 1px);\n",
              "  clip: rect(1px, 1px, 1px, 1px);\n",
              "  height: 1px;\n",
              "  margin: -1px;\n",
              "  overflow: hidden;\n",
              "  padding: 0;\n",
              "  position: absolute;\n",
              "  width: 1px;\n",
              "}\n",
              "\n",
              "#sk-container-id-3 div.sk-dashed-wrapped {\n",
              "  border: 1px dashed var(--sklearn-color-line);\n",
              "  margin: 0 0.4em 0.5em 0.4em;\n",
              "  box-sizing: border-box;\n",
              "  padding-bottom: 0.4em;\n",
              "  background-color: var(--sklearn-color-background);\n",
              "}\n",
              "\n",
              "#sk-container-id-3 div.sk-container {\n",
              "  /* jupyter's `normalize.less` sets `[hidden] { display: none; }`\n",
              "     but bootstrap.min.css set `[hidden] { display: none !important; }`\n",
              "     so we also need the `!important` here to be able to override the\n",
              "     default hidden behavior on the sphinx rendered scikit-learn.org.\n",
              "     See: https://github.com/scikit-learn/scikit-learn/issues/21755 */\n",
              "  display: inline-block !important;\n",
              "  position: relative;\n",
              "}\n",
              "\n",
              "#sk-container-id-3 div.sk-text-repr-fallback {\n",
              "  display: none;\n",
              "}\n",
              "\n",
              "div.sk-parallel-item,\n",
              "div.sk-serial,\n",
              "div.sk-item {\n",
              "  /* draw centered vertical line to link estimators */\n",
              "  background-image: linear-gradient(var(--sklearn-color-text-on-default-background), var(--sklearn-color-text-on-default-background));\n",
              "  background-size: 2px 100%;\n",
              "  background-repeat: no-repeat;\n",
              "  background-position: center center;\n",
              "}\n",
              "\n",
              "/* Parallel-specific style estimator block */\n",
              "\n",
              "#sk-container-id-3 div.sk-parallel-item::after {\n",
              "  content: \"\";\n",
              "  width: 100%;\n",
              "  border-bottom: 2px solid var(--sklearn-color-text-on-default-background);\n",
              "  flex-grow: 1;\n",
              "}\n",
              "\n",
              "#sk-container-id-3 div.sk-parallel {\n",
              "  display: flex;\n",
              "  align-items: stretch;\n",
              "  justify-content: center;\n",
              "  background-color: var(--sklearn-color-background);\n",
              "  position: relative;\n",
              "}\n",
              "\n",
              "#sk-container-id-3 div.sk-parallel-item {\n",
              "  display: flex;\n",
              "  flex-direction: column;\n",
              "}\n",
              "\n",
              "#sk-container-id-3 div.sk-parallel-item:first-child::after {\n",
              "  align-self: flex-end;\n",
              "  width: 50%;\n",
              "}\n",
              "\n",
              "#sk-container-id-3 div.sk-parallel-item:last-child::after {\n",
              "  align-self: flex-start;\n",
              "  width: 50%;\n",
              "}\n",
              "\n",
              "#sk-container-id-3 div.sk-parallel-item:only-child::after {\n",
              "  width: 0;\n",
              "}\n",
              "\n",
              "/* Serial-specific style estimator block */\n",
              "\n",
              "#sk-container-id-3 div.sk-serial {\n",
              "  display: flex;\n",
              "  flex-direction: column;\n",
              "  align-items: center;\n",
              "  background-color: var(--sklearn-color-background);\n",
              "  padding-right: 1em;\n",
              "  padding-left: 1em;\n",
              "}\n",
              "\n",
              "\n",
              "/* Toggleable style: style used for estimator/Pipeline/ColumnTransformer box that is\n",
              "clickable and can be expanded/collapsed.\n",
              "- Pipeline and ColumnTransformer use this feature and define the default style\n",
              "- Estimators will overwrite some part of the style using the `sk-estimator` class\n",
              "*/\n",
              "\n",
              "/* Pipeline and ColumnTransformer style (default) */\n",
              "\n",
              "#sk-container-id-3 div.sk-toggleable {\n",
              "  /* Default theme specific background. It is overwritten whether we have a\n",
              "  specific estimator or a Pipeline/ColumnTransformer */\n",
              "  background-color: var(--sklearn-color-background);\n",
              "}\n",
              "\n",
              "/* Toggleable label */\n",
              "#sk-container-id-3 label.sk-toggleable__label {\n",
              "  cursor: pointer;\n",
              "  display: block;\n",
              "  width: 100%;\n",
              "  margin-bottom: 0;\n",
              "  padding: 0.5em;\n",
              "  box-sizing: border-box;\n",
              "  text-align: center;\n",
              "}\n",
              "\n",
              "#sk-container-id-3 label.sk-toggleable__label-arrow:before {\n",
              "  /* Arrow on the left of the label */\n",
              "  content: \"▸\";\n",
              "  float: left;\n",
              "  margin-right: 0.25em;\n",
              "  color: var(--sklearn-color-icon);\n",
              "}\n",
              "\n",
              "#sk-container-id-3 label.sk-toggleable__label-arrow:hover:before {\n",
              "  color: var(--sklearn-color-text);\n",
              "}\n",
              "\n",
              "/* Toggleable content - dropdown */\n",
              "\n",
              "#sk-container-id-3 div.sk-toggleable__content {\n",
              "  max-height: 0;\n",
              "  max-width: 0;\n",
              "  overflow: hidden;\n",
              "  text-align: left;\n",
              "  /* unfitted */\n",
              "  background-color: var(--sklearn-color-unfitted-level-0);\n",
              "}\n",
              "\n",
              "#sk-container-id-3 div.sk-toggleable__content.fitted {\n",
              "  /* fitted */\n",
              "  background-color: var(--sklearn-color-fitted-level-0);\n",
              "}\n",
              "\n",
              "#sk-container-id-3 div.sk-toggleable__content pre {\n",
              "  margin: 0.2em;\n",
              "  border-radius: 0.25em;\n",
              "  color: var(--sklearn-color-text);\n",
              "  /* unfitted */\n",
              "  background-color: var(--sklearn-color-unfitted-level-0);\n",
              "}\n",
              "\n",
              "#sk-container-id-3 div.sk-toggleable__content.fitted pre {\n",
              "  /* unfitted */\n",
              "  background-color: var(--sklearn-color-fitted-level-0);\n",
              "}\n",
              "\n",
              "#sk-container-id-3 input.sk-toggleable__control:checked~div.sk-toggleable__content {\n",
              "  /* Expand drop-down */\n",
              "  max-height: 200px;\n",
              "  max-width: 100%;\n",
              "  overflow: auto;\n",
              "}\n",
              "\n",
              "#sk-container-id-3 input.sk-toggleable__control:checked~label.sk-toggleable__label-arrow:before {\n",
              "  content: \"▾\";\n",
              "}\n",
              "\n",
              "/* Pipeline/ColumnTransformer-specific style */\n",
              "\n",
              "#sk-container-id-3 div.sk-label input.sk-toggleable__control:checked~label.sk-toggleable__label {\n",
              "  color: var(--sklearn-color-text);\n",
              "  background-color: var(--sklearn-color-unfitted-level-2);\n",
              "}\n",
              "\n",
              "#sk-container-id-3 div.sk-label.fitted input.sk-toggleable__control:checked~label.sk-toggleable__label {\n",
              "  background-color: var(--sklearn-color-fitted-level-2);\n",
              "}\n",
              "\n",
              "/* Estimator-specific style */\n",
              "\n",
              "/* Colorize estimator box */\n",
              "#sk-container-id-3 div.sk-estimator input.sk-toggleable__control:checked~label.sk-toggleable__label {\n",
              "  /* unfitted */\n",
              "  background-color: var(--sklearn-color-unfitted-level-2);\n",
              "}\n",
              "\n",
              "#sk-container-id-3 div.sk-estimator.fitted input.sk-toggleable__control:checked~label.sk-toggleable__label {\n",
              "  /* fitted */\n",
              "  background-color: var(--sklearn-color-fitted-level-2);\n",
              "}\n",
              "\n",
              "#sk-container-id-3 div.sk-label label.sk-toggleable__label,\n",
              "#sk-container-id-3 div.sk-label label {\n",
              "  /* The background is the default theme color */\n",
              "  color: var(--sklearn-color-text-on-default-background);\n",
              "}\n",
              "\n",
              "/* On hover, darken the color of the background */\n",
              "#sk-container-id-3 div.sk-label:hover label.sk-toggleable__label {\n",
              "  color: var(--sklearn-color-text);\n",
              "  background-color: var(--sklearn-color-unfitted-level-2);\n",
              "}\n",
              "\n",
              "/* Label box, darken color on hover, fitted */\n",
              "#sk-container-id-3 div.sk-label.fitted:hover label.sk-toggleable__label.fitted {\n",
              "  color: var(--sklearn-color-text);\n",
              "  background-color: var(--sklearn-color-fitted-level-2);\n",
              "}\n",
              "\n",
              "/* Estimator label */\n",
              "\n",
              "#sk-container-id-3 div.sk-label label {\n",
              "  font-family: monospace;\n",
              "  font-weight: bold;\n",
              "  display: inline-block;\n",
              "  line-height: 1.2em;\n",
              "}\n",
              "\n",
              "#sk-container-id-3 div.sk-label-container {\n",
              "  text-align: center;\n",
              "}\n",
              "\n",
              "/* Estimator-specific */\n",
              "#sk-container-id-3 div.sk-estimator {\n",
              "  font-family: monospace;\n",
              "  border: 1px dotted var(--sklearn-color-border-box);\n",
              "  border-radius: 0.25em;\n",
              "  box-sizing: border-box;\n",
              "  margin-bottom: 0.5em;\n",
              "  /* unfitted */\n",
              "  background-color: var(--sklearn-color-unfitted-level-0);\n",
              "}\n",
              "\n",
              "#sk-container-id-3 div.sk-estimator.fitted {\n",
              "  /* fitted */\n",
              "  background-color: var(--sklearn-color-fitted-level-0);\n",
              "}\n",
              "\n",
              "/* on hover */\n",
              "#sk-container-id-3 div.sk-estimator:hover {\n",
              "  /* unfitted */\n",
              "  background-color: var(--sklearn-color-unfitted-level-2);\n",
              "}\n",
              "\n",
              "#sk-container-id-3 div.sk-estimator.fitted:hover {\n",
              "  /* fitted */\n",
              "  background-color: var(--sklearn-color-fitted-level-2);\n",
              "}\n",
              "\n",
              "/* Specification for estimator info (e.g. \"i\" and \"?\") */\n",
              "\n",
              "/* Common style for \"i\" and \"?\" */\n",
              "\n",
              ".sk-estimator-doc-link,\n",
              "a:link.sk-estimator-doc-link,\n",
              "a:visited.sk-estimator-doc-link {\n",
              "  float: right;\n",
              "  font-size: smaller;\n",
              "  line-height: 1em;\n",
              "  font-family: monospace;\n",
              "  background-color: var(--sklearn-color-background);\n",
              "  border-radius: 1em;\n",
              "  height: 1em;\n",
              "  width: 1em;\n",
              "  text-decoration: none !important;\n",
              "  margin-left: 1ex;\n",
              "  /* unfitted */\n",
              "  border: var(--sklearn-color-unfitted-level-1) 1pt solid;\n",
              "  color: var(--sklearn-color-unfitted-level-1);\n",
              "}\n",
              "\n",
              ".sk-estimator-doc-link.fitted,\n",
              "a:link.sk-estimator-doc-link.fitted,\n",
              "a:visited.sk-estimator-doc-link.fitted {\n",
              "  /* fitted */\n",
              "  border: var(--sklearn-color-fitted-level-1) 1pt solid;\n",
              "  color: var(--sklearn-color-fitted-level-1);\n",
              "}\n",
              "\n",
              "/* On hover */\n",
              "div.sk-estimator:hover .sk-estimator-doc-link:hover,\n",
              ".sk-estimator-doc-link:hover,\n",
              "div.sk-label-container:hover .sk-estimator-doc-link:hover,\n",
              ".sk-estimator-doc-link:hover {\n",
              "  /* unfitted */\n",
              "  background-color: var(--sklearn-color-unfitted-level-3);\n",
              "  color: var(--sklearn-color-background);\n",
              "  text-decoration: none;\n",
              "}\n",
              "\n",
              "div.sk-estimator.fitted:hover .sk-estimator-doc-link.fitted:hover,\n",
              ".sk-estimator-doc-link.fitted:hover,\n",
              "div.sk-label-container:hover .sk-estimator-doc-link.fitted:hover,\n",
              ".sk-estimator-doc-link.fitted:hover {\n",
              "  /* fitted */\n",
              "  background-color: var(--sklearn-color-fitted-level-3);\n",
              "  color: var(--sklearn-color-background);\n",
              "  text-decoration: none;\n",
              "}\n",
              "\n",
              "/* Span, style for the box shown on hovering the info icon */\n",
              ".sk-estimator-doc-link span {\n",
              "  display: none;\n",
              "  z-index: 9999;\n",
              "  position: relative;\n",
              "  font-weight: normal;\n",
              "  right: .2ex;\n",
              "  padding: .5ex;\n",
              "  margin: .5ex;\n",
              "  width: min-content;\n",
              "  min-width: 20ex;\n",
              "  max-width: 50ex;\n",
              "  color: var(--sklearn-color-text);\n",
              "  box-shadow: 2pt 2pt 4pt #999;\n",
              "  /* unfitted */\n",
              "  background: var(--sklearn-color-unfitted-level-0);\n",
              "  border: .5pt solid var(--sklearn-color-unfitted-level-3);\n",
              "}\n",
              "\n",
              ".sk-estimator-doc-link.fitted span {\n",
              "  /* fitted */\n",
              "  background: var(--sklearn-color-fitted-level-0);\n",
              "  border: var(--sklearn-color-fitted-level-3);\n",
              "}\n",
              "\n",
              ".sk-estimator-doc-link:hover span {\n",
              "  display: block;\n",
              "}\n",
              "\n",
              "/* \"?\"-specific style due to the `<a>` HTML tag */\n",
              "\n",
              "#sk-container-id-3 a.estimator_doc_link {\n",
              "  float: right;\n",
              "  font-size: 1rem;\n",
              "  line-height: 1em;\n",
              "  font-family: monospace;\n",
              "  background-color: var(--sklearn-color-background);\n",
              "  border-radius: 1rem;\n",
              "  height: 1rem;\n",
              "  width: 1rem;\n",
              "  text-decoration: none;\n",
              "  /* unfitted */\n",
              "  color: var(--sklearn-color-unfitted-level-1);\n",
              "  border: var(--sklearn-color-unfitted-level-1) 1pt solid;\n",
              "}\n",
              "\n",
              "#sk-container-id-3 a.estimator_doc_link.fitted {\n",
              "  /* fitted */\n",
              "  border: var(--sklearn-color-fitted-level-1) 1pt solid;\n",
              "  color: var(--sklearn-color-fitted-level-1);\n",
              "}\n",
              "\n",
              "/* On hover */\n",
              "#sk-container-id-3 a.estimator_doc_link:hover {\n",
              "  /* unfitted */\n",
              "  background-color: var(--sklearn-color-unfitted-level-3);\n",
              "  color: var(--sklearn-color-background);\n",
              "  text-decoration: none;\n",
              "}\n",
              "\n",
              "#sk-container-id-3 a.estimator_doc_link.fitted:hover {\n",
              "  /* fitted */\n",
              "  background-color: var(--sklearn-color-fitted-level-3);\n",
              "}\n",
              "</style><div id=\"sk-container-id-3\" class=\"sk-top-container\"><div class=\"sk-text-repr-fallback\"><pre>SVR()</pre><b>In a Jupyter environment, please rerun this cell to show the HTML representation or trust the notebook. <br />On GitHub, the HTML representation is unable to render, please try loading this page with nbviewer.org.</b></div><div class=\"sk-container\" hidden><div class=\"sk-item\"><div class=\"sk-estimator fitted sk-toggleable\"><input class=\"sk-toggleable__control sk-hidden--visually\" id=\"sk-estimator-id-3\" type=\"checkbox\" checked><label for=\"sk-estimator-id-3\" class=\"sk-toggleable__label fitted sk-toggleable__label-arrow fitted\">&nbsp;&nbsp;SVR<a class=\"sk-estimator-doc-link fitted\" rel=\"noreferrer\" target=\"_blank\" href=\"https://scikit-learn.org/1.4/modules/generated/sklearn.svm.SVR.html\">?<span>Documentation for SVR</span></a><span class=\"sk-estimator-doc-link fitted\">i<span>Fitted</span></span></label><div class=\"sk-toggleable__content fitted\"><pre>SVR()</pre></div> </div></div></div></div>"
            ],
            "text/plain": [
              "SVR()"
            ]
          },
          "execution_count": 221,
          "metadata": {},
          "output_type": "execute_result"
        }
      ],
      "source": [
        "from sklearn.svm import SVR\n",
        "regressor = SVR(kernel = 'rbf')\n",
        "y=y.flatten() ## used tp convert 2D array into 1D array\n",
        "regressor.fit(X, y)"
      ]
    },
    {
      "cell_type": "code",
      "execution_count": 222,
      "id": "9e30c281",
      "metadata": {
        "id": "9e30c281",
        "outputId": "d24f6dbe-5592-4155-923a-f6b2ddebe664"
      },
      "outputs": [
        {
          "name": "stderr",
          "output_type": "stream",
          "text": [
            "C:\\Users\\ASUS\\AppData\\Local\\Temp\\ipykernel_23428\\4126794818.py:1: DeprecationWarning:\n",
            "\n",
            "Conversion of an array with ndim > 0 to a scalar is deprecated, and will error in future. Ensure you extract a single element from your array before performing this operation. (Deprecated NumPy 1.25.)\n",
            "\n"
          ]
        },
        {
          "data": {
            "image/png": "[encoded data removed]",
            "text/plain": [
              "<Figure size 1000x600 with 1 Axes>"
            ]
          },
          "metadata": {
            "needs_background": "light"
          },
          "output_type": "display_data"
        }
      ],
      "source": [
        "X_grid = np.arange(min(X), max(X), 0.1) #this step required because data is feature scaled.\n",
        "X_grid = X_grid.reshape((len(X_grid), 1))\n",
        "plt.scatter(X, y, color = 'red')\n",
        "plt.plot(X_grid, regressor.predict(X_grid), color = 'blue')\n",
        "plt.title('Truth or Bluff (SVR)')\n",
        "plt.show()"
      ]
    },
    {
      "cell_type": "markdown",
      "id": "18c4675f",
      "metadata": {
        "id": "18c4675f"
      },
      "source": [
        "## Time Series Analysis"
      ]
    },
    {
      "cell_type": "code",
      "execution_count": 223,
      "id": "1a351d05",
      "metadata": {
        "id": "1a351d05",
        "outputId": "8cdf0cc3-a72f-4f71-9920-bf90f53643df"
      },
      "outputs": [
        {
          "data": {
            "text/plain": [
              "0     2022-03-02 10:11:00\n",
              "1     2022-03-02 10:11:00\n",
              "2     2022-03-01 19:50:00\n",
              "3     2022-03-01 18:56:00\n",
              "4     2022-03-01 18:22:00\n",
              "              ...        \n",
              "271   2021-11-23 22:53:00\n",
              "272   2021-11-22 14:16:00\n",
              "273   2021-11-22 14:16:00\n",
              "274   2021-11-21 17:07:00\n",
              "275   2021-11-21 15:50:00\n",
              "Name: Date, Length: 227, dtype: datetime64[ns]"
            ]
          },
          "execution_count": 223,
          "metadata": {},
          "output_type": "execute_result"
        }
      ],
      "source": [
        "expense_df.Date"
      ]
    },
    {
      "cell_type": "code",
      "execution_count": 224,
      "id": "24457335",
      "metadata": {
        "id": "24457335",
        "outputId": "e5396bb3-77c1-40e5-b773-393ef2230bcc"
      },
      "outputs": [
        {
          "name": "stdout",
          "output_type": "stream",
          "text": [
            "Requirement already satisfied: prophet in c:\\users\\asus\\appdata\\local\\programs\\python\\python312\\lib\\site-packages (1.1.5)\n",
            "Requirement already satisfied: cmdstanpy>=1.0.4 in c:\\users\\asus\\appdata\\local\\programs\\python\\python312\\lib\\site-packages (from prophet) (1.2.4)\n",
            "Requirement already satisfied: numpy>=1.15.4 in c:\\users\\asus\\appdata\\local\\programs\\python\\python312\\lib\\site-packages (from prophet) (1.26.4)\n",
            "Requirement already satisfied: matplotlib>=2.0.0 in c:\\users\\asus\\appdata\\local\\programs\\python\\python312\\lib\\site-packages (from prophet) (3.8.3)\n",
            "Requirement already satisfied: pandas>=1.0.4 in c:\\users\\asus\\appdata\\local\\programs\\python\\python312\\lib\\site-packages (from prophet) (2.2.1)\n",
            "Requirement already satisfied: holidays>=0.25 in c:\\users\\asus\\appdata\\local\\programs\\python\\python312\\lib\\site-packages (from prophet) (0.52)\n",
            "Requirement already satisfied: tqdm>=4.36.1 in c:\\users\\asus\\appdata\\local\\programs\\python\\python312\\lib\\site-packages (from prophet) (4.66.4)\n",
            "Requirement already satisfied: importlib-resources in c:\\users\\asus\\appdata\\local\\programs\\python\\python312\\lib\\site-packages (from prophet) (6.4.0)\n",
            "Requirement already satisfied: stanio<2.0.0,>=0.4.0 in c:\\users\\asus\\appdata\\local\\programs\\python\\python312\\lib\\site-packages (from cmdstanpy>=1.0.4->prophet) (0.5.0)\n",
            "Requirement already satisfied: python-dateutil in c:\\users\\asus\\appdata\\roaming\\python\\python312\\site-packages (from holidays>=0.25->prophet) (2.9.0.post0)\n",
            "Requirement already satisfied: contourpy>=1.0.1 in c:\\users\\asus\\appdata\\local\\programs\\python\\python312\\lib\\site-packages (from matplotlib>=2.0.0->prophet) (1.2.0)\n",
            "Requirement already satisfied: cycler>=0.10 in c:\\users\\asus\\appdata\\local\\programs\\python\\python312\\lib\\site-packages (from matplotlib>=2.0.0->prophet) (0.12.1)\n",
            "Requirement already satisfied: fonttools>=4.22.0 in c:\\users\\asus\\appdata\\local\\programs\\python\\python312\\lib\\site-packages (from matplotlib>=2.0.0->prophet) (4.50.0)\n",
            "Requirement already satisfied: kiwisolver>=1.3.1 in c:\\users\\asus\\appdata\\local\\programs\\python\\python312\\lib\\site-packages (from matplotlib>=2.0.0->prophet) (1.4.5)\n",
            "Requirement already satisfied: packaging>=20.0 in c:\\users\\asus\\appdata\\roaming\\python\\python312\\site-packages (from matplotlib>=2.0.0->prophet) (24.0)\n",
            "Requirement already satisfied: pillow>=8 in c:\\users\\asus\\appdata\\local\\programs\\python\\python312\\lib\\site-packages (from matplotlib>=2.0.0->prophet) (10.3.0)\n",
            "Requirement already satisfied: pyparsing>=2.3.1 in c:\\users\\asus\\appdata\\local\\programs\\python\\python312\\lib\\site-packages (from matplotlib>=2.0.0->prophet) (3.1.2)\n",
            "Requirement already satisfied: pytz>=2020.1 in c:\\users\\asus\\appdata\\local\\programs\\python\\python312\\lib\\site-packages (from pandas>=1.0.4->prophet) (2024.1)\n",
            "Requirement already satisfied: tzdata>=2022.7 in c:\\users\\asus\\appdata\\local\\programs\\python\\python312\\lib\\site-packages (from pandas>=1.0.4->prophet) (2024.1)\n",
            "Requirement already satisfied: colorama in c:\\users\\asus\\appdata\\roaming\\python\\python312\\site-packages (from tqdm>=4.36.1->prophet) (0.4.6)\n",
            "Requirement already satisfied: six>=1.5 in c:\\users\\asus\\appdata\\roaming\\python\\python312\\site-packages (from python-dateutil->holidays>=0.25->prophet) (1.16.0)\n"
          ]
        }
      ],
      "source": [
        "!pip install prophet"
      ]
    },
    {
      "cell_type": "code",
      "execution_count": 225,
      "id": "19cccf6b",
      "metadata": {
        "id": "19cccf6b"
      },
      "outputs": [
        {
          "name": "stderr",
          "output_type": "stream",
          "text": [
            "c:\\Users\\ASUS\\AppData\\Local\\Programs\\Python\\Python312\\Lib\\site-packages\\tqdm\\auto.py:21: TqdmWarning:\n",
            "\n",
            "IProgress not found. Please update jupyter and ipywidgets. See https://ipywidgets.readthedocs.io/en/stable/user_install.html\n",
            "\n"
          ]
        }
      ],
      "source": [
        "from prophet import Prophet"
      ]
    },
    {
      "cell_type": "code",
      "execution_count": 226,
      "id": "3acb5a01",
      "metadata": {
        "id": "3acb5a01"
      },
      "outputs": [],
      "source": [
        "expense_df_TSA=expense_df"
      ]
    },
    {
      "cell_type": "code",
      "execution_count": 227,
      "id": "8a8e67fa",
      "metadata": {
        "id": "8a8e67fa"
      },
      "outputs": [],
      "source": [
        "expense_df_TSA=expense_df_TSA.drop(['Account','Category','Note','Income/Expense','category_code'],axis=1)"
      ]
    },
    {
      "cell_type": "code",
      "execution_count": 228,
      "id": "4f0af069",
      "metadata": {
        "id": "4f0af069"
      },
      "outputs": [],
      "source": [
        "expense_df_TSA.rename(columns={'Date':'ds','Amount':'y'},inplace=True)"
      ]
    },
    {
      "cell_type": "code",
      "execution_count": 229,
      "id": "12b3be24",
      "metadata": {
        "id": "12b3be24",
        "outputId": "9752d29a-3156-4248-81df-7f7292d95e40"
      },
      "outputs": [
        {
          "data": {
            "text/html": [
              "<div>\n",
              "<style scoped>\n",
              "    .dataframe tbody tr th:only-of-type {\n",
              "        vertical-align: middle;\n",
              "    }\n",
              "\n",
              "    .dataframe tbody tr th {\n",
              "        vertical-align: top;\n",
              "    }\n",
              "\n",
              "    .dataframe thead th {\n",
              "        text-align: right;\n",
              "    }\n",
              "</style>\n",
              "<table border=\"1\" class=\"dataframe\">\n",
              "  <thead>\n",
              "    <tr style=\"text-align: right;\">\n",
              "      <th></th>\n",
              "      <th>ds</th>\n",
              "      <th>y</th>\n",
              "    </tr>\n",
              "  </thead>\n",
              "  <tbody>\n",
              "    <tr>\n",
              "      <th>0</th>\n",
              "      <td>2022-03-02 10:11:00</td>\n",
              "      <td>50.0</td>\n",
              "    </tr>\n",
              "    <tr>\n",
              "      <th>1</th>\n",
              "      <td>2022-03-02 10:11:00</td>\n",
              "      <td>300.0</td>\n",
              "    </tr>\n",
              "    <tr>\n",
              "      <th>2</th>\n",
              "      <td>2022-03-01 19:50:00</td>\n",
              "      <td>78.0</td>\n",
              "    </tr>\n",
              "    <tr>\n",
              "      <th>3</th>\n",
              "      <td>2022-03-01 18:56:00</td>\n",
              "      <td>30.0</td>\n",
              "    </tr>\n",
              "    <tr>\n",
              "      <th>4</th>\n",
              "      <td>2022-03-01 18:22:00</td>\n",
              "      <td>67.0</td>\n",
              "    </tr>\n",
              "    <tr>\n",
              "      <th>...</th>\n",
              "      <td>...</td>\n",
              "      <td>...</td>\n",
              "    </tr>\n",
              "    <tr>\n",
              "      <th>271</th>\n",
              "      <td>2021-11-23 22:53:00</td>\n",
              "      <td>179.0</td>\n",
              "    </tr>\n",
              "    <tr>\n",
              "      <th>272</th>\n",
              "      <td>2021-11-22 14:16:00</td>\n",
              "      <td>90.0</td>\n",
              "    </tr>\n",
              "    <tr>\n",
              "      <th>273</th>\n",
              "      <td>2021-11-22 14:16:00</td>\n",
              "      <td>97.0</td>\n",
              "    </tr>\n",
              "    <tr>\n",
              "      <th>274</th>\n",
              "      <td>2021-11-21 17:07:00</td>\n",
              "      <td>130.0</td>\n",
              "    </tr>\n",
              "    <tr>\n",
              "      <th>275</th>\n",
              "      <td>2021-11-21 15:50:00</td>\n",
              "      <td>875.0</td>\n",
              "    </tr>\n",
              "  </tbody>\n",
              "</table>\n",
              "<p>227 rows × 2 columns</p>\n",
              "</div>"
            ],
            "text/plain": [
              "                     ds      y\n",
              "0   2022-03-02 10:11:00   50.0\n",
              "1   2022-03-02 10:11:00  300.0\n",
              "2   2022-03-01 19:50:00   78.0\n",
              "3   2022-03-01 18:56:00   30.0\n",
              "4   2022-03-01 18:22:00   67.0\n",
              "..                  ...    ...\n",
              "271 2021-11-23 22:53:00  179.0\n",
              "272 2021-11-22 14:16:00   90.0\n",
              "273 2021-11-22 14:16:00   97.0\n",
              "274 2021-11-21 17:07:00  130.0\n",
              "275 2021-11-21 15:50:00  875.0\n",
              "\n",
              "[227 rows x 2 columns]"
            ]
          },
          "execution_count": 229,
          "metadata": {},
          "output_type": "execute_result"
        }
      ],
      "source": [
        "expense_df_TSA"
      ]
    },
    {
      "cell_type": "code",
      "execution_count": 230,
      "id": "33ee7abe",
      "metadata": {
        "id": "33ee7abe",
        "outputId": "e1964fb0-7906-437c-aed6-a87df202d961"
      },
      "outputs": [
        {
          "name": "stderr",
          "output_type": "stream",
          "text": [
            "16:36:53 - cmdstanpy - INFO - Chain [1] start processing\n",
            "16:36:53 - cmdstanpy - INFO - Chain [1] done processing\n"
          ]
        }
      ],
      "source": [
        "p=Prophet(interval_width=0.92,daily_seasonality=True)\n",
        "model= p.fit(expense_df_TSA)"
      ]
    },
    {
      "cell_type": "code",
      "execution_count": 231,
      "id": "88c9bc75",
      "metadata": {
        "id": "88c9bc75"
      },
      "outputs": [
        {
          "name": "stderr",
          "output_type": "stream",
          "text": [
            "c:\\Users\\ASUS\\AppData\\Local\\Programs\\Python\\Python312\\Lib\\site-packages\\prophet\\forecaster.py:1854: FutureWarning:\n",
            "\n",
            "'M' is deprecated and will be removed in a future version, please use 'ME' instead.\n",
            "\n"
          ]
        }
      ],
      "source": [
        "future = model.make_future_dataframe(periods=36,freq='M')"
      ]
    },
    {
      "cell_type": "code",
      "execution_count": 233,
      "id": "de7a85bc",
      "metadata": {
        "id": "de7a85bc"
      },
      "outputs": [],
      "source": [
        "forecast_prediction = model.predict(future)"
      ]
    },
    {
      "cell_type": "code",
      "execution_count": 234,
      "id": "f34a2981",
      "metadata": {
        "id": "f34a2981",
        "outputId": "1e7495f8-be6a-4a3b-a1ed-63bb475b1be5"
      },
      "outputs": [
        {
          "data": {
            "text/html": [
              "<div>\n",
              "<style scoped>\n",
              "    .dataframe tbody tr th:only-of-type {\n",
              "        vertical-align: middle;\n",
              "    }\n",
              "\n",
              "    .dataframe tbody tr th {\n",
              "        vertical-align: top;\n",
              "    }\n",
              "\n",
              "    .dataframe thead th {\n",
              "        text-align: right;\n",
              "    }\n",
              "</style>\n",
              "<table border=\"1\" class=\"dataframe\">\n",
              "  <thead>\n",
              "    <tr style=\"text-align: right;\">\n",
              "      <th></th>\n",
              "      <th>ds</th>\n",
              "      <th>trend</th>\n",
              "      <th>yhat_lower</th>\n",
              "      <th>yhat_upper</th>\n",
              "      <th>trend_lower</th>\n",
              "      <th>trend_upper</th>\n",
              "      <th>additive_terms</th>\n",
              "      <th>additive_terms_lower</th>\n",
              "      <th>additive_terms_upper</th>\n",
              "      <th>daily</th>\n",
              "      <th>daily_lower</th>\n",
              "      <th>daily_upper</th>\n",
              "      <th>weekly</th>\n",
              "      <th>weekly_lower</th>\n",
              "      <th>weekly_upper</th>\n",
              "      <th>multiplicative_terms</th>\n",
              "      <th>multiplicative_terms_lower</th>\n",
              "      <th>multiplicative_terms_upper</th>\n",
              "      <th>yhat</th>\n",
              "    </tr>\n",
              "  </thead>\n",
              "  <tbody>\n",
              "    <tr>\n",
              "      <th>240</th>\n",
              "      <td>2024-10-31 10:11:00</td>\n",
              "      <td>1119.769295</td>\n",
              "      <td>133.139370</td>\n",
              "      <td>1963.161539</td>\n",
              "      <td>1119.029414</td>\n",
              "      <td>1120.512687</td>\n",
              "      <td>-5.278816</td>\n",
              "      <td>-5.278816</td>\n",
              "      <td>-5.278816</td>\n",
              "      <td>144.960912</td>\n",
              "      <td>144.960912</td>\n",
              "      <td>144.960912</td>\n",
              "      <td>-150.239728</td>\n",
              "      <td>-150.239728</td>\n",
              "      <td>-150.239728</td>\n",
              "      <td>0.0</td>\n",
              "      <td>0.0</td>\n",
              "      <td>0.0</td>\n",
              "      <td>1114.490479</td>\n",
              "    </tr>\n",
              "    <tr>\n",
              "      <th>241</th>\n",
              "      <td>2024-11-30 10:11:00</td>\n",
              "      <td>1147.464659</td>\n",
              "      <td>480.320791</td>\n",
              "      <td>2283.462819</td>\n",
              "      <td>1146.680423</td>\n",
              "      <td>1148.236498</td>\n",
              "      <td>194.479422</td>\n",
              "      <td>194.479422</td>\n",
              "      <td>194.479422</td>\n",
              "      <td>144.960912</td>\n",
              "      <td>144.960912</td>\n",
              "      <td>144.960912</td>\n",
              "      <td>49.518510</td>\n",
              "      <td>49.518510</td>\n",
              "      <td>49.518510</td>\n",
              "      <td>0.0</td>\n",
              "      <td>0.0</td>\n",
              "      <td>0.0</td>\n",
              "      <td>1341.944081</td>\n",
              "    </tr>\n",
              "    <tr>\n",
              "      <th>242</th>\n",
              "      <td>2024-12-31 10:11:00</td>\n",
              "      <td>1176.083202</td>\n",
              "      <td>361.050741</td>\n",
              "      <td>2168.718852</td>\n",
              "      <td>1175.270707</td>\n",
              "      <td>1176.889620</td>\n",
              "      <td>80.416149</td>\n",
              "      <td>80.416149</td>\n",
              "      <td>80.416149</td>\n",
              "      <td>144.960912</td>\n",
              "      <td>144.960912</td>\n",
              "      <td>144.960912</td>\n",
              "      <td>-64.544762</td>\n",
              "      <td>-64.544762</td>\n",
              "      <td>-64.544762</td>\n",
              "      <td>0.0</td>\n",
              "      <td>0.0</td>\n",
              "      <td>0.0</td>\n",
              "      <td>1256.499352</td>\n",
              "    </tr>\n",
              "    <tr>\n",
              "      <th>243</th>\n",
              "      <td>2025-01-31 10:11:00</td>\n",
              "      <td>1204.701746</td>\n",
              "      <td>400.154851</td>\n",
              "      <td>2151.019543</td>\n",
              "      <td>1203.858372</td>\n",
              "      <td>1205.550860</td>\n",
              "      <td>105.411277</td>\n",
              "      <td>105.411277</td>\n",
              "      <td>105.411277</td>\n",
              "      <td>144.960912</td>\n",
              "      <td>144.960912</td>\n",
              "      <td>144.960912</td>\n",
              "      <td>-39.549635</td>\n",
              "      <td>-39.549635</td>\n",
              "      <td>-39.549635</td>\n",
              "      <td>0.0</td>\n",
              "      <td>0.0</td>\n",
              "      <td>0.0</td>\n",
              "      <td>1310.113023</td>\n",
              "    </tr>\n",
              "    <tr>\n",
              "      <th>244</th>\n",
              "      <td>2025-02-28 10:11:00</td>\n",
              "      <td>1230.550753</td>\n",
              "      <td>469.440925</td>\n",
              "      <td>2226.679949</td>\n",
              "      <td>1229.668853</td>\n",
              "      <td>1231.435053</td>\n",
              "      <td>105.411277</td>\n",
              "      <td>105.411277</td>\n",
              "      <td>105.411277</td>\n",
              "      <td>144.960912</td>\n",
              "      <td>144.960912</td>\n",
              "      <td>144.960912</td>\n",
              "      <td>-39.549635</td>\n",
              "      <td>-39.549635</td>\n",
              "      <td>-39.549635</td>\n",
              "      <td>0.0</td>\n",
              "      <td>0.0</td>\n",
              "      <td>0.0</td>\n",
              "      <td>1335.962030</td>\n",
              "    </tr>\n",
              "  </tbody>\n",
              "</table>\n",
              "</div>"
            ],
            "text/plain": [
              "                     ds        trend  yhat_lower   yhat_upper  trend_lower  \\\n",
              "240 2024-10-31 10:11:00  1119.769295  133.139370  1963.161539  1119.029414   \n",
              "241 2024-11-30 10:11:00  1147.464659  480.320791  2283.462819  1146.680423   \n",
              "242 2024-12-31 10:11:00  1176.083202  361.050741  2168.718852  1175.270707   \n",
              "243 2025-01-31 10:11:00  1204.701746  400.154851  2151.019543  1203.858372   \n",
              "244 2025-02-28 10:11:00  1230.550753  469.440925  2226.679949  1229.668853   \n",
              "\n",
              "     trend_upper  additive_terms  additive_terms_lower  additive_terms_upper  \\\n",
              "240  1120.512687       -5.278816             -5.278816             -5.278816   \n",
              "241  1148.236498      194.479422            194.479422            194.479422   \n",
              "242  1176.889620       80.416149             80.416149             80.416149   \n",
              "243  1205.550860      105.411277            105.411277            105.411277   \n",
              "244  1231.435053      105.411277            105.411277            105.411277   \n",
              "\n",
              "          daily  daily_lower  daily_upper      weekly  weekly_lower  \\\n",
              "240  144.960912   144.960912   144.960912 -150.239728   -150.239728   \n",
              "241  144.960912   144.960912   144.960912   49.518510     49.518510   \n",
              "242  144.960912   144.960912   144.960912  -64.544762    -64.544762   \n",
              "243  144.960912   144.960912   144.960912  -39.549635    -39.549635   \n",
              "244  144.960912   144.960912   144.960912  -39.549635    -39.549635   \n",
              "\n",
              "     weekly_upper  multiplicative_terms  multiplicative_terms_lower  \\\n",
              "240   -150.239728                   0.0                         0.0   \n",
              "241     49.518510                   0.0                         0.0   \n",
              "242    -64.544762                   0.0                         0.0   \n",
              "243    -39.549635                   0.0                         0.0   \n",
              "244    -39.549635                   0.0                         0.0   \n",
              "\n",
              "     multiplicative_terms_upper         yhat  \n",
              "240                         0.0  1114.490479  \n",
              "241                         0.0  1341.944081  \n",
              "242                         0.0  1256.499352  \n",
              "243                         0.0  1310.113023  \n",
              "244                         0.0  1335.962030  "
            ]
          },
          "execution_count": 234,
          "metadata": {},
          "output_type": "execute_result"
        }
      ],
      "source": [
        "forecast_prediction.tail()"
      ]
    },
    {
      "cell_type": "code",
      "execution_count": null,
      "id": "2dff23f6",
      "metadata": {
        "id": "2dff23f6",
        "outputId": "fbb3550d-b85b-4c2f-d373-609abbe8dd56"
      },
      "outputs": [
        {
          "data": {
            "image/png": "[encoded data removed]",
            "text/plain": [
              "<Figure size 1000x600 with 1 Axes>"
            ]
          },
          "metadata": {},
          "output_type": "display_data"
        }
      ],
      "source": [
        "p.plot(forecast_prediction)\n",
        "\n",
        "# Customize the plot\n",
        "plt.xlabel('Date')\n",
        "plt.ylabel('Expense Prediction')\n",
        "plt.title('Expense Forecast')\n",
        "\n"
      ]
    },
    {
      "cell_type": "code",
      "execution_count": null,
      "id": "f6e3e094",
      "metadata": {
        "id": "f6e3e094",
        "outputId": "fe8f3d16-53f2-4309-d9c9-37c9abbcf551"
      },
      "outputs": [
        {
          "data": {
            "image/png": "[encoded data removed]",
            "text/plain": [
              "<Figure size 900x900 with 3 Axes>"
            ]
          },
          "metadata": {},
          "output_type": "display_data"
        }
      ],
      "source": [
        "fig = p.plot_components(forecast_prediction)\n",
        "plt.show()\n"
      ]
    },
    {
      "cell_type": "code",
      "execution_count": null,
      "id": "a5d3cb09",
      "metadata": {
        "id": "a5d3cb09",
        "outputId": "be0e6d43-5bf8-426e-b26b-2a5b00692e7b"
      },
      "outputs": [
        {
          "data": {
            "image/png": "[encoded data removed]",
            "text/plain": [
              "<Figure size 1000x600 with 1 Axes>"
            ]
          },
          "metadata": {
            "needs_background": "light"
          },
          "output_type": "display_data"
        }
      ],
      "source": [
        "sns.scatterplot(x='ds', y='y', data=expense_df_TSA)\n",
        "plt.show()"
      ]
    },
    {
      "cell_type": "code",
      "execution_count": null,
      "id": "94c49d84",
      "metadata": {
        "id": "94c49d84",
        "outputId": "5c2e85ad-c4a6-467b-fdeb-fc8242f6d31f",
        "scrolled": false
      },
      "outputs": [
        {
          "name": "stdout",
          "output_type": "stream",
          "text": [
            "[[300.]]\n"
          ]
        }
      ],
      "source": [
        "import pandas as pd\n",
        "\n",
        "# Create some dummy data\n",
        "data = expense_df['Amount']\n",
        "\n",
        "# Create windows of size 4\n",
        "windows = data.rolling(2)\n",
        "\n",
        "# Apply a function to each window to get the inputs and outputs\n",
        "# For example, use the mean as input and the last value as output\n",
        "X = windows.mean().dropna()\n",
        "y = windows.apply(lambda x: data[1]).dropna()\n",
        "\n",
        "# Create and fit a linear regression model\n",
        "model = LinearRegression()\n",
        "model.fit(X.values.reshape(-1, 1), y.values.reshape(-1, 1))\n",
        "\n",
        "# Make predictions on new data\n",
        "new_data = pd.Series([0,299])\n",
        "new_window = new_data.rolling(2).mean().dropna()\n",
        "prediction = model.predict(new_window.values.reshape(-1, 1))\n",
        "print(prediction)\n"
      ]
    },
    {
      "cell_type": "markdown",
      "id": "c01bfd52",
      "metadata": {
        "id": "c01bfd52"
      },
      "source": [
        "## Decision Tree"
      ]
    },
    {
      "cell_type": "code",
      "execution_count": null,
      "id": "96cdecb5",
      "metadata": {
        "id": "96cdecb5",
        "outputId": "2725b048-edb4-47c0-805d-4651bc233517"
      },
      "outputs": [
        {
          "name": "stdout",
          "output_type": "stream",
          "text": [
            "Root Mean Squared Error: 583.9891899790842\n"
          ]
        }
      ],
      "source": [
        "## features (X) and target (y)\n",
        "X = expense_df[['category_code']]\n",
        "y = expense_df['Amount']\n",
        "\n",
        "# Split the data into training and testing sets\n",
        "X_train, X_test, y_train, y_test = train_test_split(X, y, test_size=0.2, random_state=42)\n",
        "\n",
        "# Create and train the Decision Tree regressor\n",
        "regressor = DecisionTreeRegressor(random_state=42)\n",
        "regressor.fit(X_train, y_train)\n",
        "\n",
        "# Make predictions on the test set\n",
        "y_pred = regressor.predict(X_test)\n",
        "\n",
        "# Calculate the root mean squared error\n",
        "rmse = mean_squared_error(y_test, y_pred, squared=False)\n",
        "print(\"Root Mean Squared Error:\", rmse)\n"
      ]
    },
    {
      "cell_type": "code",
      "execution_count": null,
      "id": "becc3362",
      "metadata": {
        "id": "becc3362",
        "outputId": "8297bb05-00ec-46f4-ac53-955ff87056a2"
      },
      "outputs": [
        {
          "data": {
            "image/png": "[encoded data removed]",
            "text/plain": [
              "<Figure size 1000x600 with 1 Axes>"
            ]
          },
          "metadata": {
            "needs_background": "light"
          },
          "output_type": "display_data"
        }
      ],
      "source": [
        "plt.scatter(y_test, y_pred)\n",
        "plt.xlabel('Actual Expenses')\n",
        "plt.ylabel('Predicted Expenses')\n",
        "plt.title('Actual vs Predicted Expenses')\n",
        "plt.show()"
      ]
    }
  ],
  "metadata": {
    "colab": {
      "include_colab_link": true,
      "provenance": []
    },
    "kernelspec": {
      "display_name": "Python 3 (ipykernel)",
      "language": "python",
      "name": "python3"
    },
    "language_info": {
      "codemirror_mode": {
        "name": "ipython",
        "version": 3
      },
      "file_extension": ".py",
      "mimetype": "text/x-python",
      "name": "python",
      "nbconvert_exporter": "python",
      "pygments_lexer": "ipython3",
      "version": "3.12.2"
    }
  },
  "nbformat": 4,
  "nbformat_minor": 5
}
